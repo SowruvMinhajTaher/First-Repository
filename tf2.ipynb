{
  "nbformat": 4,
  "nbformat_minor": 0,
  "metadata": {
    "colab": {
      "name": "tf2.ipynb",
      "provenance": [],
      "collapsed_sections": [],
      "authorship_tag": "ABX9TyMbXtXSa+o9q8Ej+w5R7XyN",
      "include_colab_link": true
    },
    "kernelspec": {
      "name": "python3",
      "display_name": "Python 3"
    },
    "language_info": {
      "name": "python"
    }
  },
  "cells": [
    {
      "cell_type": "markdown",
      "metadata": {
        "id": "view-in-github",
        "colab_type": "text"
      },
      "source": [
        "<a href=\"https://colab.research.google.com/github/SowruvMinhajTaher/First-Repository/blob/main/tf2.ipynb\" target=\"_parent\"><img src=\"https://colab.research.google.com/assets/colab-badge.svg\" alt=\"Open In Colab\"/></a>"
      ]
    },
    {
      "cell_type": "markdown",
      "metadata": {
        "id": "DxGkHleoZAth"
      },
      "source": [
        "# introduction to regression with neural networks in Tensorflow"
      ]
    },
    {
      "cell_type": "code",
      "metadata": {
        "colab": {
          "base_uri": "https://localhost:8080/",
          "height": 35
        },
        "id": "XdphIeN2gF1_",
        "outputId": "edf947b7-f1cb-48b4-c849-1406e35b67ca"
      },
      "source": [
        "import tensorflow as tf\n",
        "tf.__version__"
      ],
      "execution_count": 94,
      "outputs": [
        {
          "output_type": "execute_result",
          "data": {
            "application/vnd.google.colaboratory.intrinsic+json": {
              "type": "string"
            },
            "text/plain": [
              "'2.5.0'"
            ]
          },
          "metadata": {
            "tags": []
          },
          "execution_count": 94
        }
      ]
    },
    {
      "cell_type": "code",
      "metadata": {
        "colab": {
          "base_uri": "https://localhost:8080/",
          "height": 265
        },
        "id": "f_aB3nMSgWK2",
        "outputId": "f80a1c05-3bc3-486e-8df6-911644dd393b"
      },
      "source": [
        "# creating data to view and fit\n",
        "import numpy as np\n",
        "import matplotlib.pyplot as plt\n",
        "# create features\n",
        "x=np.array([-7,-4,-1,2,5,7,11,14])\n",
        "# create labels\n",
        "y = np.array([3,6,9,13,16,19,22,25])\n",
        "plt.scatter(x,y);"
      ],
      "execution_count": 95,
      "outputs": [
        {
          "output_type": "display_data",
          "data": {
            "image/png": "[encoded data removed]",
            "text/plain": [
              "<Figure size 432x288 with 1 Axes>"
            ]
          },
          "metadata": {
            "tags": [],
            "needs_background": "light"
          }
        }
      ]
    },
    {
      "cell_type": "code",
      "metadata": {
        "colab": {
          "base_uri": "https://localhost:8080/"
        },
        "id": "swY-U0PEgfiO",
        "outputId": "51eecf79-6e01-4188-c4bf-68b0d9d44515"
      },
      "source": [
        "y==x+10"
      ],
      "execution_count": 96,
      "outputs": [
        {
          "output_type": "execute_result",
          "data": {
            "text/plain": [
              "array([ True,  True,  True, False, False, False, False, False])"
            ]
          },
          "metadata": {
            "tags": []
          },
          "execution_count": 96
        }
      ]
    },
    {
      "cell_type": "code",
      "metadata": {
        "colab": {
          "base_uri": "https://localhost:8080/"
        },
        "id": "QRSIuMOphjJq",
        "outputId": "e65571a7-7639-4f13-fd34-b94d63d063e6"
      },
      "source": [
        "x.shape, y.shape"
      ],
      "execution_count": 97,
      "outputs": [
        {
          "output_type": "execute_result",
          "data": {
            "text/plain": [
              "((8,), (8,))"
            ]
          },
          "metadata": {
            "tags": []
          },
          "execution_count": 97
        }
      ]
    },
    {
      "cell_type": "markdown",
      "metadata": {
        "id": "GkHuR_CTiCq0"
      },
      "source": [
        "# input and output shapes"
      ]
    },
    {
      "cell_type": "code",
      "metadata": {
        "colab": {
          "base_uri": "https://localhost:8080/"
        },
        "id": "FjxJ38hQhpqR",
        "outputId": "f332f503-1dca-4642-c25e-b4659fb648d0"
      },
      "source": [
        "# create a demo tensor for our housing price prediction problem\n",
        "house_info=tf.constant(['bedroom','bathroom','garage'])\n",
        "house_price=tf.constant([939000])\n",
        "house_info,house_price"
      ],
      "execution_count": 98,
      "outputs": [
        {
          "output_type": "execute_result",
          "data": {
            "text/plain": [
              "(<tf.Tensor: shape=(3,), dtype=string, numpy=array([b'bedroom', b'bathroom', b'garage'], dtype=object)>,\n",
              " <tf.Tensor: shape=(1,), dtype=int32, numpy=array([939000], dtype=int32)>)"
            ]
          },
          "metadata": {
            "tags": []
          },
          "execution_count": 98
        }
      ]
    },
    {
      "cell_type": "code",
      "metadata": {
        "colab": {
          "base_uri": "https://localhost:8080/"
        },
        "id": "bOwjCXxKidyj",
        "outputId": "8a58c826-4b1f-4a91-f859-f4cf074dc82a"
      },
      "source": [
        "input_shape=x[0].shape\n",
        "output_shape = y[0].shape\n",
        "input_shape,output_shape"
      ],
      "execution_count": 99,
      "outputs": [
        {
          "output_type": "execute_result",
          "data": {
            "text/plain": [
              "((), ())"
            ]
          },
          "metadata": {
            "tags": []
          },
          "execution_count": 99
        }
      ]
    },
    {
      "cell_type": "code",
      "metadata": {
        "colab": {
          "base_uri": "https://localhost:8080/"
        },
        "id": "RtsChP8Ui0H7",
        "outputId": "6f33d63a-f29a-4a99-8af1-f21256080aee"
      },
      "source": [
        "x[0],y[0]"
      ],
      "execution_count": 100,
      "outputs": [
        {
          "output_type": "execute_result",
          "data": {
            "text/plain": [
              "(-7, 3)"
            ]
          },
          "metadata": {
            "tags": []
          },
          "execution_count": 100
        }
      ]
    },
    {
      "cell_type": "code",
      "metadata": {
        "colab": {
          "base_uri": "https://localhost:8080/"
        },
        "id": "uH9tDo50jAom",
        "outputId": "ab49b06d-6d18-4321-b050-a1cdc6989546"
      },
      "source": [
        "x[1],y[1]"
      ],
      "execution_count": 101,
      "outputs": [
        {
          "output_type": "execute_result",
          "data": {
            "text/plain": [
              "(-4, 6)"
            ]
          },
          "metadata": {
            "tags": []
          },
          "execution_count": 101
        }
      ]
    },
    {
      "cell_type": "code",
      "metadata": {
        "colab": {
          "base_uri": "https://localhost:8080/"
        },
        "id": "ocV7RJ7cjGCd",
        "outputId": "d139b159-0947-4fbd-85ea-d8ab15081057"
      },
      "source": [
        "x[0].ndim # scalar"
      ],
      "execution_count": 102,
      "outputs": [
        {
          "output_type": "execute_result",
          "data": {
            "text/plain": [
              "0"
            ]
          },
          "metadata": {
            "tags": []
          },
          "execution_count": 102
        }
      ]
    },
    {
      "cell_type": "code",
      "metadata": {
        "colab": {
          "base_uri": "https://localhost:8080/"
        },
        "id": "rsDP55edjYQW",
        "outputId": "99f54c92-a1ee-4a57-8a23-3b7353f79d70"
      },
      "source": [
        "# turn our numpy array into tensors\n",
        "x=tf.constant(x)\n",
        "y=tf.constant(y)\n",
        "x,y"
      ],
      "execution_count": 103,
      "outputs": [
        {
          "output_type": "execute_result",
          "data": {
            "text/plain": [
              "(<tf.Tensor: shape=(8,), dtype=int64, numpy=array([-7, -4, -1,  2,  5,  7, 11, 14])>,\n",
              " <tf.Tensor: shape=(8,), dtype=int64, numpy=array([ 3,  6,  9, 13, 16, 19, 22, 25])>)"
            ]
          },
          "metadata": {
            "tags": []
          },
          "execution_count": 103
        }
      ]
    },
    {
      "cell_type": "markdown",
      "metadata": {
        "id": "eGGys9Cej2N9"
      },
      "source": [
        "## Steps in modelling with TensorFlow\n",
        "1.**creating model**-define the input and output layers,as well as hidden layers of a deep learning model.\n",
        "2.**compiling model**-define loss function(the function which tells how wrong our model is) and \n",
        "the optimizer (tells our model how to improve the patterns it is learning) and \n",
        "evaluation metrics (what we can use to intercept the performance of our model)\n",
        "3.**Fitting a model**(letting the model try to find patterns between x and y (features and labels)\n"
      ]
    },
    {
      "cell_type": "code",
      "metadata": {
        "colab": {
          "base_uri": "https://localhost:8080/"
        },
        "id": "wcB7hrq4mJEm",
        "outputId": "8a1c50ed-a749-418c-b9a0-b8fe1e5c4cec"
      },
      "source": [
        "tf.random.set_seed(42)\n",
        "#1 create a model using the Sequential API\n",
        "model = tf.keras.Sequential([\n",
        "     tf.keras.layers.Dense(1)                        \n",
        "])\n",
        "#2 compile model\n",
        "model.compile(loss=tf.keras.losses.mae,\n",
        "              optimizer=tf.keras.optimizers.SGD(),\n",
        "              metrics=[\"mae\"])\n",
        "# fit model\n",
        "model.fit(x,y,epochs=500)\n"
      ],
      "execution_count": 104,
      "outputs": [
        {
          "output_type": "stream",
          "text": [
            "Epoch 1/500\n",
            "1/1 [==============================] - 0s 285ms/step - loss: 12.2010 - mae: 12.2010\n",
            "Epoch 2/500\n",
            "1/1 [==============================] - 0s 5ms/step - loss: 12.0771 - mae: 12.0771\n",
            "Epoch 3/500\n",
            "1/1 [==============================] - 0s 5ms/step - loss: 11.9532 - mae: 11.9532\n",
            "Epoch 4/500\n",
            "1/1 [==============================] - 0s 6ms/step - loss: 11.8293 - mae: 11.8293\n",
            "Epoch 5/500\n",
            "1/1 [==============================] - 0s 8ms/step - loss: 11.7054 - mae: 11.7054\n",
            "Epoch 6/500\n",
            "1/1 [==============================] - 0s 7ms/step - loss: 11.5815 - mae: 11.5815\n",
            "Epoch 7/500\n",
            "1/1 [==============================] - 0s 7ms/step - loss: 11.4576 - mae: 11.4576\n",
            "Epoch 8/500\n",
            "1/1 [==============================] - 0s 17ms/step - loss: 11.3337 - mae: 11.3337\n",
            "Epoch 9/500\n",
            "1/1 [==============================] - 0s 10ms/step - loss: 11.2098 - mae: 11.2098\n",
            "Epoch 10/500\n",
            "1/1 [==============================] - 0s 6ms/step - loss: 11.0859 - mae: 11.0859\n",
            "Epoch 11/500\n",
            "1/1 [==============================] - 0s 4ms/step - loss: 10.9620 - mae: 10.9620\n",
            "Epoch 12/500\n",
            "1/1 [==============================] - 0s 6ms/step - loss: 10.8381 - mae: 10.8381\n",
            "Epoch 13/500\n",
            "1/1 [==============================] - 0s 6ms/step - loss: 10.7142 - mae: 10.7142\n",
            "Epoch 14/500\n",
            "1/1 [==============================] - 0s 5ms/step - loss: 10.5903 - mae: 10.5903\n",
            "Epoch 15/500\n",
            "1/1 [==============================] - 0s 13ms/step - loss: 10.4664 - mae: 10.4664\n",
            "Epoch 16/500\n",
            "1/1 [==============================] - 0s 5ms/step - loss: 10.3425 - mae: 10.3425\n",
            "Epoch 17/500\n",
            "1/1 [==============================] - 0s 7ms/step - loss: 10.2185 - mae: 10.2185\n",
            "Epoch 18/500\n",
            "1/1 [==============================] - 0s 5ms/step - loss: 10.0946 - mae: 10.0946\n",
            "Epoch 19/500\n",
            "1/1 [==============================] - 0s 6ms/step - loss: 9.9707 - mae: 9.9707\n",
            "Epoch 20/500\n",
            "1/1 [==============================] - 0s 6ms/step - loss: 9.8468 - mae: 9.8468\n",
            "Epoch 21/500\n",
            "1/1 [==============================] - 0s 8ms/step - loss: 9.7229 - mae: 9.7229\n",
            "Epoch 22/500\n",
            "1/1 [==============================] - 0s 5ms/step - loss: 9.5990 - mae: 9.5990\n",
            "Epoch 23/500\n",
            "1/1 [==============================] - 0s 6ms/step - loss: 9.4751 - mae: 9.4751\n",
            "Epoch 24/500\n",
            "1/1 [==============================] - 0s 4ms/step - loss: 9.3512 - mae: 9.3512\n",
            "Epoch 25/500\n",
            "1/1 [==============================] - 0s 7ms/step - loss: 9.2273 - mae: 9.2273\n",
            "Epoch 26/500\n",
            "1/1 [==============================] - 0s 5ms/step - loss: 9.1034 - mae: 9.1034\n",
            "Epoch 27/500\n",
            "1/1 [==============================] - 0s 7ms/step - loss: 8.9795 - mae: 8.9795\n",
            "Epoch 28/500\n",
            "1/1 [==============================] - 0s 7ms/step - loss: 8.8556 - mae: 8.8556\n",
            "Epoch 29/500\n",
            "1/1 [==============================] - 0s 4ms/step - loss: 8.7317 - mae: 8.7317\n",
            "Epoch 30/500\n",
            "1/1 [==============================] - 0s 6ms/step - loss: 8.6078 - mae: 8.6078\n",
            "Epoch 31/500\n",
            "1/1 [==============================] - 0s 5ms/step - loss: 8.4839 - mae: 8.4839\n",
            "Epoch 32/500\n",
            "1/1 [==============================] - 0s 7ms/step - loss: 8.3600 - mae: 8.3600\n",
            "Epoch 33/500\n",
            "1/1 [==============================] - 0s 4ms/step - loss: 8.2360 - mae: 8.2360\n",
            "Epoch 34/500\n",
            "1/1 [==============================] - 0s 5ms/step - loss: 8.1121 - mae: 8.1121\n",
            "Epoch 35/500\n",
            "1/1 [==============================] - 0s 6ms/step - loss: 7.9882 - mae: 7.9882\n",
            "Epoch 36/500\n",
            "1/1 [==============================] - 0s 7ms/step - loss: 7.8643 - mae: 7.8643\n",
            "Epoch 37/500\n",
            "1/1 [==============================] - 0s 7ms/step - loss: 7.8281 - mae: 7.8281\n",
            "Epoch 38/500\n",
            "1/1 [==============================] - 0s 4ms/step - loss: 7.8224 - mae: 7.8224\n",
            "Epoch 39/500\n",
            "1/1 [==============================] - 0s 5ms/step - loss: 7.8166 - mae: 7.8166\n",
            "Epoch 40/500\n",
            "1/1 [==============================] - 0s 6ms/step - loss: 7.8108 - mae: 7.8108\n",
            "Epoch 41/500\n",
            "1/1 [==============================] - 0s 9ms/step - loss: 7.8050 - mae: 7.8050\n",
            "Epoch 42/500\n",
            "1/1 [==============================] - 0s 5ms/step - loss: 7.7992 - mae: 7.7992\n",
            "Epoch 43/500\n",
            "1/1 [==============================] - 0s 4ms/step - loss: 7.7934 - mae: 7.7934\n",
            "Epoch 44/500\n",
            "1/1 [==============================] - 0s 7ms/step - loss: 7.7877 - mae: 7.7877\n",
            "Epoch 45/500\n",
            "1/1 [==============================] - 0s 5ms/step - loss: 7.7819 - mae: 7.7819\n",
            "Epoch 46/500\n",
            "1/1 [==============================] - 0s 10ms/step - loss: 7.7761 - mae: 7.7761\n",
            "Epoch 47/500\n",
            "1/1 [==============================] - 0s 5ms/step - loss: 7.7703 - mae: 7.7703\n",
            "Epoch 48/500\n",
            "1/1 [==============================] - 0s 6ms/step - loss: 7.7645 - mae: 7.7645\n",
            "Epoch 49/500\n",
            "1/1 [==============================] - 0s 7ms/step - loss: 7.7588 - mae: 7.7588\n",
            "Epoch 50/500\n",
            "1/1 [==============================] - 0s 9ms/step - loss: 7.7530 - mae: 7.7530\n",
            "Epoch 51/500\n",
            "1/1 [==============================] - 0s 6ms/step - loss: 7.7472 - mae: 7.7472\n",
            "Epoch 52/500\n",
            "1/1 [==============================] - 0s 4ms/step - loss: 7.7414 - mae: 7.7414\n",
            "Epoch 53/500\n",
            "1/1 [==============================] - 0s 4ms/step - loss: 7.7356 - mae: 7.7356\n",
            "Epoch 54/500\n",
            "1/1 [==============================] - 0s 16ms/step - loss: 7.7299 - mae: 7.7299\n",
            "Epoch 55/500\n",
            "1/1 [==============================] - 0s 8ms/step - loss: 7.7241 - mae: 7.7241\n",
            "Epoch 56/500\n",
            "1/1 [==============================] - 0s 8ms/step - loss: 7.7183 - mae: 7.7183\n",
            "Epoch 57/500\n",
            "1/1 [==============================] - 0s 15ms/step - loss: 7.7125 - mae: 7.7125\n",
            "Epoch 58/500\n",
            "1/1 [==============================] - 0s 11ms/step - loss: 7.7067 - mae: 7.7067\n",
            "Epoch 59/500\n",
            "1/1 [==============================] - 0s 6ms/step - loss: 7.7009 - mae: 7.7009\n",
            "Epoch 60/500\n",
            "1/1 [==============================] - 0s 7ms/step - loss: 7.6952 - mae: 7.6952\n",
            "Epoch 61/500\n",
            "1/1 [==============================] - 0s 7ms/step - loss: 7.6894 - mae: 7.6894\n",
            "Epoch 62/500\n",
            "1/1 [==============================] - 0s 24ms/step - loss: 7.6836 - mae: 7.6836\n",
            "Epoch 63/500\n",
            "1/1 [==============================] - 0s 14ms/step - loss: 7.6778 - mae: 7.6778\n",
            "Epoch 64/500\n",
            "1/1 [==============================] - 0s 17ms/step - loss: 7.6720 - mae: 7.6720\n",
            "Epoch 65/500\n",
            "1/1 [==============================] - 0s 5ms/step - loss: 7.6663 - mae: 7.6663\n",
            "Epoch 66/500\n",
            "1/1 [==============================] - 0s 6ms/step - loss: 7.6605 - mae: 7.6605\n",
            "Epoch 67/500\n",
            "1/1 [==============================] - 0s 7ms/step - loss: 7.6547 - mae: 7.6547\n",
            "Epoch 68/500\n",
            "1/1 [==============================] - 0s 9ms/step - loss: 7.6489 - mae: 7.6489\n",
            "Epoch 69/500\n",
            "1/1 [==============================] - 0s 5ms/step - loss: 7.6431 - mae: 7.6431\n",
            "Epoch 70/500\n",
            "1/1 [==============================] - 0s 9ms/step - loss: 7.6374 - mae: 7.6374\n",
            "Epoch 71/500\n",
            "1/1 [==============================] - 0s 10ms/step - loss: 7.6316 - mae: 7.6316\n",
            "Epoch 72/500\n",
            "1/1 [==============================] - 0s 5ms/step - loss: 7.6258 - mae: 7.6258\n",
            "Epoch 73/500\n",
            "1/1 [==============================] - 0s 5ms/step - loss: 7.6223 - mae: 7.6223\n",
            "Epoch 74/500\n",
            "1/1 [==============================] - 0s 7ms/step - loss: 7.6167 - mae: 7.6167\n",
            "Epoch 75/500\n",
            "1/1 [==============================] - 0s 9ms/step - loss: 7.6109 - mae: 7.6109\n",
            "Epoch 76/500\n",
            "1/1 [==============================] - 0s 11ms/step - loss: 7.6052 - mae: 7.6052\n",
            "Epoch 77/500\n",
            "1/1 [==============================] - 0s 11ms/step - loss: 7.5994 - mae: 7.5994\n",
            "Epoch 78/500\n",
            "1/1 [==============================] - 0s 5ms/step - loss: 7.5936 - mae: 7.5936\n",
            "Epoch 79/500\n",
            "1/1 [==============================] - 0s 6ms/step - loss: 7.5878 - mae: 7.5878\n",
            "Epoch 80/500\n",
            "1/1 [==============================] - 0s 8ms/step - loss: 7.5820 - mae: 7.5820\n",
            "Epoch 81/500\n",
            "1/1 [==============================] - 0s 10ms/step - loss: 7.5763 - mae: 7.5763\n",
            "Epoch 82/500\n",
            "1/1 [==============================] - 0s 5ms/step - loss: 7.5705 - mae: 7.5705\n",
            "Epoch 83/500\n",
            "1/1 [==============================] - 0s 7ms/step - loss: 7.5647 - mae: 7.5647\n",
            "Epoch 84/500\n",
            "1/1 [==============================] - 0s 5ms/step - loss: 7.5589 - mae: 7.5589\n",
            "Epoch 85/500\n",
            "1/1 [==============================] - 0s 8ms/step - loss: 7.5531 - mae: 7.5531\n",
            "Epoch 86/500\n",
            "1/1 [==============================] - 0s 5ms/step - loss: 7.5474 - mae: 7.5474\n",
            "Epoch 87/500\n",
            "1/1 [==============================] - 0s 8ms/step - loss: 7.5416 - mae: 7.5416\n",
            "Epoch 88/500\n",
            "1/1 [==============================] - 0s 5ms/step - loss: 7.5358 - mae: 7.5358\n",
            "Epoch 89/500\n",
            "1/1 [==============================] - 0s 8ms/step - loss: 7.5300 - mae: 7.5300\n",
            "Epoch 90/500\n",
            "1/1 [==============================] - 0s 9ms/step - loss: 7.5242 - mae: 7.5242\n",
            "Epoch 91/500\n",
            "1/1 [==============================] - 0s 9ms/step - loss: 7.5184 - mae: 7.5184\n",
            "Epoch 92/500\n",
            "1/1 [==============================] - 0s 6ms/step - loss: 7.5127 - mae: 7.5127\n",
            "Epoch 93/500\n",
            "1/1 [==============================] - 0s 25ms/step - loss: 7.5069 - mae: 7.5069\n",
            "Epoch 94/500\n",
            "1/1 [==============================] - 0s 6ms/step - loss: 7.5011 - mae: 7.5011\n",
            "Epoch 95/500\n",
            "1/1 [==============================] - 0s 12ms/step - loss: 7.4953 - mae: 7.4953\n",
            "Epoch 96/500\n",
            "1/1 [==============================] - 0s 5ms/step - loss: 7.4895 - mae: 7.4895\n",
            "Epoch 97/500\n",
            "1/1 [==============================] - 0s 7ms/step - loss: 7.4838 - mae: 7.4838\n",
            "Epoch 98/500\n",
            "1/1 [==============================] - 0s 7ms/step - loss: 7.4780 - mae: 7.4780\n",
            "Epoch 99/500\n",
            "1/1 [==============================] - 0s 7ms/step - loss: 7.4722 - mae: 7.4722\n",
            "Epoch 100/500\n",
            "1/1 [==============================] - 0s 9ms/step - loss: 7.4664 - mae: 7.4664\n",
            "Epoch 101/500\n",
            "1/1 [==============================] - 0s 6ms/step - loss: 7.4606 - mae: 7.4606\n",
            "Epoch 102/500\n",
            "1/1 [==============================] - 0s 7ms/step - loss: 7.4549 - mae: 7.4549\n",
            "Epoch 103/500\n",
            "1/1 [==============================] - 0s 5ms/step - loss: 7.4491 - mae: 7.4491\n",
            "Epoch 104/500\n",
            "1/1 [==============================] - 0s 5ms/step - loss: 7.4433 - mae: 7.4433\n",
            "Epoch 105/500\n",
            "1/1 [==============================] - 0s 5ms/step - loss: 7.4375 - mae: 7.4375\n",
            "Epoch 106/500\n",
            "1/1 [==============================] - 0s 4ms/step - loss: 7.4317 - mae: 7.4317\n",
            "Epoch 107/500\n",
            "1/1 [==============================] - 0s 5ms/step - loss: 7.4259 - mae: 7.4259\n",
            "Epoch 108/500\n",
            "1/1 [==============================] - 0s 6ms/step - loss: 7.4202 - mae: 7.4202\n",
            "Epoch 109/500\n",
            "1/1 [==============================] - 0s 4ms/step - loss: 7.4144 - mae: 7.4144\n",
            "Epoch 110/500\n",
            "1/1 [==============================] - 0s 5ms/step - loss: 7.4086 - mae: 7.4086\n",
            "Epoch 111/500\n",
            "1/1 [==============================] - 0s 5ms/step - loss: 7.4028 - mae: 7.4028\n",
            "Epoch 112/500\n",
            "1/1 [==============================] - 0s 7ms/step - loss: 7.3970 - mae: 7.3970\n",
            "Epoch 113/500\n",
            "1/1 [==============================] - 0s 4ms/step - loss: 7.3913 - mae: 7.3913\n",
            "Epoch 114/500\n",
            "1/1 [==============================] - 0s 6ms/step - loss: 7.3855 - mae: 7.3855\n",
            "Epoch 115/500\n",
            "1/1 [==============================] - 0s 7ms/step - loss: 7.3797 - mae: 7.3797\n",
            "Epoch 116/500\n",
            "1/1 [==============================] - 0s 4ms/step - loss: 7.3739 - mae: 7.3739\n",
            "Epoch 117/500\n",
            "1/1 [==============================] - 0s 5ms/step - loss: 7.3681 - mae: 7.3681\n",
            "Epoch 118/500\n",
            "1/1 [==============================] - 0s 5ms/step - loss: 7.3624 - mae: 7.3624\n",
            "Epoch 119/500\n",
            "1/1 [==============================] - 0s 10ms/step - loss: 7.3566 - mae: 7.3566\n",
            "Epoch 120/500\n",
            "1/1 [==============================] - 0s 6ms/step - loss: 7.3508 - mae: 7.3508\n",
            "Epoch 121/500\n",
            "1/1 [==============================] - 0s 16ms/step - loss: 7.3450 - mae: 7.3450\n",
            "Epoch 122/500\n",
            "1/1 [==============================] - 0s 8ms/step - loss: 7.3409 - mae: 7.3409\n",
            "Epoch 123/500\n",
            "1/1 [==============================] - 0s 42ms/step - loss: 7.3359 - mae: 7.3359\n",
            "Epoch 124/500\n",
            "1/1 [==============================] - 0s 5ms/step - loss: 7.3302 - mae: 7.3302\n",
            "Epoch 125/500\n",
            "1/1 [==============================] - 0s 4ms/step - loss: 7.3244 - mae: 7.3244\n",
            "Epoch 126/500\n",
            "1/1 [==============================] - 0s 4ms/step - loss: 7.3186 - mae: 7.3186\n",
            "Epoch 127/500\n",
            "1/1 [==============================] - 0s 6ms/step - loss: 7.3128 - mae: 7.3128\n",
            "Epoch 128/500\n",
            "1/1 [==============================] - 0s 7ms/step - loss: 7.3070 - mae: 7.3070\n",
            "Epoch 129/500\n",
            "1/1 [==============================] - 0s 6ms/step - loss: 7.3013 - mae: 7.3013\n",
            "Epoch 130/500\n",
            "1/1 [==============================] - 0s 22ms/step - loss: 7.2955 - mae: 7.2955\n",
            "Epoch 131/500\n",
            "1/1 [==============================] - 0s 5ms/step - loss: 7.2897 - mae: 7.2897\n",
            "Epoch 132/500\n",
            "1/1 [==============================] - 0s 9ms/step - loss: 7.2839 - mae: 7.2839\n",
            "Epoch 133/500\n",
            "1/1 [==============================] - 0s 4ms/step - loss: 7.2781 - mae: 7.2781\n",
            "Epoch 134/500\n",
            "1/1 [==============================] - 0s 4ms/step - loss: 7.2724 - mae: 7.2724\n",
            "Epoch 135/500\n",
            "1/1 [==============================] - 0s 9ms/step - loss: 7.2666 - mae: 7.2666\n",
            "Epoch 136/500\n",
            "1/1 [==============================] - 0s 4ms/step - loss: 7.2608 - mae: 7.2608\n",
            "Epoch 137/500\n",
            "1/1 [==============================] - 0s 4ms/step - loss: 7.2550 - mae: 7.2550\n",
            "Epoch 138/500\n",
            "1/1 [==============================] - 0s 7ms/step - loss: 7.2492 - mae: 7.2492\n",
            "Epoch 139/500\n",
            "1/1 [==============================] - 0s 5ms/step - loss: 7.2434 - mae: 7.2434\n",
            "Epoch 140/500\n",
            "1/1 [==============================] - 0s 4ms/step - loss: 7.2377 - mae: 7.2377\n",
            "Epoch 141/500\n",
            "1/1 [==============================] - 0s 8ms/step - loss: 7.2319 - mae: 7.2319\n",
            "Epoch 142/500\n",
            "1/1 [==============================] - 0s 8ms/step - loss: 7.2261 - mae: 7.2261\n",
            "Epoch 143/500\n",
            "1/1 [==============================] - 0s 6ms/step - loss: 7.2203 - mae: 7.2203\n",
            "Epoch 144/500\n",
            "1/1 [==============================] - 0s 4ms/step - loss: 7.2145 - mae: 7.2145\n",
            "Epoch 145/500\n",
            "1/1 [==============================] - 0s 5ms/step - loss: 7.2088 - mae: 7.2088\n",
            "Epoch 146/500\n",
            "1/1 [==============================] - 0s 6ms/step - loss: 7.2030 - mae: 7.2030\n",
            "Epoch 147/500\n",
            "1/1 [==============================] - 0s 9ms/step - loss: 7.1972 - mae: 7.1972\n",
            "Epoch 148/500\n",
            "1/1 [==============================] - 0s 8ms/step - loss: 7.1914 - mae: 7.1914\n",
            "Epoch 149/500\n",
            "1/1 [==============================] - 0s 13ms/step - loss: 7.1856 - mae: 7.1856\n",
            "Epoch 150/500\n",
            "1/1 [==============================] - 0s 8ms/step - loss: 7.1799 - mae: 7.1799\n",
            "Epoch 151/500\n",
            "1/1 [==============================] - 0s 5ms/step - loss: 7.1741 - mae: 7.1741\n",
            "Epoch 152/500\n",
            "1/1 [==============================] - 0s 4ms/step - loss: 7.1683 - mae: 7.1683\n",
            "Epoch 153/500\n",
            "1/1 [==============================] - 0s 7ms/step - loss: 7.1625 - mae: 7.1625\n",
            "Epoch 154/500\n",
            "1/1 [==============================] - 0s 5ms/step - loss: 7.1567 - mae: 7.1567\n",
            "Epoch 155/500\n",
            "1/1 [==============================] - 0s 4ms/step - loss: 7.1509 - mae: 7.1509\n",
            "Epoch 156/500\n",
            "1/1 [==============================] - 0s 8ms/step - loss: 7.1452 - mae: 7.1452\n",
            "Epoch 157/500\n",
            "1/1 [==============================] - 0s 5ms/step - loss: 7.1394 - mae: 7.1394\n",
            "Epoch 158/500\n",
            "1/1 [==============================] - 0s 5ms/step - loss: 7.1336 - mae: 7.1336\n",
            "Epoch 159/500\n",
            "1/1 [==============================] - 0s 12ms/step - loss: 7.1278 - mae: 7.1278\n",
            "Epoch 160/500\n",
            "1/1 [==============================] - 0s 16ms/step - loss: 7.1220 - mae: 7.1220\n",
            "Epoch 161/500\n",
            "1/1 [==============================] - 0s 13ms/step - loss: 7.1163 - mae: 7.1163\n",
            "Epoch 162/500\n",
            "1/1 [==============================] - 0s 13ms/step - loss: 7.1105 - mae: 7.1105\n",
            "Epoch 163/500\n",
            "1/1 [==============================] - 0s 5ms/step - loss: 7.1047 - mae: 7.1047\n",
            "Epoch 164/500\n",
            "1/1 [==============================] - 0s 4ms/step - loss: 7.0989 - mae: 7.0989\n",
            "Epoch 165/500\n",
            "1/1 [==============================] - 0s 10ms/step - loss: 7.0931 - mae: 7.0931\n",
            "Epoch 166/500\n",
            "1/1 [==============================] - 0s 7ms/step - loss: 7.0873 - mae: 7.0873\n",
            "Epoch 167/500\n",
            "1/1 [==============================] - 0s 9ms/step - loss: 7.0816 - mae: 7.0816\n",
            "Epoch 168/500\n",
            "1/1 [==============================] - 0s 8ms/step - loss: 7.0758 - mae: 7.0758\n",
            "Epoch 169/500\n",
            "1/1 [==============================] - 0s 6ms/step - loss: 7.0700 - mae: 7.0700\n",
            "Epoch 170/500\n",
            "1/1 [==============================] - 0s 19ms/step - loss: 7.0642 - mae: 7.0642\n",
            "Epoch 171/500\n",
            "1/1 [==============================] - 0s 4ms/step - loss: 7.0595 - mae: 7.0595\n",
            "Epoch 172/500\n",
            "1/1 [==============================] - 0s 7ms/step - loss: 7.0552 - mae: 7.0552\n",
            "Epoch 173/500\n",
            "1/1 [==============================] - 0s 4ms/step - loss: 7.0494 - mae: 7.0494\n",
            "Epoch 174/500\n",
            "1/1 [==============================] - 0s 5ms/step - loss: 7.0436 - mae: 7.0436\n",
            "Epoch 175/500\n",
            "1/1 [==============================] - 0s 7ms/step - loss: 7.0378 - mae: 7.0378\n",
            "Epoch 176/500\n",
            "1/1 [==============================] - 0s 5ms/step - loss: 7.0320 - mae: 7.0320\n",
            "Epoch 177/500\n",
            "1/1 [==============================] - 0s 7ms/step - loss: 7.0263 - mae: 7.0263\n",
            "Epoch 178/500\n",
            "1/1 [==============================] - 0s 5ms/step - loss: 7.0205 - mae: 7.0205\n",
            "Epoch 179/500\n",
            "1/1 [==============================] - 0s 8ms/step - loss: 7.0147 - mae: 7.0147\n",
            "Epoch 180/500\n",
            "1/1 [==============================] - 0s 5ms/step - loss: 7.0089 - mae: 7.0089\n",
            "Epoch 181/500\n",
            "1/1 [==============================] - 0s 7ms/step - loss: 7.0031 - mae: 7.0031\n",
            "Epoch 182/500\n",
            "1/1 [==============================] - 0s 5ms/step - loss: 6.9973 - mae: 6.9973\n",
            "Epoch 183/500\n",
            "1/1 [==============================] - 0s 7ms/step - loss: 6.9916 - mae: 6.9916\n",
            "Epoch 184/500\n",
            "1/1 [==============================] - 0s 5ms/step - loss: 6.9858 - mae: 6.9858\n",
            "Epoch 185/500\n",
            "1/1 [==============================] - 0s 6ms/step - loss: 6.9800 - mae: 6.9800\n",
            "Epoch 186/500\n",
            "1/1 [==============================] - 0s 8ms/step - loss: 6.9742 - mae: 6.9742\n",
            "Epoch 187/500\n",
            "1/1 [==============================] - 0s 4ms/step - loss: 6.9684 - mae: 6.9684\n",
            "Epoch 188/500\n",
            "1/1 [==============================] - 0s 15ms/step - loss: 6.9627 - mae: 6.9627\n",
            "Epoch 189/500\n",
            "1/1 [==============================] - 0s 5ms/step - loss: 6.9569 - mae: 6.9569\n",
            "Epoch 190/500\n",
            "1/1 [==============================] - 0s 7ms/step - loss: 6.9511 - mae: 6.9511\n",
            "Epoch 191/500\n",
            "1/1 [==============================] - 0s 5ms/step - loss: 6.9453 - mae: 6.9453\n",
            "Epoch 192/500\n",
            "1/1 [==============================] - 0s 9ms/step - loss: 6.9395 - mae: 6.9395\n",
            "Epoch 193/500\n",
            "1/1 [==============================] - 0s 5ms/step - loss: 6.9338 - mae: 6.9338\n",
            "Epoch 194/500\n",
            "1/1 [==============================] - 0s 10ms/step - loss: 6.9280 - mae: 6.9280\n",
            "Epoch 195/500\n",
            "1/1 [==============================] - 0s 8ms/step - loss: 6.9222 - mae: 6.9222\n",
            "Epoch 196/500\n",
            "1/1 [==============================] - 0s 5ms/step - loss: 6.9164 - mae: 6.9164\n",
            "Epoch 197/500\n",
            "1/1 [==============================] - 0s 5ms/step - loss: 6.9106 - mae: 6.9106\n",
            "Epoch 198/500\n",
            "1/1 [==============================] - 0s 9ms/step - loss: 6.9048 - mae: 6.9048\n",
            "Epoch 199/500\n",
            "1/1 [==============================] - 0s 5ms/step - loss: 6.8991 - mae: 6.8991\n",
            "Epoch 200/500\n",
            "1/1 [==============================] - 0s 7ms/step - loss: 6.8933 - mae: 6.8933\n",
            "Epoch 201/500\n",
            "1/1 [==============================] - 0s 22ms/step - loss: 6.8875 - mae: 6.8875\n",
            "Epoch 202/500\n",
            "1/1 [==============================] - 0s 7ms/step - loss: 6.8817 - mae: 6.8817\n",
            "Epoch 203/500\n",
            "1/1 [==============================] - 0s 9ms/step - loss: 6.8759 - mae: 6.8759\n",
            "Epoch 204/500\n",
            "1/1 [==============================] - 0s 5ms/step - loss: 6.8702 - mae: 6.8702\n",
            "Epoch 205/500\n",
            "1/1 [==============================] - 0s 8ms/step - loss: 6.8644 - mae: 6.8644\n",
            "Epoch 206/500\n",
            "1/1 [==============================] - 0s 5ms/step - loss: 6.8586 - mae: 6.8586\n",
            "Epoch 207/500\n",
            "1/1 [==============================] - 0s 5ms/step - loss: 6.8528 - mae: 6.8528\n",
            "Epoch 208/500\n",
            "1/1 [==============================] - 0s 12ms/step - loss: 6.8470 - mae: 6.8470\n",
            "Epoch 209/500\n",
            "1/1 [==============================] - 0s 5ms/step - loss: 6.8413 - mae: 6.8413\n",
            "Epoch 210/500\n",
            "1/1 [==============================] - 0s 5ms/step - loss: 6.8355 - mae: 6.8355\n",
            "Epoch 211/500\n",
            "1/1 [==============================] - 0s 9ms/step - loss: 6.8297 - mae: 6.8297\n",
            "Epoch 212/500\n",
            "1/1 [==============================] - 0s 5ms/step - loss: 6.8239 - mae: 6.8239\n",
            "Epoch 213/500\n",
            "1/1 [==============================] - 0s 5ms/step - loss: 6.8181 - mae: 6.8181\n",
            "Epoch 214/500\n",
            "1/1 [==============================] - 0s 21ms/step - loss: 6.8123 - mae: 6.8123\n",
            "Epoch 215/500\n",
            "1/1 [==============================] - 0s 5ms/step - loss: 6.8066 - mae: 6.8066\n",
            "Epoch 216/500\n",
            "1/1 [==============================] - 0s 11ms/step - loss: 6.8008 - mae: 6.8008\n",
            "Epoch 217/500\n",
            "1/1 [==============================] - 0s 9ms/step - loss: 6.7950 - mae: 6.7950\n",
            "Epoch 218/500\n",
            "1/1 [==============================] - 0s 6ms/step - loss: 6.7892 - mae: 6.7892\n",
            "Epoch 219/500\n",
            "1/1 [==============================] - 0s 14ms/step - loss: 6.7834 - mae: 6.7834\n",
            "Epoch 220/500\n",
            "1/1 [==============================] - 0s 6ms/step - loss: 6.7781 - mae: 6.7781\n",
            "Epoch 221/500\n",
            "1/1 [==============================] - 0s 9ms/step - loss: 6.7744 - mae: 6.7744\n",
            "Epoch 222/500\n",
            "1/1 [==============================] - 0s 7ms/step - loss: 6.7686 - mae: 6.7686\n",
            "Epoch 223/500\n",
            "1/1 [==============================] - 0s 5ms/step - loss: 6.7628 - mae: 6.7628\n",
            "Epoch 224/500\n",
            "1/1 [==============================] - 0s 6ms/step - loss: 6.7570 - mae: 6.7570\n",
            "Epoch 225/500\n",
            "1/1 [==============================] - 0s 5ms/step - loss: 6.7513 - mae: 6.7513\n",
            "Epoch 226/500\n",
            "1/1 [==============================] - 0s 5ms/step - loss: 6.7455 - mae: 6.7455\n",
            "Epoch 227/500\n",
            "1/1 [==============================] - 0s 11ms/step - loss: 6.7397 - mae: 6.7397\n",
            "Epoch 228/500\n",
            "1/1 [==============================] - 0s 4ms/step - loss: 6.7339 - mae: 6.7339\n",
            "Epoch 229/500\n",
            "1/1 [==============================] - 0s 6ms/step - loss: 6.7281 - mae: 6.7281\n",
            "Epoch 230/500\n",
            "1/1 [==============================] - 0s 6ms/step - loss: 6.7223 - mae: 6.7223\n",
            "Epoch 231/500\n",
            "1/1 [==============================] - 0s 5ms/step - loss: 6.7166 - mae: 6.7166\n",
            "Epoch 232/500\n",
            "1/1 [==============================] - 0s 15ms/step - loss: 6.7108 - mae: 6.7108\n",
            "Epoch 233/500\n",
            "1/1 [==============================] - 0s 7ms/step - loss: 6.7050 - mae: 6.7050\n",
            "Epoch 234/500\n",
            "1/1 [==============================] - 0s 7ms/step - loss: 6.6992 - mae: 6.6992\n",
            "Epoch 235/500\n",
            "1/1 [==============================] - 0s 8ms/step - loss: 6.6934 - mae: 6.6934\n",
            "Epoch 236/500\n",
            "1/1 [==============================] - 0s 11ms/step - loss: 6.6877 - mae: 6.6877\n",
            "Epoch 237/500\n",
            "1/1 [==============================] - 0s 7ms/step - loss: 6.6819 - mae: 6.6819\n",
            "Epoch 238/500\n",
            "1/1 [==============================] - 0s 8ms/step - loss: 6.6761 - mae: 6.6761\n",
            "Epoch 239/500\n",
            "1/1 [==============================] - 0s 9ms/step - loss: 6.6703 - mae: 6.6703\n",
            "Epoch 240/500\n",
            "1/1 [==============================] - 0s 13ms/step - loss: 6.6645 - mae: 6.6645\n",
            "Epoch 241/500\n",
            "1/1 [==============================] - 0s 4ms/step - loss: 6.6588 - mae: 6.6588\n",
            "Epoch 242/500\n",
            "1/1 [==============================] - 0s 7ms/step - loss: 6.6530 - mae: 6.6530\n",
            "Epoch 243/500\n",
            "1/1 [==============================] - 0s 5ms/step - loss: 6.6472 - mae: 6.6472\n",
            "Epoch 244/500\n",
            "1/1 [==============================] - 0s 6ms/step - loss: 6.6414 - mae: 6.6414\n",
            "Epoch 245/500\n",
            "1/1 [==============================] - 0s 7ms/step - loss: 6.6356 - mae: 6.6356\n",
            "Epoch 246/500\n",
            "1/1 [==============================] - 0s 5ms/step - loss: 6.6298 - mae: 6.6298\n",
            "Epoch 247/500\n",
            "1/1 [==============================] - 0s 7ms/step - loss: 6.6241 - mae: 6.6241\n",
            "Epoch 248/500\n",
            "1/1 [==============================] - 0s 8ms/step - loss: 6.6183 - mae: 6.6183\n",
            "Epoch 249/500\n",
            "1/1 [==============================] - 0s 8ms/step - loss: 6.6125 - mae: 6.6125\n",
            "Epoch 250/500\n",
            "1/1 [==============================] - 0s 5ms/step - loss: 6.6067 - mae: 6.6067\n",
            "Epoch 251/500\n",
            "1/1 [==============================] - 0s 6ms/step - loss: 6.6009 - mae: 6.6009\n",
            "Epoch 252/500\n",
            "1/1 [==============================] - 0s 7ms/step - loss: 6.5952 - mae: 6.5952\n",
            "Epoch 253/500\n",
            "1/1 [==============================] - 0s 8ms/step - loss: 6.5894 - mae: 6.5894\n",
            "Epoch 254/500\n",
            "1/1 [==============================] - 0s 5ms/step - loss: 6.5836 - mae: 6.5836\n",
            "Epoch 255/500\n",
            "1/1 [==============================] - 0s 18ms/step - loss: 6.5778 - mae: 6.5778\n",
            "Epoch 256/500\n",
            "1/1 [==============================] - 0s 4ms/step - loss: 6.5720 - mae: 6.5720\n",
            "Epoch 257/500\n",
            "1/1 [==============================] - 0s 8ms/step - loss: 6.5663 - mae: 6.5663\n",
            "Epoch 258/500\n",
            "1/1 [==============================] - 0s 5ms/step - loss: 6.5605 - mae: 6.5605\n",
            "Epoch 259/500\n",
            "1/1 [==============================] - 0s 5ms/step - loss: 6.5547 - mae: 6.5547\n",
            "Epoch 260/500\n",
            "1/1 [==============================] - 0s 18ms/step - loss: 6.5489 - mae: 6.5489\n",
            "Epoch 261/500\n",
            "1/1 [==============================] - 0s 15ms/step - loss: 6.5431 - mae: 6.5431\n",
            "Epoch 262/500\n",
            "1/1 [==============================] - 0s 5ms/step - loss: 6.5373 - mae: 6.5373\n",
            "Epoch 263/500\n",
            "1/1 [==============================] - 0s 4ms/step - loss: 6.5316 - mae: 6.5316\n",
            "Epoch 264/500\n",
            "1/1 [==============================] - 0s 6ms/step - loss: 6.5258 - mae: 6.5258\n",
            "Epoch 265/500\n",
            "1/1 [==============================] - 0s 6ms/step - loss: 6.5200 - mae: 6.5200\n",
            "Epoch 266/500\n",
            "1/1 [==============================] - 0s 8ms/step - loss: 6.5142 - mae: 6.5142\n",
            "Epoch 267/500\n",
            "1/1 [==============================] - 0s 9ms/step - loss: 6.5084 - mae: 6.5084\n",
            "Epoch 268/500\n",
            "1/1 [==============================] - 0s 7ms/step - loss: 6.5027 - mae: 6.5027\n",
            "Epoch 269/500\n",
            "1/1 [==============================] - 0s 5ms/step - loss: 6.4969 - mae: 6.4969\n",
            "Epoch 270/500\n",
            "1/1 [==============================] - 0s 10ms/step - loss: 6.4934 - mae: 6.4934\n",
            "Epoch 271/500\n",
            "1/1 [==============================] - 0s 4ms/step - loss: 6.4878 - mae: 6.4878\n",
            "Epoch 272/500\n",
            "1/1 [==============================] - 0s 5ms/step - loss: 6.4820 - mae: 6.4820\n",
            "Epoch 273/500\n",
            "1/1 [==============================] - 0s 8ms/step - loss: 6.4763 - mae: 6.4763\n",
            "Epoch 274/500\n",
            "1/1 [==============================] - 0s 4ms/step - loss: 6.4705 - mae: 6.4705\n",
            "Epoch 275/500\n",
            "1/1 [==============================] - 0s 8ms/step - loss: 6.4647 - mae: 6.4647\n",
            "Epoch 276/500\n",
            "1/1 [==============================] - 0s 9ms/step - loss: 6.4589 - mae: 6.4589\n",
            "Epoch 277/500\n",
            "1/1 [==============================] - 0s 11ms/step - loss: 6.4531 - mae: 6.4531\n",
            "Epoch 278/500\n",
            "1/1 [==============================] - 0s 5ms/step - loss: 6.4473 - mae: 6.4473\n",
            "Epoch 279/500\n",
            "1/1 [==============================] - 0s 6ms/step - loss: 6.4416 - mae: 6.4416\n",
            "Epoch 280/500\n",
            "1/1 [==============================] - 0s 8ms/step - loss: 6.4358 - mae: 6.4358\n",
            "Epoch 281/500\n",
            "1/1 [==============================] - 0s 5ms/step - loss: 6.4300 - mae: 6.4300\n",
            "Epoch 282/500\n",
            "1/1 [==============================] - 0s 11ms/step - loss: 6.4242 - mae: 6.4242\n",
            "Epoch 283/500\n",
            "1/1 [==============================] - 0s 5ms/step - loss: 6.4184 - mae: 6.4184\n",
            "Epoch 284/500\n",
            "1/1 [==============================] - 0s 4ms/step - loss: 6.4127 - mae: 6.4127\n",
            "Epoch 285/500\n",
            "1/1 [==============================] - 0s 12ms/step - loss: 6.4069 - mae: 6.4069\n",
            "Epoch 286/500\n",
            "1/1 [==============================] - 0s 19ms/step - loss: 6.4011 - mae: 6.4011\n",
            "Epoch 287/500\n",
            "1/1 [==============================] - 0s 4ms/step - loss: 6.3953 - mae: 6.3953\n",
            "Epoch 288/500\n",
            "1/1 [==============================] - 0s 12ms/step - loss: 6.3895 - mae: 6.3895\n",
            "Epoch 289/500\n",
            "1/1 [==============================] - 0s 18ms/step - loss: 6.3838 - mae: 6.3838\n",
            "Epoch 290/500\n",
            "1/1 [==============================] - 0s 18ms/step - loss: 6.3780 - mae: 6.3780\n",
            "Epoch 291/500\n",
            "1/1 [==============================] - 0s 18ms/step - loss: 6.3722 - mae: 6.3722\n",
            "Epoch 292/500\n",
            "1/1 [==============================] - 0s 3ms/step - loss: 6.3664 - mae: 6.3664\n",
            "Epoch 293/500\n",
            "1/1 [==============================] - 0s 7ms/step - loss: 6.3606 - mae: 6.3606\n",
            "Epoch 294/500\n",
            "1/1 [==============================] - 0s 5ms/step - loss: 6.3548 - mae: 6.3548\n",
            "Epoch 295/500\n",
            "1/1 [==============================] - 0s 5ms/step - loss: 6.3491 - mae: 6.3491\n",
            "Epoch 296/500\n",
            "1/1 [==============================] - 0s 5ms/step - loss: 6.3433 - mae: 6.3433\n",
            "Epoch 297/500\n",
            "1/1 [==============================] - 0s 9ms/step - loss: 6.3375 - mae: 6.3375\n",
            "Epoch 298/500\n",
            "1/1 [==============================] - 0s 4ms/step - loss: 6.3317 - mae: 6.3317\n",
            "Epoch 299/500\n",
            "1/1 [==============================] - 0s 5ms/step - loss: 6.3259 - mae: 6.3259\n",
            "Epoch 300/500\n",
            "1/1 [==============================] - 0s 7ms/step - loss: 6.3202 - mae: 6.3202\n",
            "Epoch 301/500\n",
            "1/1 [==============================] - 0s 5ms/step - loss: 6.3144 - mae: 6.3144\n",
            "Epoch 302/500\n",
            "1/1 [==============================] - 0s 17ms/step - loss: 6.3086 - mae: 6.3086\n",
            "Epoch 303/500\n",
            "1/1 [==============================] - 0s 22ms/step - loss: 6.3028 - mae: 6.3028\n",
            "Epoch 304/500\n",
            "1/1 [==============================] - 0s 20ms/step - loss: 6.2970 - mae: 6.2970\n",
            "Epoch 305/500\n",
            "1/1 [==============================] - 0s 5ms/step - loss: 6.2913 - mae: 6.2913\n",
            "Epoch 306/500\n",
            "1/1 [==============================] - 0s 5ms/step - loss: 6.2855 - mae: 6.2855\n",
            "Epoch 307/500\n",
            "1/1 [==============================] - 0s 6ms/step - loss: 6.2797 - mae: 6.2797\n",
            "Epoch 308/500\n",
            "1/1 [==============================] - 0s 9ms/step - loss: 6.2739 - mae: 6.2739\n",
            "Epoch 309/500\n",
            "1/1 [==============================] - 0s 16ms/step - loss: 6.2681 - mae: 6.2681\n",
            "Epoch 310/500\n",
            "1/1 [==============================] - 0s 14ms/step - loss: 6.2623 - mae: 6.2623\n",
            "Epoch 311/500\n",
            "1/1 [==============================] - 0s 5ms/step - loss: 6.2566 - mae: 6.2566\n",
            "Epoch 312/500\n",
            "1/1 [==============================] - 0s 10ms/step - loss: 6.2508 - mae: 6.2508\n",
            "Epoch 313/500\n",
            "1/1 [==============================] - 0s 7ms/step - loss: 6.2450 - mae: 6.2450\n",
            "Epoch 314/500\n",
            "1/1 [==============================] - 0s 10ms/step - loss: 6.2392 - mae: 6.2392\n",
            "Epoch 315/500\n",
            "1/1 [==============================] - 0s 6ms/step - loss: 6.2334 - mae: 6.2334\n",
            "Epoch 316/500\n",
            "1/1 [==============================] - 0s 9ms/step - loss: 6.2277 - mae: 6.2277\n",
            "Epoch 317/500\n",
            "1/1 [==============================] - 0s 4ms/step - loss: 6.2219 - mae: 6.2219\n",
            "Epoch 318/500\n",
            "1/1 [==============================] - 0s 9ms/step - loss: 6.2161 - mae: 6.2161\n",
            "Epoch 319/500\n",
            "1/1 [==============================] - 0s 23ms/step - loss: 6.2120 - mae: 6.2120\n",
            "Epoch 320/500\n",
            "1/1 [==============================] - 0s 14ms/step - loss: 6.2070 - mae: 6.2070\n",
            "Epoch 321/500\n",
            "1/1 [==============================] - 0s 9ms/step - loss: 6.2013 - mae: 6.2013\n",
            "Epoch 322/500\n",
            "1/1 [==============================] - 0s 8ms/step - loss: 6.1955 - mae: 6.1955\n",
            "Epoch 323/500\n",
            "1/1 [==============================] - 0s 14ms/step - loss: 6.1897 - mae: 6.1897\n",
            "Epoch 324/500\n",
            "1/1 [==============================] - 0s 7ms/step - loss: 6.1839 - mae: 6.1839\n",
            "Epoch 325/500\n",
            "1/1 [==============================] - 0s 5ms/step - loss: 6.1781 - mae: 6.1781\n",
            "Epoch 326/500\n",
            "1/1 [==============================] - 0s 6ms/step - loss: 6.1723 - mae: 6.1723\n",
            "Epoch 327/500\n",
            "1/1 [==============================] - 0s 5ms/step - loss: 6.1666 - mae: 6.1666\n",
            "Epoch 328/500\n",
            "1/1 [==============================] - 0s 5ms/step - loss: 6.1608 - mae: 6.1608\n",
            "Epoch 329/500\n",
            "1/1 [==============================] - 0s 5ms/step - loss: 6.1550 - mae: 6.1550\n",
            "Epoch 330/500\n",
            "1/1 [==============================] - 0s 9ms/step - loss: 6.1492 - mae: 6.1492\n",
            "Epoch 331/500\n",
            "1/1 [==============================] - 0s 5ms/step - loss: 6.1434 - mae: 6.1434\n",
            "Epoch 332/500\n",
            "1/1 [==============================] - 0s 8ms/step - loss: 6.1377 - mae: 6.1377\n",
            "Epoch 333/500\n",
            "1/1 [==============================] - 0s 4ms/step - loss: 6.1319 - mae: 6.1319\n",
            "Epoch 334/500\n",
            "1/1 [==============================] - 0s 6ms/step - loss: 6.1261 - mae: 6.1261\n",
            "Epoch 335/500\n",
            "1/1 [==============================] - 0s 10ms/step - loss: 6.1203 - mae: 6.1203\n",
            "Epoch 336/500\n",
            "1/1 [==============================] - 0s 5ms/step - loss: 6.1145 - mae: 6.1145\n",
            "Epoch 337/500\n",
            "1/1 [==============================] - 0s 12ms/step - loss: 6.1088 - mae: 6.1088\n",
            "Epoch 338/500\n",
            "1/1 [==============================] - 0s 5ms/step - loss: 6.1030 - mae: 6.1030\n",
            "Epoch 339/500\n",
            "1/1 [==============================] - 0s 8ms/step - loss: 6.0972 - mae: 6.0972\n",
            "Epoch 340/500\n",
            "1/1 [==============================] - 0s 5ms/step - loss: 6.0914 - mae: 6.0914\n",
            "Epoch 341/500\n",
            "1/1 [==============================] - 0s 6ms/step - loss: 6.0856 - mae: 6.0856\n",
            "Epoch 342/500\n",
            "1/1 [==============================] - 0s 7ms/step - loss: 6.0799 - mae: 6.0799\n",
            "Epoch 343/500\n",
            "1/1 [==============================] - 0s 8ms/step - loss: 6.0741 - mae: 6.0741\n",
            "Epoch 344/500\n",
            "1/1 [==============================] - 0s 6ms/step - loss: 6.0683 - mae: 6.0683\n",
            "Epoch 345/500\n",
            "1/1 [==============================] - 0s 13ms/step - loss: 6.0625 - mae: 6.0625\n",
            "Epoch 346/500\n",
            "1/1 [==============================] - 0s 19ms/step - loss: 6.0567 - mae: 6.0567\n",
            "Epoch 347/500\n",
            "1/1 [==============================] - 0s 16ms/step - loss: 6.0509 - mae: 6.0509\n",
            "Epoch 348/500\n",
            "1/1 [==============================] - 0s 13ms/step - loss: 6.0452 - mae: 6.0452\n",
            "Epoch 349/500\n",
            "1/1 [==============================] - 0s 8ms/step - loss: 6.0394 - mae: 6.0394\n",
            "Epoch 350/500\n",
            "1/1 [==============================] - 0s 5ms/step - loss: 6.0336 - mae: 6.0336\n",
            "Epoch 351/500\n",
            "1/1 [==============================] - 0s 10ms/step - loss: 6.0278 - mae: 6.0278\n",
            "Epoch 352/500\n",
            "1/1 [==============================] - 0s 5ms/step - loss: 6.0220 - mae: 6.0220\n",
            "Epoch 353/500\n",
            "1/1 [==============================] - 0s 5ms/step - loss: 6.0163 - mae: 6.0163\n",
            "Epoch 354/500\n",
            "1/1 [==============================] - 0s 18ms/step - loss: 6.0105 - mae: 6.0105\n",
            "Epoch 355/500\n",
            "1/1 [==============================] - 0s 11ms/step - loss: 6.0047 - mae: 6.0047\n",
            "Epoch 356/500\n",
            "1/1 [==============================] - 0s 11ms/step - loss: 5.9989 - mae: 5.9989\n",
            "Epoch 357/500\n",
            "1/1 [==============================] - 0s 17ms/step - loss: 5.9931 - mae: 5.9931\n",
            "Epoch 358/500\n",
            "1/1 [==============================] - 0s 5ms/step - loss: 5.9874 - mae: 5.9874\n",
            "Epoch 359/500\n",
            "1/1 [==============================] - 0s 5ms/step - loss: 5.9816 - mae: 5.9816\n",
            "Epoch 360/500\n",
            "1/1 [==============================] - 0s 19ms/step - loss: 5.9758 - mae: 5.9758\n",
            "Epoch 361/500\n",
            "1/1 [==============================] - 0s 13ms/step - loss: 5.9700 - mae: 5.9700\n",
            "Epoch 362/500\n",
            "1/1 [==============================] - 0s 8ms/step - loss: 5.9642 - mae: 5.9642\n",
            "Epoch 363/500\n",
            "1/1 [==============================] - 0s 12ms/step - loss: 5.9584 - mae: 5.9584\n",
            "Epoch 364/500\n",
            "1/1 [==============================] - 0s 10ms/step - loss: 5.9527 - mae: 5.9527\n",
            "Epoch 365/500\n",
            "1/1 [==============================] - 0s 9ms/step - loss: 5.9469 - mae: 5.9469\n",
            "Epoch 366/500\n",
            "1/1 [==============================] - 0s 12ms/step - loss: 5.9411 - mae: 5.9411\n",
            "Epoch 367/500\n",
            "1/1 [==============================] - 0s 12ms/step - loss: 5.9353 - mae: 5.9353\n",
            "Epoch 368/500\n",
            "1/1 [==============================] - 0s 9ms/step - loss: 5.9306 - mae: 5.9306\n",
            "Epoch 369/500\n",
            "1/1 [==============================] - 0s 6ms/step - loss: 5.9263 - mae: 5.9263\n",
            "Epoch 370/500\n",
            "1/1 [==============================] - 0s 6ms/step - loss: 5.9205 - mae: 5.9205\n",
            "Epoch 371/500\n",
            "1/1 [==============================] - 0s 8ms/step - loss: 5.9147 - mae: 5.9147\n",
            "Epoch 372/500\n",
            "1/1 [==============================] - 0s 9ms/step - loss: 5.9089 - mae: 5.9089\n",
            "Epoch 373/500\n",
            "1/1 [==============================] - 0s 13ms/step - loss: 5.9031 - mae: 5.9031\n",
            "Epoch 374/500\n",
            "1/1 [==============================] - 0s 6ms/step - loss: 5.8974 - mae: 5.8974\n",
            "Epoch 375/500\n",
            "1/1 [==============================] - 0s 8ms/step - loss: 5.8916 - mae: 5.8916\n",
            "Epoch 376/500\n",
            "1/1 [==============================] - 0s 10ms/step - loss: 5.8858 - mae: 5.8858\n",
            "Epoch 377/500\n",
            "1/1 [==============================] - 0s 16ms/step - loss: 5.8800 - mae: 5.8800\n",
            "Epoch 378/500\n",
            "1/1 [==============================] - 0s 4ms/step - loss: 5.8742 - mae: 5.8742\n",
            "Epoch 379/500\n",
            "1/1 [==============================] - 0s 9ms/step - loss: 5.8684 - mae: 5.8684\n",
            "Epoch 380/500\n",
            "1/1 [==============================] - 0s 9ms/step - loss: 5.8627 - mae: 5.8627\n",
            "Epoch 381/500\n",
            "1/1 [==============================] - 0s 9ms/step - loss: 5.8569 - mae: 5.8569\n",
            "Epoch 382/500\n",
            "1/1 [==============================] - 0s 14ms/step - loss: 5.8511 - mae: 5.8511\n",
            "Epoch 383/500\n",
            "1/1 [==============================] - 0s 5ms/step - loss: 5.8453 - mae: 5.8453\n",
            "Epoch 384/500\n",
            "1/1 [==============================] - 0s 11ms/step - loss: 5.8395 - mae: 5.8395\n",
            "Epoch 385/500\n",
            "1/1 [==============================] - 0s 5ms/step - loss: 5.8338 - mae: 5.8338\n",
            "Epoch 386/500\n",
            "1/1 [==============================] - 0s 11ms/step - loss: 5.8280 - mae: 5.8280\n",
            "Epoch 387/500\n",
            "1/1 [==============================] - 0s 8ms/step - loss: 5.8222 - mae: 5.8222\n",
            "Epoch 388/500\n",
            "1/1 [==============================] - 0s 13ms/step - loss: 5.8164 - mae: 5.8164\n",
            "Epoch 389/500\n",
            "1/1 [==============================] - 0s 13ms/step - loss: 5.8106 - mae: 5.8106\n",
            "Epoch 390/500\n",
            "1/1 [==============================] - 0s 8ms/step - loss: 5.8049 - mae: 5.8049\n",
            "Epoch 391/500\n",
            "1/1 [==============================] - 0s 13ms/step - loss: 5.7991 - mae: 5.7991\n",
            "Epoch 392/500\n",
            "1/1 [==============================] - 0s 5ms/step - loss: 5.7933 - mae: 5.7933\n",
            "Epoch 393/500\n",
            "1/1 [==============================] - 0s 8ms/step - loss: 5.7875 - mae: 5.7875\n",
            "Epoch 394/500\n",
            "1/1 [==============================] - 0s 18ms/step - loss: 5.7817 - mae: 5.7817\n",
            "Epoch 395/500\n",
            "1/1 [==============================] - 0s 6ms/step - loss: 5.7759 - mae: 5.7759\n",
            "Epoch 396/500\n",
            "1/1 [==============================] - 0s 12ms/step - loss: 5.7702 - mae: 5.7702\n",
            "Epoch 397/500\n",
            "1/1 [==============================] - 0s 6ms/step - loss: 5.7644 - mae: 5.7644\n",
            "Epoch 398/500\n",
            "1/1 [==============================] - 0s 7ms/step - loss: 5.7586 - mae: 5.7586\n",
            "Epoch 399/500\n",
            "1/1 [==============================] - 0s 7ms/step - loss: 5.7528 - mae: 5.7528\n",
            "Epoch 400/500\n",
            "1/1 [==============================] - 0s 8ms/step - loss: 5.7470 - mae: 5.7470\n",
            "Epoch 401/500\n",
            "1/1 [==============================] - 0s 4ms/step - loss: 5.7413 - mae: 5.7413\n",
            "Epoch 402/500\n",
            "1/1 [==============================] - 0s 6ms/step - loss: 5.7355 - mae: 5.7355\n",
            "Epoch 403/500\n",
            "1/1 [==============================] - 0s 11ms/step - loss: 5.7297 - mae: 5.7297\n",
            "Epoch 404/500\n",
            "1/1 [==============================] - 0s 4ms/step - loss: 5.7239 - mae: 5.7239\n",
            "Epoch 405/500\n",
            "1/1 [==============================] - 0s 6ms/step - loss: 5.7181 - mae: 5.7181\n",
            "Epoch 406/500\n",
            "1/1 [==============================] - 0s 7ms/step - loss: 5.7124 - mae: 5.7124\n",
            "Epoch 407/500\n",
            "1/1 [==============================] - 0s 8ms/step - loss: 5.7066 - mae: 5.7066\n",
            "Epoch 408/500\n",
            "1/1 [==============================] - 0s 5ms/step - loss: 5.7008 - mae: 5.7008\n",
            "Epoch 409/500\n",
            "1/1 [==============================] - 0s 101ms/step - loss: 5.6950 - mae: 5.6950\n",
            "Epoch 410/500\n",
            "1/1 [==============================] - 0s 6ms/step - loss: 5.6892 - mae: 5.6892\n",
            "Epoch 411/500\n",
            "1/1 [==============================] - 0s 8ms/step - loss: 5.6834 - mae: 5.6834\n",
            "Epoch 412/500\n",
            "1/1 [==============================] - 0s 5ms/step - loss: 5.6777 - mae: 5.6777\n",
            "Epoch 413/500\n",
            "1/1 [==============================] - 0s 7ms/step - loss: 5.6719 - mae: 5.6719\n",
            "Epoch 414/500\n",
            "1/1 [==============================] - 0s 5ms/step - loss: 5.6661 - mae: 5.6661\n",
            "Epoch 415/500\n",
            "1/1 [==============================] - 0s 5ms/step - loss: 5.6603 - mae: 5.6603\n",
            "Epoch 416/500\n",
            "1/1 [==============================] - 0s 14ms/step - loss: 5.6545 - mae: 5.6545\n",
            "Epoch 417/500\n",
            "1/1 [==============================] - 0s 4ms/step - loss: 5.6492 - mae: 5.6492\n",
            "Epoch 418/500\n",
            "1/1 [==============================] - 0s 6ms/step - loss: 5.6455 - mae: 5.6455\n",
            "Epoch 419/500\n",
            "1/1 [==============================] - 0s 5ms/step - loss: 5.6397 - mae: 5.6397\n",
            "Epoch 420/500\n",
            "1/1 [==============================] - 0s 6ms/step - loss: 5.6339 - mae: 5.6339\n",
            "Epoch 421/500\n",
            "1/1 [==============================] - 0s 8ms/step - loss: 5.6281 - mae: 5.6281\n",
            "Epoch 422/500\n",
            "1/1 [==============================] - 0s 4ms/step - loss: 5.6224 - mae: 5.6224\n",
            "Epoch 423/500\n",
            "1/1 [==============================] - 0s 13ms/step - loss: 5.6166 - mae: 5.6166\n",
            "Epoch 424/500\n",
            "1/1 [==============================] - 0s 10ms/step - loss: 5.6108 - mae: 5.6108\n",
            "Epoch 425/500\n",
            "1/1 [==============================] - 0s 13ms/step - loss: 5.6050 - mae: 5.6050\n",
            "Epoch 426/500\n",
            "1/1 [==============================] - 0s 7ms/step - loss: 5.5992 - mae: 5.5992\n",
            "Epoch 427/500\n",
            "1/1 [==============================] - 0s 8ms/step - loss: 5.5934 - mae: 5.5934\n",
            "Epoch 428/500\n",
            "1/1 [==============================] - 0s 13ms/step - loss: 5.5877 - mae: 5.5877\n",
            "Epoch 429/500\n",
            "1/1 [==============================] - 0s 13ms/step - loss: 5.5819 - mae: 5.5819\n",
            "Epoch 430/500\n",
            "1/1 [==============================] - 0s 7ms/step - loss: 5.5761 - mae: 5.5761\n",
            "Epoch 431/500\n",
            "1/1 [==============================] - 0s 10ms/step - loss: 5.5703 - mae: 5.5703\n",
            "Epoch 432/500\n",
            "1/1 [==============================] - 0s 14ms/step - loss: 5.5645 - mae: 5.5645\n",
            "Epoch 433/500\n",
            "1/1 [==============================] - 0s 8ms/step - loss: 5.5588 - mae: 5.5588\n",
            "Epoch 434/500\n",
            "1/1 [==============================] - 0s 10ms/step - loss: 5.5530 - mae: 5.5530\n",
            "Epoch 435/500\n",
            "1/1 [==============================] - 0s 10ms/step - loss: 5.5472 - mae: 5.5472\n",
            "Epoch 436/500\n",
            "1/1 [==============================] - 0s 12ms/step - loss: 5.5414 - mae: 5.5414\n",
            "Epoch 437/500\n",
            "1/1 [==============================] - 0s 6ms/step - loss: 5.5356 - mae: 5.5356\n",
            "Epoch 438/500\n",
            "1/1 [==============================] - 0s 6ms/step - loss: 5.5299 - mae: 5.5299\n",
            "Epoch 439/500\n",
            "1/1 [==============================] - 0s 7ms/step - loss: 5.5241 - mae: 5.5241\n",
            "Epoch 440/500\n",
            "1/1 [==============================] - 0s 18ms/step - loss: 5.5183 - mae: 5.5183\n",
            "Epoch 441/500\n",
            "1/1 [==============================] - 0s 8ms/step - loss: 5.5125 - mae: 5.5125\n",
            "Epoch 442/500\n",
            "1/1 [==============================] - 0s 13ms/step - loss: 5.5067 - mae: 5.5067\n",
            "Epoch 443/500\n",
            "1/1 [==============================] - 0s 6ms/step - loss: 5.5009 - mae: 5.5009\n",
            "Epoch 444/500\n",
            "1/1 [==============================] - 0s 6ms/step - loss: 5.4952 - mae: 5.4952\n",
            "Epoch 445/500\n",
            "1/1 [==============================] - 0s 11ms/step - loss: 5.4894 - mae: 5.4894\n",
            "Epoch 446/500\n",
            "1/1 [==============================] - 0s 13ms/step - loss: 5.4836 - mae: 5.4836\n",
            "Epoch 447/500\n",
            "1/1 [==============================] - 0s 7ms/step - loss: 5.4778 - mae: 5.4778\n",
            "Epoch 448/500\n",
            "1/1 [==============================] - 0s 10ms/step - loss: 5.4720 - mae: 5.4720\n",
            "Epoch 449/500\n",
            "1/1 [==============================] - 0s 8ms/step - loss: 5.4663 - mae: 5.4663\n",
            "Epoch 450/500\n",
            "1/1 [==============================] - 0s 10ms/step - loss: 5.4605 - mae: 5.4605\n",
            "Epoch 451/500\n",
            "1/1 [==============================] - 0s 11ms/step - loss: 5.4547 - mae: 5.4547\n",
            "Epoch 452/500\n",
            "1/1 [==============================] - 0s 5ms/step - loss: 5.4489 - mae: 5.4489\n",
            "Epoch 453/500\n",
            "1/1 [==============================] - 0s 15ms/step - loss: 5.4431 - mae: 5.4431\n",
            "Epoch 454/500\n",
            "1/1 [==============================] - 0s 7ms/step - loss: 5.4374 - mae: 5.4374\n",
            "Epoch 455/500\n",
            "1/1 [==============================] - 0s 12ms/step - loss: 5.4316 - mae: 5.4316\n",
            "Epoch 456/500\n",
            "1/1 [==============================] - 0s 5ms/step - loss: 5.4258 - mae: 5.4258\n",
            "Epoch 457/500\n",
            "1/1 [==============================] - 0s 13ms/step - loss: 5.4200 - mae: 5.4200\n",
            "Epoch 458/500\n",
            "1/1 [==============================] - 0s 4ms/step - loss: 5.4142 - mae: 5.4142\n",
            "Epoch 459/500\n",
            "1/1 [==============================] - 0s 6ms/step - loss: 5.4084 - mae: 5.4084\n",
            "Epoch 460/500\n",
            "1/1 [==============================] - 0s 7ms/step - loss: 5.4027 - mae: 5.4027\n",
            "Epoch 461/500\n",
            "1/1 [==============================] - 0s 8ms/step - loss: 5.3969 - mae: 5.3969\n",
            "Epoch 462/500\n",
            "1/1 [==============================] - 0s 15ms/step - loss: 5.3911 - mae: 5.3911\n",
            "Epoch 463/500\n",
            "1/1 [==============================] - 0s 14ms/step - loss: 5.3853 - mae: 5.3853\n",
            "Epoch 464/500\n",
            "1/1 [==============================] - 0s 13ms/step - loss: 5.3795 - mae: 5.3795\n",
            "Epoch 465/500\n",
            "1/1 [==============================] - 0s 6ms/step - loss: 5.3738 - mae: 5.3738\n",
            "Epoch 466/500\n",
            "1/1 [==============================] - 0s 6ms/step - loss: 5.3680 - mae: 5.3680\n",
            "Epoch 467/500\n",
            "1/1 [==============================] - 0s 5ms/step - loss: 5.3645 - mae: 5.3645\n",
            "Epoch 468/500\n",
            "1/1 [==============================] - 0s 16ms/step - loss: 5.3589 - mae: 5.3589\n",
            "Epoch 469/500\n",
            "1/1 [==============================] - 0s 13ms/step - loss: 5.3531 - mae: 5.3531\n",
            "Epoch 470/500\n",
            "1/1 [==============================] - 0s 27ms/step - loss: 5.3474 - mae: 5.3474\n",
            "Epoch 471/500\n",
            "1/1 [==============================] - 0s 14ms/step - loss: 5.3416 - mae: 5.3416\n",
            "Epoch 472/500\n",
            "1/1 [==============================] - 0s 19ms/step - loss: 5.3358 - mae: 5.3358\n",
            "Epoch 473/500\n",
            "1/1 [==============================] - 0s 5ms/step - loss: 5.3300 - mae: 5.3300\n",
            "Epoch 474/500\n",
            "1/1 [==============================] - 0s 9ms/step - loss: 5.3242 - mae: 5.3242\n",
            "Epoch 475/500\n",
            "1/1 [==============================] - 0s 5ms/step - loss: 5.3184 - mae: 5.3184\n",
            "Epoch 476/500\n",
            "1/1 [==============================] - 0s 6ms/step - loss: 5.3127 - mae: 5.3127\n",
            "Epoch 477/500\n",
            "1/1 [==============================] - 0s 5ms/step - loss: 5.3069 - mae: 5.3069\n",
            "Epoch 478/500\n",
            "1/1 [==============================] - 0s 5ms/step - loss: 5.3011 - mae: 5.3011\n",
            "Epoch 479/500\n",
            "1/1 [==============================] - 0s 5ms/step - loss: 5.2953 - mae: 5.2953\n",
            "Epoch 480/500\n",
            "1/1 [==============================] - 0s 8ms/step - loss: 5.2895 - mae: 5.2895\n",
            "Epoch 481/500\n",
            "1/1 [==============================] - 0s 13ms/step - loss: 5.2838 - mae: 5.2838\n",
            "Epoch 482/500\n",
            "1/1 [==============================] - 0s 16ms/step - loss: 5.2780 - mae: 5.2780\n",
            "Epoch 483/500\n",
            "1/1 [==============================] - 0s 6ms/step - loss: 5.2722 - mae: 5.2722\n",
            "Epoch 484/500\n",
            "1/1 [==============================] - 0s 7ms/step - loss: 5.2664 - mae: 5.2664\n",
            "Epoch 485/500\n",
            "1/1 [==============================] - 0s 12ms/step - loss: 5.2606 - mae: 5.2606\n",
            "Epoch 486/500\n",
            "1/1 [==============================] - 0s 11ms/step - loss: 5.2549 - mae: 5.2549\n",
            "Epoch 487/500\n",
            "1/1 [==============================] - 0s 9ms/step - loss: 5.2491 - mae: 5.2491\n",
            "Epoch 488/500\n",
            "1/1 [==============================] - 0s 15ms/step - loss: 5.2433 - mae: 5.2433\n",
            "Epoch 489/500\n",
            "1/1 [==============================] - 0s 12ms/step - loss: 5.2375 - mae: 5.2375\n",
            "Epoch 490/500\n",
            "1/1 [==============================] - 0s 12ms/step - loss: 5.2317 - mae: 5.2317\n",
            "Epoch 491/500\n",
            "1/1 [==============================] - 0s 7ms/step - loss: 5.2260 - mae: 5.2260\n",
            "Epoch 492/500\n",
            "1/1 [==============================] - 0s 5ms/step - loss: 5.2202 - mae: 5.2202\n",
            "Epoch 493/500\n",
            "1/1 [==============================] - 0s 13ms/step - loss: 5.2144 - mae: 5.2144\n",
            "Epoch 494/500\n",
            "1/1 [==============================] - 0s 8ms/step - loss: 5.2086 - mae: 5.2086\n",
            "Epoch 495/500\n",
            "1/1 [==============================] - 0s 5ms/step - loss: 5.2028 - mae: 5.2028\n",
            "Epoch 496/500\n",
            "1/1 [==============================] - 0s 4ms/step - loss: 5.1970 - mae: 5.1970\n",
            "Epoch 497/500\n",
            "1/1 [==============================] - 0s 5ms/step - loss: 5.1913 - mae: 5.1913\n",
            "Epoch 498/500\n",
            "1/1 [==============================] - 0s 6ms/step - loss: 5.1855 - mae: 5.1855\n",
            "Epoch 499/500\n",
            "1/1 [==============================] - 0s 7ms/step - loss: 5.1797 - mae: 5.1797\n",
            "Epoch 500/500\n",
            "1/1 [==============================] - 0s 5ms/step - loss: 5.1739 - mae: 5.1739\n"
          ],
          "name": "stdout"
        },
        {
          "output_type": "execute_result",
          "data": {
            "text/plain": [
              "<tensorflow.python.keras.callbacks.History at 0x7fe30aab09d0>"
            ]
          },
          "metadata": {
            "tags": []
          },
          "execution_count": 104
        }
      ]
    },
    {
      "cell_type": "code",
      "metadata": {
        "colab": {
          "base_uri": "https://localhost:8080/"
        },
        "id": "SfbjNSQnoPvw",
        "outputId": "602f824f-5f87-4eb4-8308-1b1782169a02"
      },
      "source": [
        "#checkout x and y\n",
        "x,y"
      ],
      "execution_count": 105,
      "outputs": [
        {
          "output_type": "execute_result",
          "data": {
            "text/plain": [
              "(<tf.Tensor: shape=(8,), dtype=int64, numpy=array([-7, -4, -1,  2,  5,  7, 11, 14])>,\n",
              " <tf.Tensor: shape=(8,), dtype=int64, numpy=array([ 3,  6,  9, 13, 16, 19, 22, 25])>)"
            ]
          },
          "metadata": {
            "tags": []
          },
          "execution_count": 105
        }
      ]
    },
    {
      "cell_type": "code",
      "metadata": {
        "colab": {
          "base_uri": "https://localhost:8080/"
        },
        "id": "8zv4j7vjqa3Q",
        "outputId": "b9811ade-8741-4e6c-d32a-e6ff07f019c3"
      },
      "source": [
        "# try and make a prediction\n",
        "model.predict([17]) # prediction is preety far away from what we wanted"
      ],
      "execution_count": 106,
      "outputs": [
        {
          "output_type": "execute_result",
          "data": {
            "text/plain": [
              "array([[29.703318]], dtype=float32)"
            ]
          },
          "metadata": {
            "tags": []
          },
          "execution_count": 106
        }
      ]
    },
    {
      "cell_type": "markdown",
      "metadata": {
        "id": "Roy1ZPXitBeM"
      },
      "source": [
        "# improving:\n",
        "1.creating a model=here we might add more layers,increase the number of hidden units(all called neurons) within each of the hidden layers, change the activation function of each layer.\n",
        "2. compiling a model=here we might change the optimization function ,learning rate ot the optimization function\n",
        "3. Fitting a model with more epochs or on more data"
      ]
    },
    {
      "cell_type": "code",
      "metadata": {
        "colab": {
          "base_uri": "https://localhost:8080/"
        },
        "id": "O87C-pYHqhyV",
        "outputId": "2827ba7b-cbc8-4034-e5f1-50b1c23dc8a9"
      },
      "source": [
        "# try improving model\n",
        "tf.random.set_seed(42)\n",
        "#1 create a model using the Sequential API\n",
        "model = tf.keras.Sequential([\n",
        "     tf.keras.layers.Dense(1)                        \n",
        "])\n",
        "#2 compile model\n",
        "model.compile(loss=tf.keras.losses.mae,\n",
        "              optimizer=tf.keras.optimizers.SGD(),\n",
        "              metrics=[\"mae\"])\n",
        "# fit model\n",
        "model.fit(x,y,epochs=100)\n"
      ],
      "execution_count": 107,
      "outputs": [
        {
          "output_type": "stream",
          "text": [
            "Epoch 1/100\n",
            "1/1 [==============================] - 0s 287ms/step - loss: 12.2010 - mae: 12.2010\n",
            "Epoch 2/100\n",
            "1/1 [==============================] - 0s 5ms/step - loss: 12.0771 - mae: 12.0771\n",
            "Epoch 3/100\n",
            "1/1 [==============================] - 0s 5ms/step - loss: 11.9532 - mae: 11.9532\n",
            "Epoch 4/100\n",
            "1/1 [==============================] - 0s 5ms/step - loss: 11.8293 - mae: 11.8293\n",
            "Epoch 5/100\n",
            "1/1 [==============================] - 0s 11ms/step - loss: 11.7054 - mae: 11.7054\n",
            "Epoch 6/100\n",
            "1/1 [==============================] - 0s 10ms/step - loss: 11.5815 - mae: 11.5815\n",
            "Epoch 7/100\n",
            "1/1 [==============================] - 0s 5ms/step - loss: 11.4576 - mae: 11.4576\n",
            "Epoch 8/100\n",
            "1/1 [==============================] - 0s 8ms/step - loss: 11.3337 - mae: 11.3337\n",
            "Epoch 9/100\n",
            "1/1 [==============================] - 0s 7ms/step - loss: 11.2098 - mae: 11.2098\n",
            "Epoch 10/100\n",
            "1/1 [==============================] - 0s 10ms/step - loss: 11.0859 - mae: 11.0859\n",
            "Epoch 11/100\n",
            "1/1 [==============================] - 0s 11ms/step - loss: 10.9620 - mae: 10.9620\n",
            "Epoch 12/100\n",
            "1/1 [==============================] - 0s 4ms/step - loss: 10.8381 - mae: 10.8381\n",
            "Epoch 13/100\n",
            "1/1 [==============================] - 0s 4ms/step - loss: 10.7142 - mae: 10.7142\n",
            "Epoch 14/100\n",
            "1/1 [==============================] - 0s 8ms/step - loss: 10.5903 - mae: 10.5903\n",
            "Epoch 15/100\n",
            "1/1 [==============================] - 0s 13ms/step - loss: 10.4664 - mae: 10.4664\n",
            "Epoch 16/100\n",
            "1/1 [==============================] - 0s 6ms/step - loss: 10.3425 - mae: 10.3425\n",
            "Epoch 17/100\n",
            "1/1 [==============================] - 0s 9ms/step - loss: 10.2185 - mae: 10.2185\n",
            "Epoch 18/100\n",
            "1/1 [==============================] - 0s 8ms/step - loss: 10.0946 - mae: 10.0946\n",
            "Epoch 19/100\n",
            "1/1 [==============================] - 0s 5ms/step - loss: 9.9707 - mae: 9.9707\n",
            "Epoch 20/100\n",
            "1/1 [==============================] - 0s 6ms/step - loss: 9.8468 - mae: 9.8468\n",
            "Epoch 21/100\n",
            "1/1 [==============================] - 0s 10ms/step - loss: 9.7229 - mae: 9.7229\n",
            "Epoch 22/100\n",
            "1/1 [==============================] - 0s 7ms/step - loss: 9.5990 - mae: 9.5990\n",
            "Epoch 23/100\n",
            "1/1 [==============================] - 0s 5ms/step - loss: 9.4751 - mae: 9.4751\n",
            "Epoch 24/100\n",
            "1/1 [==============================] - 0s 8ms/step - loss: 9.3512 - mae: 9.3512\n",
            "Epoch 25/100\n",
            "1/1 [==============================] - 0s 7ms/step - loss: 9.2273 - mae: 9.2273\n",
            "Epoch 26/100\n",
            "1/1 [==============================] - 0s 8ms/step - loss: 9.1034 - mae: 9.1034\n",
            "Epoch 27/100\n",
            "1/1 [==============================] - 0s 9ms/step - loss: 8.9795 - mae: 8.9795\n",
            "Epoch 28/100\n",
            "1/1 [==============================] - 0s 5ms/step - loss: 8.8556 - mae: 8.8556\n",
            "Epoch 29/100\n",
            "1/1 [==============================] - 0s 9ms/step - loss: 8.7317 - mae: 8.7317\n",
            "Epoch 30/100\n",
            "1/1 [==============================] - 0s 8ms/step - loss: 8.6078 - mae: 8.6078\n",
            "Epoch 31/100\n",
            "1/1 [==============================] - 0s 6ms/step - loss: 8.4839 - mae: 8.4839\n",
            "Epoch 32/100\n",
            "1/1 [==============================] - 0s 7ms/step - loss: 8.3600 - mae: 8.3600\n",
            "Epoch 33/100\n",
            "1/1 [==============================] - 0s 6ms/step - loss: 8.2360 - mae: 8.2360\n",
            "Epoch 34/100\n",
            "1/1 [==============================] - 0s 7ms/step - loss: 8.1121 - mae: 8.1121\n",
            "Epoch 35/100\n",
            "1/1 [==============================] - 0s 10ms/step - loss: 7.9882 - mae: 7.9882\n",
            "Epoch 36/100\n",
            "1/1 [==============================] - 0s 15ms/step - loss: 7.8643 - mae: 7.8643\n",
            "Epoch 37/100\n",
            "1/1 [==============================] - 0s 7ms/step - loss: 7.8281 - mae: 7.8281\n",
            "Epoch 38/100\n",
            "1/1 [==============================] - 0s 6ms/step - loss: 7.8224 - mae: 7.8224\n",
            "Epoch 39/100\n",
            "1/1 [==============================] - 0s 7ms/step - loss: 7.8166 - mae: 7.8166\n",
            "Epoch 40/100\n",
            "1/1 [==============================] - 0s 6ms/step - loss: 7.8108 - mae: 7.8108\n",
            "Epoch 41/100\n",
            "1/1 [==============================] - 0s 9ms/step - loss: 7.8050 - mae: 7.8050\n",
            "Epoch 42/100\n",
            "1/1 [==============================] - 0s 6ms/step - loss: 7.7992 - mae: 7.7992\n",
            "Epoch 43/100\n",
            "1/1 [==============================] - 0s 8ms/step - loss: 7.7934 - mae: 7.7934\n",
            "Epoch 44/100\n",
            "1/1 [==============================] - 0s 5ms/step - loss: 7.7877 - mae: 7.7877\n",
            "Epoch 45/100\n",
            "1/1 [==============================] - 0s 5ms/step - loss: 7.7819 - mae: 7.7819\n",
            "Epoch 46/100\n",
            "1/1 [==============================] - 0s 8ms/step - loss: 7.7761 - mae: 7.7761\n",
            "Epoch 47/100\n",
            "1/1 [==============================] - 0s 12ms/step - loss: 7.7703 - mae: 7.7703\n",
            "Epoch 48/100\n",
            "1/1 [==============================] - 0s 11ms/step - loss: 7.7645 - mae: 7.7645\n",
            "Epoch 49/100\n",
            "1/1 [==============================] - 0s 6ms/step - loss: 7.7588 - mae: 7.7588\n",
            "Epoch 50/100\n",
            "1/1 [==============================] - 0s 5ms/step - loss: 7.7530 - mae: 7.7530\n",
            "Epoch 51/100\n",
            "1/1 [==============================] - 0s 6ms/step - loss: 7.7472 - mae: 7.7472\n",
            "Epoch 52/100\n",
            "1/1 [==============================] - 0s 6ms/step - loss: 7.7414 - mae: 7.7414\n",
            "Epoch 53/100\n",
            "1/1 [==============================] - 0s 5ms/step - loss: 7.7356 - mae: 7.7356\n",
            "Epoch 54/100\n",
            "1/1 [==============================] - 0s 6ms/step - loss: 7.7299 - mae: 7.7299\n",
            "Epoch 55/100\n",
            "1/1 [==============================] - 0s 5ms/step - loss: 7.7241 - mae: 7.7241\n",
            "Epoch 56/100\n",
            "1/1 [==============================] - 0s 7ms/step - loss: 7.7183 - mae: 7.7183\n",
            "Epoch 57/100\n",
            "1/1 [==============================] - 0s 5ms/step - loss: 7.7125 - mae: 7.7125\n",
            "Epoch 58/100\n",
            "1/1 [==============================] - 0s 7ms/step - loss: 7.7067 - mae: 7.7067\n",
            "Epoch 59/100\n",
            "1/1 [==============================] - 0s 7ms/step - loss: 7.7009 - mae: 7.7009\n",
            "Epoch 60/100\n",
            "1/1 [==============================] - 0s 6ms/step - loss: 7.6952 - mae: 7.6952\n",
            "Epoch 61/100\n",
            "1/1 [==============================] - 0s 5ms/step - loss: 7.6894 - mae: 7.6894\n",
            "Epoch 62/100\n",
            "1/1 [==============================] - 0s 10ms/step - loss: 7.6836 - mae: 7.6836\n",
            "Epoch 63/100\n",
            "1/1 [==============================] - 0s 4ms/step - loss: 7.6778 - mae: 7.6778\n",
            "Epoch 64/100\n",
            "1/1 [==============================] - 0s 7ms/step - loss: 7.6720 - mae: 7.6720\n",
            "Epoch 65/100\n",
            "1/1 [==============================] - 0s 4ms/step - loss: 7.6663 - mae: 7.6663\n",
            "Epoch 66/100\n",
            "1/1 [==============================] - 0s 5ms/step - loss: 7.6605 - mae: 7.6605\n",
            "Epoch 67/100\n",
            "1/1 [==============================] - 0s 9ms/step - loss: 7.6547 - mae: 7.6547\n",
            "Epoch 68/100\n",
            "1/1 [==============================] - 0s 5ms/step - loss: 7.6489 - mae: 7.6489\n",
            "Epoch 69/100\n",
            "1/1 [==============================] - 0s 5ms/step - loss: 7.6431 - mae: 7.6431\n",
            "Epoch 70/100\n",
            "1/1 [==============================] - 0s 8ms/step - loss: 7.6374 - mae: 7.6374\n",
            "Epoch 71/100\n",
            "1/1 [==============================] - 0s 4ms/step - loss: 7.6316 - mae: 7.6316\n",
            "Epoch 72/100\n",
            "1/1 [==============================] - 0s 5ms/step - loss: 7.6258 - mae: 7.6258\n",
            "Epoch 73/100\n",
            "1/1 [==============================] - 0s 5ms/step - loss: 7.6223 - mae: 7.6223\n",
            "Epoch 74/100\n",
            "1/1 [==============================] - 0s 6ms/step - loss: 7.6167 - mae: 7.6167\n",
            "Epoch 75/100\n",
            "1/1 [==============================] - 0s 8ms/step - loss: 7.6109 - mae: 7.6109\n",
            "Epoch 76/100\n",
            "1/1 [==============================] - 0s 7ms/step - loss: 7.6052 - mae: 7.6052\n",
            "Epoch 77/100\n",
            "1/1 [==============================] - 0s 5ms/step - loss: 7.5994 - mae: 7.5994\n",
            "Epoch 78/100\n",
            "1/1 [==============================] - 0s 6ms/step - loss: 7.5936 - mae: 7.5936\n",
            "Epoch 79/100\n",
            "1/1 [==============================] - 0s 8ms/step - loss: 7.5878 - mae: 7.5878\n",
            "Epoch 80/100\n",
            "1/1 [==============================] - 0s 6ms/step - loss: 7.5820 - mae: 7.5820\n",
            "Epoch 81/100\n",
            "1/1 [==============================] - 0s 6ms/step - loss: 7.5763 - mae: 7.5763\n",
            "Epoch 82/100\n",
            "1/1 [==============================] - 0s 6ms/step - loss: 7.5705 - mae: 7.5705\n",
            "Epoch 83/100\n",
            "1/1 [==============================] - 0s 7ms/step - loss: 7.5647 - mae: 7.5647\n",
            "Epoch 84/100\n",
            "1/1 [==============================] - 0s 16ms/step - loss: 7.5589 - mae: 7.5589\n",
            "Epoch 85/100\n",
            "1/1 [==============================] - 0s 10ms/step - loss: 7.5531 - mae: 7.5531\n",
            "Epoch 86/100\n",
            "1/1 [==============================] - 0s 10ms/step - loss: 7.5474 - mae: 7.5474\n",
            "Epoch 87/100\n",
            "1/1 [==============================] - 0s 13ms/step - loss: 7.5416 - mae: 7.5416\n",
            "Epoch 88/100\n",
            "1/1 [==============================] - 0s 8ms/step - loss: 7.5358 - mae: 7.5358\n",
            "Epoch 89/100\n",
            "1/1 [==============================] - 0s 19ms/step - loss: 7.5300 - mae: 7.5300\n",
            "Epoch 90/100\n",
            "1/1 [==============================] - 0s 12ms/step - loss: 7.5242 - mae: 7.5242\n",
            "Epoch 91/100\n",
            "1/1 [==============================] - 0s 5ms/step - loss: 7.5184 - mae: 7.5184\n",
            "Epoch 92/100\n",
            "1/1 [==============================] - 0s 5ms/step - loss: 7.5127 - mae: 7.5127\n",
            "Epoch 93/100\n",
            "1/1 [==============================] - 0s 7ms/step - loss: 7.5069 - mae: 7.5069\n",
            "Epoch 94/100\n",
            "1/1 [==============================] - 0s 7ms/step - loss: 7.5011 - mae: 7.5011\n",
            "Epoch 95/100\n",
            "1/1 [==============================] - 0s 12ms/step - loss: 7.4953 - mae: 7.4953\n",
            "Epoch 96/100\n",
            "1/1 [==============================] - 0s 14ms/step - loss: 7.4895 - mae: 7.4895\n",
            "Epoch 97/100\n",
            "1/1 [==============================] - 0s 11ms/step - loss: 7.4838 - mae: 7.4838\n",
            "Epoch 98/100\n",
            "1/1 [==============================] - 0s 9ms/step - loss: 7.4780 - mae: 7.4780\n",
            "Epoch 99/100\n",
            "1/1 [==============================] - 0s 5ms/step - loss: 7.4722 - mae: 7.4722\n",
            "Epoch 100/100\n",
            "1/1 [==============================] - 0s 9ms/step - loss: 7.4664 - mae: 7.4664\n"
          ],
          "name": "stdout"
        },
        {
          "output_type": "execute_result",
          "data": {
            "text/plain": [
              "<tensorflow.python.keras.callbacks.History at 0x7fe30a9a0910>"
            ]
          },
          "metadata": {
            "tags": []
          },
          "execution_count": 107
        }
      ]
    },
    {
      "cell_type": "code",
      "metadata": {
        "colab": {
          "base_uri": "https://localhost:8080/"
        },
        "id": "3MbMLbd0skpU",
        "outputId": "eed6b27a-a127-49a8-cb52-49b197b14161"
      },
      "source": [
        "model.predict([17])"
      ],
      "execution_count": 108,
      "outputs": [
        {
          "output_type": "execute_result",
          "data": {
            "text/plain": [
              "array([[30.42351]], dtype=float32)"
            ]
          },
          "metadata": {
            "tags": []
          },
          "execution_count": 108
        }
      ]
    },
    {
      "cell_type": "code",
      "metadata": {
        "colab": {
          "base_uri": "https://localhost:8080/"
        },
        "id": "Opp8rMbCvTk1",
        "outputId": "f56d454f-2cfe-4ba5-f9ba-128d845348e2"
      },
      "source": [
        "# further improvement\n",
        "# create model(with extra hidden layer)\n",
        "\n",
        "model=tf.keras.Sequential([\n",
        "                           tf.keras.layers.Dense(100,activation=\"relu\"),\n",
        "                           tf.keras.layers.Dense(1)\n",
        "])\n",
        "# compile\n",
        "model.compile(loss=tf.keras.losses.mae,\n",
        "              optimizer=tf.keras.optimizers.Adam(lr=0.01),\n",
        "              metrics=['mae'])\n",
        "# Fit the data\n",
        "model.fit(x,y,epochs=100)"
      ],
      "execution_count": 109,
      "outputs": [
        {
          "output_type": "stream",
          "text": [
            "/usr/local/lib/python3.7/dist-packages/tensorflow/python/keras/optimizer_v2/optimizer_v2.py:375: UserWarning: The `lr` argument is deprecated, use `learning_rate` instead.\n",
            "  \"The `lr` argument is deprecated, use `learning_rate` instead.\")\n"
          ],
          "name": "stderr"
        },
        {
          "output_type": "stream",
          "text": [
            "Epoch 1/100\n",
            "1/1 [==============================] - 0s 431ms/step - loss: 14.5539 - mae: 14.5539\n",
            "Epoch 2/100\n",
            "1/1 [==============================] - 0s 7ms/step - loss: 13.6122 - mae: 13.6122\n",
            "Epoch 3/100\n",
            "1/1 [==============================] - 0s 7ms/step - loss: 12.6624 - mae: 12.6624\n",
            "Epoch 4/100\n",
            "1/1 [==============================] - 0s 6ms/step - loss: 11.7947 - mae: 11.7947\n",
            "Epoch 5/100\n",
            "1/1 [==============================] - 0s 6ms/step - loss: 11.0172 - mae: 11.0172\n",
            "Epoch 6/100\n",
            "1/1 [==============================] - 0s 6ms/step - loss: 10.2232 - mae: 10.2232\n",
            "Epoch 7/100\n",
            "1/1 [==============================] - 0s 8ms/step - loss: 9.4133 - mae: 9.4133\n",
            "Epoch 8/100\n",
            "1/1 [==============================] - 0s 6ms/step - loss: 8.5899 - mae: 8.5899\n",
            "Epoch 9/100\n",
            "1/1 [==============================] - 0s 6ms/step - loss: 7.7466 - mae: 7.7466\n",
            "Epoch 10/100\n",
            "1/1 [==============================] - 0s 6ms/step - loss: 6.8800 - mae: 6.8800\n",
            "Epoch 11/100\n",
            "1/1 [==============================] - 0s 5ms/step - loss: 5.9905 - mae: 5.9905\n",
            "Epoch 12/100\n",
            "1/1 [==============================] - 0s 6ms/step - loss: 5.0708 - mae: 5.0708\n",
            "Epoch 13/100\n",
            "1/1 [==============================] - 0s 8ms/step - loss: 4.3667 - mae: 4.3667\n",
            "Epoch 14/100\n",
            "1/1 [==============================] - 0s 7ms/step - loss: 4.2493 - mae: 4.2493\n",
            "Epoch 15/100\n",
            "1/1 [==============================] - 0s 5ms/step - loss: 4.4338 - mae: 4.4338\n",
            "Epoch 16/100\n",
            "1/1 [==============================] - 0s 9ms/step - loss: 4.5872 - mae: 4.5872\n",
            "Epoch 17/100\n",
            "1/1 [==============================] - 0s 10ms/step - loss: 4.7108 - mae: 4.7108\n",
            "Epoch 18/100\n",
            "1/1 [==============================] - 0s 10ms/step - loss: 4.8043 - mae: 4.8043\n",
            "Epoch 19/100\n",
            "1/1 [==============================] - 0s 16ms/step - loss: 4.9217 - mae: 4.9217\n",
            "Epoch 20/100\n",
            "1/1 [==============================] - 0s 12ms/step - loss: 5.0121 - mae: 5.0121\n",
            "Epoch 21/100\n",
            "1/1 [==============================] - 0s 9ms/step - loss: 5.0035 - mae: 5.0035\n",
            "Epoch 22/100\n",
            "1/1 [==============================] - 0s 10ms/step - loss: 4.9107 - mae: 4.9107\n",
            "Epoch 23/100\n",
            "1/1 [==============================] - 0s 7ms/step - loss: 4.7482 - mae: 4.7482\n",
            "Epoch 24/100\n",
            "1/1 [==============================] - 0s 6ms/step - loss: 4.6105 - mae: 4.6105\n",
            "Epoch 25/100\n",
            "1/1 [==============================] - 0s 9ms/step - loss: 4.4981 - mae: 4.4981\n",
            "Epoch 26/100\n",
            "1/1 [==============================] - 0s 6ms/step - loss: 4.3803 - mae: 4.3803\n",
            "Epoch 27/100\n",
            "1/1 [==============================] - 0s 8ms/step - loss: 4.2572 - mae: 4.2572\n",
            "Epoch 28/100\n",
            "1/1 [==============================] - 0s 5ms/step - loss: 4.1287 - mae: 4.1287\n",
            "Epoch 29/100\n",
            "1/1 [==============================] - 0s 9ms/step - loss: 3.9969 - mae: 3.9969\n",
            "Epoch 30/100\n",
            "1/1 [==============================] - 0s 8ms/step - loss: 3.8651 - mae: 3.8651\n",
            "Epoch 31/100\n",
            "1/1 [==============================] - 0s 9ms/step - loss: 3.7412 - mae: 3.7412\n",
            "Epoch 32/100\n",
            "1/1 [==============================] - 0s 10ms/step - loss: 3.6526 - mae: 3.6526\n",
            "Epoch 33/100\n",
            "1/1 [==============================] - 0s 6ms/step - loss: 3.6890 - mae: 3.6890\n",
            "Epoch 34/100\n",
            "1/1 [==============================] - 0s 6ms/step - loss: 3.6901 - mae: 3.6901\n",
            "Epoch 35/100\n",
            "1/1 [==============================] - 0s 7ms/step - loss: 3.6706 - mae: 3.6706\n",
            "Epoch 36/100\n",
            "1/1 [==============================] - 0s 25ms/step - loss: 3.6138 - mae: 3.6138\n",
            "Epoch 37/100\n",
            "1/1 [==============================] - 0s 7ms/step - loss: 3.5400 - mae: 3.5400\n",
            "Epoch 38/100\n",
            "1/1 [==============================] - 0s 7ms/step - loss: 3.4385 - mae: 3.4385\n",
            "Epoch 39/100\n",
            "1/1 [==============================] - 0s 7ms/step - loss: 3.3126 - mae: 3.3126\n",
            "Epoch 40/100\n",
            "1/1 [==============================] - 0s 6ms/step - loss: 3.1888 - mae: 3.1888\n",
            "Epoch 41/100\n",
            "1/1 [==============================] - 0s 9ms/step - loss: 3.1694 - mae: 3.1694\n",
            "Epoch 42/100\n",
            "1/1 [==============================] - 0s 7ms/step - loss: 3.1193 - mae: 3.1193\n",
            "Epoch 43/100\n",
            "1/1 [==============================] - 0s 7ms/step - loss: 3.0523 - mae: 3.0523\n",
            "Epoch 44/100\n",
            "1/1 [==============================] - 0s 10ms/step - loss: 2.9665 - mae: 2.9665\n",
            "Epoch 45/100\n",
            "1/1 [==============================] - 0s 12ms/step - loss: 2.8744 - mae: 2.8744\n",
            "Epoch 46/100\n",
            "1/1 [==============================] - 0s 8ms/step - loss: 2.7717 - mae: 2.7717\n",
            "Epoch 47/100\n",
            "1/1 [==============================] - 0s 7ms/step - loss: 2.6523 - mae: 2.6523\n",
            "Epoch 48/100\n",
            "1/1 [==============================] - 0s 9ms/step - loss: 2.5491 - mae: 2.5491\n",
            "Epoch 49/100\n",
            "1/1 [==============================] - 0s 8ms/step - loss: 2.4674 - mae: 2.4674\n",
            "Epoch 50/100\n",
            "1/1 [==============================] - 0s 11ms/step - loss: 2.3393 - mae: 2.3393\n",
            "Epoch 51/100\n",
            "1/1 [==============================] - 0s 7ms/step - loss: 2.2073 - mae: 2.2073\n",
            "Epoch 52/100\n",
            "1/1 [==============================] - 0s 8ms/step - loss: 2.1037 - mae: 2.1037\n",
            "Epoch 53/100\n",
            "1/1 [==============================] - 0s 9ms/step - loss: 1.9841 - mae: 1.9841\n",
            "Epoch 54/100\n",
            "1/1 [==============================] - 0s 10ms/step - loss: 1.8361 - mae: 1.8361\n",
            "Epoch 55/100\n",
            "1/1 [==============================] - 0s 7ms/step - loss: 1.6647 - mae: 1.6647\n",
            "Epoch 56/100\n",
            "1/1 [==============================] - 0s 9ms/step - loss: 1.5211 - mae: 1.5211\n",
            "Epoch 57/100\n",
            "1/1 [==============================] - 0s 7ms/step - loss: 1.3500 - mae: 1.3500\n",
            "Epoch 58/100\n",
            "1/1 [==============================] - 0s 8ms/step - loss: 1.2101 - mae: 1.2101\n",
            "Epoch 59/100\n",
            "1/1 [==============================] - 0s 10ms/step - loss: 1.0000 - mae: 1.0000\n",
            "Epoch 60/100\n",
            "1/1 [==============================] - 0s 7ms/step - loss: 0.8052 - mae: 0.8052\n",
            "Epoch 61/100\n",
            "1/1 [==============================] - 0s 9ms/step - loss: 0.5968 - mae: 0.5968\n",
            "Epoch 62/100\n",
            "1/1 [==============================] - 0s 8ms/step - loss: 0.5266 - mae: 0.5266\n",
            "Epoch 63/100\n",
            "1/1 [==============================] - 0s 7ms/step - loss: 0.4804 - mae: 0.4804\n",
            "Epoch 64/100\n",
            "1/1 [==============================] - 0s 9ms/step - loss: 0.5605 - mae: 0.5605\n",
            "Epoch 65/100\n",
            "1/1 [==============================] - 0s 6ms/step - loss: 0.4817 - mae: 0.4817\n",
            "Epoch 66/100\n",
            "1/1 [==============================] - 0s 8ms/step - loss: 0.5843 - mae: 0.5843\n",
            "Epoch 67/100\n",
            "1/1 [==============================] - 0s 9ms/step - loss: 0.6026 - mae: 0.6026\n",
            "Epoch 68/100\n",
            "1/1 [==============================] - 0s 7ms/step - loss: 0.5606 - mae: 0.5606\n",
            "Epoch 69/100\n",
            "1/1 [==============================] - 0s 15ms/step - loss: 0.7924 - mae: 0.7924\n",
            "Epoch 70/100\n",
            "1/1 [==============================] - 0s 10ms/step - loss: 0.8118 - mae: 0.8118\n",
            "Epoch 71/100\n",
            "1/1 [==============================] - 0s 8ms/step - loss: 0.5822 - mae: 0.5822\n",
            "Epoch 72/100\n",
            "1/1 [==============================] - 0s 8ms/step - loss: 0.6096 - mae: 0.6096\n",
            "Epoch 73/100\n",
            "1/1 [==============================] - 0s 23ms/step - loss: 0.8605 - mae: 0.8605\n",
            "Epoch 74/100\n",
            "1/1 [==============================] - 0s 8ms/step - loss: 0.7411 - mae: 0.7411\n",
            "Epoch 75/100\n",
            "1/1 [==============================] - 0s 10ms/step - loss: 0.4130 - mae: 0.4130\n",
            "Epoch 76/100\n",
            "1/1 [==============================] - 0s 7ms/step - loss: 0.6652 - mae: 0.6652\n",
            "Epoch 77/100\n",
            "1/1 [==============================] - 0s 6ms/step - loss: 0.7780 - mae: 0.7780\n",
            "Epoch 78/100\n",
            "1/1 [==============================] - 0s 6ms/step - loss: 0.6876 - mae: 0.6876\n",
            "Epoch 79/100\n",
            "1/1 [==============================] - 0s 6ms/step - loss: 0.5038 - mae: 0.5038\n",
            "Epoch 80/100\n",
            "1/1 [==============================] - 0s 9ms/step - loss: 0.4280 - mae: 0.4280\n",
            "Epoch 81/100\n",
            "1/1 [==============================] - 0s 9ms/step - loss: 0.4979 - mae: 0.4979\n",
            "Epoch 82/100\n",
            "1/1 [==============================] - 0s 6ms/step - loss: 0.3250 - mae: 0.3250\n",
            "Epoch 83/100\n",
            "1/1 [==============================] - 0s 6ms/step - loss: 0.3790 - mae: 0.3790\n",
            "Epoch 84/100\n",
            "1/1 [==============================] - 0s 6ms/step - loss: 0.3725 - mae: 0.3725\n",
            "Epoch 85/100\n",
            "1/1 [==============================] - 0s 9ms/step - loss: 0.3575 - mae: 0.3575\n",
            "Epoch 86/100\n",
            "1/1 [==============================] - 0s 10ms/step - loss: 0.3826 - mae: 0.3826\n",
            "Epoch 87/100\n",
            "1/1 [==============================] - 0s 6ms/step - loss: 0.3152 - mae: 0.3152\n",
            "Epoch 88/100\n",
            "1/1 [==============================] - 0s 17ms/step - loss: 0.3187 - mae: 0.3187\n",
            "Epoch 89/100\n",
            "1/1 [==============================] - 0s 10ms/step - loss: 0.3104 - mae: 0.3104\n",
            "Epoch 90/100\n",
            "1/1 [==============================] - 0s 5ms/step - loss: 0.3197 - mae: 0.3197\n",
            "Epoch 91/100\n",
            "1/1 [==============================] - 0s 6ms/step - loss: 0.3356 - mae: 0.3356\n",
            "Epoch 92/100\n",
            "1/1 [==============================] - 0s 6ms/step - loss: 0.3589 - mae: 0.3589\n",
            "Epoch 93/100\n",
            "1/1 [==============================] - 0s 10ms/step - loss: 0.3169 - mae: 0.3169\n",
            "Epoch 94/100\n",
            "1/1 [==============================] - 0s 9ms/step - loss: 0.2651 - mae: 0.2651\n",
            "Epoch 95/100\n",
            "1/1 [==============================] - 0s 10ms/step - loss: 0.2708 - mae: 0.2708\n",
            "Epoch 96/100\n",
            "1/1 [==============================] - 0s 6ms/step - loss: 0.2262 - mae: 0.2262\n",
            "Epoch 97/100\n",
            "1/1 [==============================] - 0s 13ms/step - loss: 0.3556 - mae: 0.3556\n",
            "Epoch 98/100\n",
            "1/1 [==============================] - 0s 9ms/step - loss: 0.2755 - mae: 0.2755\n",
            "Epoch 99/100\n",
            "1/1 [==============================] - 0s 12ms/step - loss: 0.2361 - mae: 0.2361\n",
            "Epoch 100/100\n",
            "1/1 [==============================] - 0s 13ms/step - loss: 0.3621 - mae: 0.3621\n"
          ],
          "name": "stdout"
        },
        {
          "output_type": "execute_result",
          "data": {
            "text/plain": [
              "<tensorflow.python.keras.callbacks.History at 0x7fe30aaad450>"
            ]
          },
          "metadata": {
            "tags": []
          },
          "execution_count": 109
        }
      ]
    },
    {
      "cell_type": "code",
      "metadata": {
        "colab": {
          "base_uri": "https://localhost:8080/"
        },
        "id": "7Z83dgNaxhOj",
        "outputId": "12d15830-8cd2-4aef-9e0c-705a886b1944"
      },
      "source": [
        "model.predict([17])"
      ],
      "execution_count": 110,
      "outputs": [
        {
          "output_type": "execute_result",
          "data": {
            "text/plain": [
              "array([[27.874912]], dtype=float32)"
            ]
          },
          "metadata": {
            "tags": []
          },
          "execution_count": 110
        }
      ]
    },
    {
      "cell_type": "markdown",
      "metadata": {
        "id": "8akpmdKixs0Q"
      },
      "source": [
        "# common ways to improve model\n",
        "adding layers,\n",
        "increase the number of hidden layers,\n",
        "change the activation function,\n",
        "change the optimization function,\n",
        "change the learning rate,\n",
        "Fitting for longer"
      ]
    },
    {
      "cell_type": "markdown",
      "metadata": {
        "id": "I5BhJxWooBKZ"
      },
      "source": [
        "# Evaluating a model\n",
        "in practice a typical workthrough you will go when building a neural network is\n",
        "Build a model-Fit it-Evaluate it-tweak a model-fit it and so on\n",
        "# Visualizing:\n",
        "* the data\n",
        "* the model itself\n",
        "* visualize training of a model\n",
        "* visualize predictions"
      ]
    },
    {
      "cell_type": "code",
      "metadata": {
        "colab": {
          "base_uri": "https://localhost:8080/"
        },
        "id": "WipGB4WDpIZt",
        "outputId": "cf21691a-e52e-4410-ac9a-3d87b919a2a8"
      },
      "source": [
        "# Visualizing :\n",
        "# Making a bigger dataset\n",
        "X= tf.range (-100,100,4)\n",
        "X"
      ],
      "execution_count": 111,
      "outputs": [
        {
          "output_type": "execute_result",
          "data": {
            "text/plain": [
              "<tf.Tensor: shape=(50,), dtype=int32, numpy=\n",
              "array([-100,  -96,  -92,  -88,  -84,  -80,  -76,  -72,  -68,  -64,  -60,\n",
              "        -56,  -52,  -48,  -44,  -40,  -36,  -32,  -28,  -24,  -20,  -16,\n",
              "        -12,   -8,   -4,    0,    4,    8,   12,   16,   20,   24,   28,\n",
              "         32,   36,   40,   44,   48,   52,   56,   60,   64,   68,   72,\n",
              "         76,   80,   84,   88,   92,   96], dtype=int32)>"
            ]
          },
          "metadata": {
            "tags": []
          },
          "execution_count": 111
        }
      ]
    },
    {
      "cell_type": "code",
      "metadata": {
        "colab": {
          "base_uri": "https://localhost:8080/"
        },
        "id": "xvIsvvU-q-ZX",
        "outputId": "83081629-1df2-495e-9582-263a29667967"
      },
      "source": [
        "# making a label \n",
        "y= X+10\n",
        "y"
      ],
      "execution_count": 112,
      "outputs": [
        {
          "output_type": "execute_result",
          "data": {
            "text/plain": [
              "<tf.Tensor: shape=(50,), dtype=int32, numpy=\n",
              "array([-90, -86, -82, -78, -74, -70, -66, -62, -58, -54, -50, -46, -42,\n",
              "       -38, -34, -30, -26, -22, -18, -14, -10,  -6,  -2,   2,   6,  10,\n",
              "        14,  18,  22,  26,  30,  34,  38,  42,  46,  50,  54,  58,  62,\n",
              "        66,  70,  74,  78,  82,  86,  90,  94,  98, 102, 106], dtype=int32)>"
            ]
          },
          "metadata": {
            "tags": []
          },
          "execution_count": 112
        }
      ]
    },
    {
      "cell_type": "code",
      "metadata": {
        "colab": {
          "base_uri": "https://localhost:8080/",
          "height": 282
        },
        "id": "NoWv3lo2rDKa",
        "outputId": "84626a63-a08c-4c50-e734-d68e2bd27816"
      },
      "source": [
        "import matplotlib.pyplot as plt\n",
        "plt.scatter(X,y)"
      ],
      "execution_count": 113,
      "outputs": [
        {
          "output_type": "execute_result",
          "data": {
            "text/plain": [
              "<matplotlib.collections.PathCollection at 0x7fe304407dd0>"
            ]
          },
          "metadata": {
            "tags": []
          },
          "execution_count": 113
        },
        {
          "output_type": "display_data",
          "data": {
            "image/png": "[encoded data removed]",
            "text/plain": [
              "<Figure size 432x288 with 1 Axes>"
            ]
          },
          "metadata": {
            "tags": [],
            "needs_background": "light"
          }
        }
      ]
    },
    {
      "cell_type": "code",
      "metadata": {
        "id": "kcZ04oBbrNIk"
      },
      "source": [
        "X_train = X[:40]# First 40 are training samples_80% of data\n",
        "y_train = y[:40]\n",
        "\n",
        "\n",
        "X_test = X[40:]\n",
        "y_test = y[40:]"
      ],
      "execution_count": 114,
      "outputs": []
    },
    {
      "cell_type": "code",
      "metadata": {
        "colab": {
          "base_uri": "https://localhost:8080/",
          "height": 282
        },
        "id": "2kF5VBXzrs2C",
        "outputId": "18d481e6-3807-4733-a836-90b1b994f0fe"
      },
      "source": [
        "plt.scatter(X_train,y_train)"
      ],
      "execution_count": 115,
      "outputs": [
        {
          "output_type": "execute_result",
          "data": {
            "text/plain": [
              "<matplotlib.collections.PathCollection at 0x7fe30aa44610>"
            ]
          },
          "metadata": {
            "tags": []
          },
          "execution_count": 115
        },
        {
          "output_type": "display_data",
          "data": {
            "image/png": "[encoded data removed]",
            "text/plain": [
              "<Figure size 432x288 with 1 Axes>"
            ]
          },
          "metadata": {
            "tags": [],
            "needs_background": "light"
          }
        }
      ]
    },
    {
      "cell_type": "code",
      "metadata": {
        "colab": {
          "base_uri": "https://localhost:8080/",
          "height": 445
        },
        "id": "7JfjGBOPsDnO",
        "outputId": "7c3e6df5-8f9d-4a93-9b0d-93740045c5d6"
      },
      "source": [
        "plt.figure(figsize=(10,7))\n",
        "plt.scatter(X_train,y_train,c=\"b\",label=\"Training Data\")\n",
        "plt.scatter(X_test,y_test,c=\"r\",label=\"Test Data\")\n",
        "plt.legend()"
      ],
      "execution_count": 116,
      "outputs": [
        {
          "output_type": "execute_result",
          "data": {
            "text/plain": [
              "<matplotlib.legend.Legend at 0x7fe30aac6510>"
            ]
          },
          "metadata": {
            "tags": []
          },
          "execution_count": 116
        },
        {
          "output_type": "display_data",
          "data": {
            "image/png": "[encoded data removed]",
            "text/plain": [
              "<Figure size 720x504 with 1 Axes>"
            ]
          },
          "metadata": {
            "tags": [],
            "needs_background": "light"
          }
        }
      ]
    },
    {
      "cell_type": "code",
      "metadata": {
        "id": "fs6e4OPht36n"
      },
      "source": [
        "# LET's have a look at how to build a neural network for our data\n",
        "# 1,,creating a model\n",
        "model = tf.keras.Sequential([tf.keras.layers.Dense(1)])\n",
        "#2 compiling the model\n",
        "model.compile(loss='mae',optimizer=tf.keras.optimizers.SGD(),\n",
        "              metrics=[\"mae\"])\n",
        "#3 Fitting the model\n",
        "#model.fit(X_train,y_train,epocs=100)"
      ],
      "execution_count": 117,
      "outputs": []
    },
    {
      "cell_type": "code",
      "metadata": {
        "colab": {
          "base_uri": "https://localhost:8080/",
          "height": 316
        },
        "id": "dnmC-ETLvCCx",
        "outputId": "c82f8880-5ca3-465b-c008-8ae36898a637"
      },
      "source": [
        "# Visualizing the model\n",
        "model.summary()"
      ],
      "execution_count": 118,
      "outputs": [
        {
          "output_type": "error",
          "ename": "ValueError",
          "evalue": "ignored",
          "traceback": [
            "\u001b[0;31m---------------------------------------------------------------------------\u001b[0m",
            "\u001b[0;31mValueError\u001b[0m                                Traceback (most recent call last)",
            "\u001b[0;32m<ipython-input-118-16bf0c5fe650>\u001b[0m in \u001b[0;36m<module>\u001b[0;34m()\u001b[0m\n\u001b[1;32m      1\u001b[0m \u001b[0;31m# Visualizing the model\u001b[0m\u001b[0;34m\u001b[0m\u001b[0;34m\u001b[0m\u001b[0;34m\u001b[0m\u001b[0m\n\u001b[0;32m----> 2\u001b[0;31m \u001b[0mmodel\u001b[0m\u001b[0;34m.\u001b[0m\u001b[0msummary\u001b[0m\u001b[0;34m(\u001b[0m\u001b[0;34m)\u001b[0m\u001b[0;34m\u001b[0m\u001b[0;34m\u001b[0m\u001b[0m\n\u001b[0m",
            "\u001b[0;32m/usr/local/lib/python3.7/dist-packages/tensorflow/python/keras/engine/training.py\u001b[0m in \u001b[0;36msummary\u001b[0;34m(self, line_length, positions, print_fn)\u001b[0m\n\u001b[1;32m   2475\u001b[0m     \"\"\"\n\u001b[1;32m   2476\u001b[0m     \u001b[0;32mif\u001b[0m \u001b[0;32mnot\u001b[0m \u001b[0mself\u001b[0m\u001b[0;34m.\u001b[0m\u001b[0mbuilt\u001b[0m\u001b[0;34m:\u001b[0m\u001b[0;34m\u001b[0m\u001b[0;34m\u001b[0m\u001b[0m\n\u001b[0;32m-> 2477\u001b[0;31m       raise ValueError('This model has not yet been built. '\n\u001b[0m\u001b[1;32m   2478\u001b[0m                        \u001b[0;34m'Build the model first by calling `build()` or calling '\u001b[0m\u001b[0;34m\u001b[0m\u001b[0;34m\u001b[0m\u001b[0m\n\u001b[1;32m   2479\u001b[0m                        \u001b[0;34m'`fit()` with some data, or specify '\u001b[0m\u001b[0;34m\u001b[0m\u001b[0;34m\u001b[0m\u001b[0m\n",
            "\u001b[0;31mValueError\u001b[0m: This model has not yet been built. Build the model first by calling `build()` or calling `fit()` with some data, or specify an `input_shape` argument in the first layer(s) for automatic build."
          ]
        }
      ]
    },
    {
      "cell_type": "code",
      "metadata": {
        "id": "MJTvnlN0xeJE"
      },
      "source": [
        "# Lets create a model which builds automatically by defining the input_shape argument in the first layer\n",
        "tf.random.set_seed(42)\n",
        "# creating model(same as above)\n",
        "model = tf.keras.Sequential([\n",
        "                             tf.keras.layers.Dense(10,input_shape=[1],name=\"input_layer\"),\n",
        "                             tf.keras.layers.Dense(1,name=\"output_layer\")\n",
        "],name=\"model_1\")\n",
        "# we are giving shape 0 as we are predictiing only one output according to each input\n",
        "model.compile(loss=tf.keras.losses.mae,\n",
        "              optimizer=tf.keras.optimizers.SGD(),\n",
        "              metrics=[\"mae\"])\n"
      ],
      "execution_count": 123,
      "outputs": []
    },
    {
      "cell_type": "code",
      "metadata": {
        "colab": {
          "base_uri": "https://localhost:8080/"
        },
        "id": "BzTgKweQyv12",
        "outputId": "0c75ae14-bd72-4f7a-9777-4c49127cea10"
      },
      "source": [
        "model.summary()"
      ],
      "execution_count": 124,
      "outputs": [
        {
          "output_type": "stream",
          "text": [
            "Model: \"model_1\"\n",
            "_________________________________________________________________\n",
            "Layer (type)                 Output Shape              Param #   \n",
            "=================================================================\n",
            "input_layer (Dense)          (None, 10)                20        \n",
            "_________________________________________________________________\n",
            "output_layer (Dense)         (None, 1)                 11        \n",
            "=================================================================\n",
            "Total params: 31\n",
            "Trainable params: 31\n",
            "Non-trainable params: 0\n",
            "_________________________________________________________________\n"
          ],
          "name": "stdout"
        }
      ]
    },
    {
      "cell_type": "code",
      "metadata": {
        "colab": {
          "base_uri": "https://localhost:8080/"
        },
        "id": "TiLxn00EzY7O",
        "outputId": "9f7f09ab-9c66-45b4-b525-0643d4798d1a"
      },
      "source": [
        "model.fit(X_train,y_train,epochs=100,verbose=1)"
      ],
      "execution_count": 125,
      "outputs": [
        {
          "output_type": "stream",
          "text": [
            "Epoch 1/100\n",
            "2/2 [==============================] - 0s 6ms/step - loss: 27.4058 - mae: 27.4058\n",
            "Epoch 2/100\n",
            "2/2 [==============================] - 0s 3ms/step - loss: 24.6339 - mae: 24.6339\n",
            "Epoch 3/100\n",
            "2/2 [==============================] - 0s 3ms/step - loss: 29.8935 - mae: 29.8935\n",
            "Epoch 4/100\n",
            "2/2 [==============================] - 0s 9ms/step - loss: 27.4055 - mae: 27.4055\n",
            "Epoch 5/100\n",
            "2/2 [==============================] - 0s 4ms/step - loss: 14.9463 - mae: 14.9463\n",
            "Epoch 6/100\n",
            "2/2 [==============================] - 0s 4ms/step - loss: 11.8819 - mae: 11.8819\n",
            "Epoch 7/100\n",
            "2/2 [==============================] - 0s 4ms/step - loss: 11.1988 - mae: 11.1988\n",
            "Epoch 8/100\n",
            "2/2 [==============================] - 0s 5ms/step - loss: 11.0910 - mae: 11.0910\n",
            "Epoch 9/100\n",
            "2/2 [==============================] - 0s 4ms/step - loss: 40.4763 - mae: 40.4763\n",
            "Epoch 10/100\n",
            "2/2 [==============================] - 0s 5ms/step - loss: 27.8688 - mae: 27.8688\n",
            "Epoch 11/100\n",
            "2/2 [==============================] - 0s 3ms/step - loss: 10.2473 - mae: 10.2473\n",
            "Epoch 12/100\n",
            "2/2 [==============================] - 0s 3ms/step - loss: 25.2803 - mae: 25.2803\n",
            "Epoch 13/100\n",
            "2/2 [==============================] - 0s 4ms/step - loss: 16.9897 - mae: 16.9897\n",
            "Epoch 14/100\n",
            "2/2 [==============================] - 0s 4ms/step - loss: 25.9217 - mae: 25.9217\n",
            "Epoch 15/100\n",
            "2/2 [==============================] - 0s 4ms/step - loss: 17.9948 - mae: 17.9948\n",
            "Epoch 16/100\n",
            "2/2 [==============================] - 0s 3ms/step - loss: 7.3510 - mae: 7.3510\n",
            "Epoch 17/100\n",
            "2/2 [==============================] - 0s 7ms/step - loss: 10.8636 - mae: 10.8636\n",
            "Epoch 18/100\n",
            "2/2 [==============================] - 0s 10ms/step - loss: 19.5304 - mae: 19.5304\n",
            "Epoch 19/100\n",
            "2/2 [==============================] - 0s 5ms/step - loss: 10.3469 - mae: 10.3469\n",
            "Epoch 20/100\n",
            "2/2 [==============================] - 0s 6ms/step - loss: 17.6985 - mae: 17.6985\n",
            "Epoch 21/100\n",
            "2/2 [==============================] - 0s 5ms/step - loss: 15.8984 - mae: 15.8984\n",
            "Epoch 22/100\n",
            "2/2 [==============================] - 0s 6ms/step - loss: 14.1991 - mae: 14.1991\n",
            "Epoch 23/100\n",
            "2/2 [==============================] - 0s 8ms/step - loss: 8.7720 - mae: 8.7720\n",
            "Epoch 24/100\n",
            "2/2 [==============================] - 0s 4ms/step - loss: 11.0570 - mae: 11.0570\n",
            "Epoch 25/100\n",
            "2/2 [==============================] - 0s 4ms/step - loss: 12.6838 - mae: 12.6838\n",
            "Epoch 26/100\n",
            "2/2 [==============================] - 0s 9ms/step - loss: 26.1877 - mae: 26.1877\n",
            "Epoch 27/100\n",
            "2/2 [==============================] - 0s 4ms/step - loss: 11.7432 - mae: 11.7432\n",
            "Epoch 28/100\n",
            "2/2 [==============================] - 0s 19ms/step - loss: 22.8730 - mae: 22.8730\n",
            "Epoch 29/100\n",
            "2/2 [==============================] - 0s 4ms/step - loss: 9.2459 - mae: 9.2459\n",
            "Epoch 30/100\n",
            "2/2 [==============================] - 0s 7ms/step - loss: 29.2641 - mae: 29.2641\n",
            "Epoch 31/100\n",
            "2/2 [==============================] - 0s 3ms/step - loss: 53.0225 - mae: 53.0225\n",
            "Epoch 32/100\n",
            "2/2 [==============================] - 0s 5ms/step - loss: 11.9951 - mae: 11.9951\n",
            "Epoch 33/100\n",
            "2/2 [==============================] - 0s 3ms/step - loss: 15.6357 - mae: 15.6357\n",
            "Epoch 34/100\n",
            "2/2 [==============================] - 0s 4ms/step - loss: 12.6925 - mae: 12.6925\n",
            "Epoch 35/100\n",
            "2/2 [==============================] - 0s 5ms/step - loss: 9.2398 - mae: 9.2398\n",
            "Epoch 36/100\n",
            "2/2 [==============================] - 0s 6ms/step - loss: 16.6497 - mae: 16.6497\n",
            "Epoch 37/100\n",
            "2/2 [==============================] - 0s 5ms/step - loss: 11.0382 - mae: 11.0382\n",
            "Epoch 38/100\n",
            "2/2 [==============================] - 0s 6ms/step - loss: 18.1634 - mae: 18.1634\n",
            "Epoch 39/100\n",
            "2/2 [==============================] - 0s 8ms/step - loss: 19.1013 - mae: 19.1013\n",
            "Epoch 40/100\n",
            "2/2 [==============================] - 0s 8ms/step - loss: 20.4324 - mae: 20.4324\n",
            "Epoch 41/100\n",
            "2/2 [==============================] - 0s 8ms/step - loss: 14.9102 - mae: 14.9102\n",
            "Epoch 42/100\n",
            "2/2 [==============================] - 0s 4ms/step - loss: 12.2809 - mae: 12.2809\n",
            "Epoch 43/100\n",
            "2/2 [==============================] - 0s 8ms/step - loss: 10.7333 - mae: 10.7333\n",
            "Epoch 44/100\n",
            "2/2 [==============================] - 0s 9ms/step - loss: 23.0260 - mae: 23.0260\n",
            "Epoch 45/100\n",
            "2/2 [==============================] - 0s 8ms/step - loss: 10.3897 - mae: 10.3897\n",
            "Epoch 46/100\n",
            "2/2 [==============================] - 0s 4ms/step - loss: 11.7904 - mae: 11.7904\n",
            "Epoch 47/100\n",
            "2/2 [==============================] - 0s 6ms/step - loss: 9.6438 - mae: 9.6438\n",
            "Epoch 48/100\n",
            "2/2 [==============================] - 0s 6ms/step - loss: 17.2335 - mae: 17.2335\n",
            "Epoch 49/100\n",
            "2/2 [==============================] - 0s 4ms/step - loss: 9.5729 - mae: 9.5729\n",
            "Epoch 50/100\n",
            "2/2 [==============================] - 0s 3ms/step - loss: 13.8185 - mae: 13.8185\n",
            "Epoch 51/100\n",
            "2/2 [==============================] - 0s 5ms/step - loss: 11.5958 - mae: 11.5958\n",
            "Epoch 52/100\n",
            "2/2 [==============================] - 0s 7ms/step - loss: 30.5538 - mae: 30.5538\n",
            "Epoch 53/100\n",
            "2/2 [==============================] - 0s 4ms/step - loss: 14.3541 - mae: 14.3541\n",
            "Epoch 54/100\n",
            "2/2 [==============================] - 0s 3ms/step - loss: 23.9713 - mae: 23.9713\n",
            "Epoch 55/100\n",
            "2/2 [==============================] - 0s 6ms/step - loss: 23.1938 - mae: 23.1938\n",
            "Epoch 56/100\n",
            "2/2 [==============================] - 0s 3ms/step - loss: 10.8837 - mae: 10.8837\n",
            "Epoch 57/100\n",
            "2/2 [==============================] - 0s 6ms/step - loss: 12.7445 - mae: 12.7445\n",
            "Epoch 58/100\n",
            "2/2 [==============================] - 0s 4ms/step - loss: 9.5995 - mae: 9.5995\n",
            "Epoch 59/100\n",
            "2/2 [==============================] - 0s 3ms/step - loss: 12.5172 - mae: 12.5172\n",
            "Epoch 60/100\n",
            "2/2 [==============================] - 0s 3ms/step - loss: 12.3200 - mae: 12.3200\n",
            "Epoch 61/100\n",
            "2/2 [==============================] - 0s 8ms/step - loss: 17.4604 - mae: 17.4604\n",
            "Epoch 62/100\n",
            "2/2 [==============================] - 0s 8ms/step - loss: 10.6052 - mae: 10.6052\n",
            "Epoch 63/100\n",
            "2/2 [==============================] - 0s 8ms/step - loss: 10.4893 - mae: 10.4893\n",
            "Epoch 64/100\n",
            "2/2 [==============================] - 0s 4ms/step - loss: 24.8450 - mae: 24.8450\n",
            "Epoch 65/100\n",
            "2/2 [==============================] - 0s 17ms/step - loss: 10.6761 - mae: 10.6761\n",
            "Epoch 66/100\n",
            "2/2 [==============================] - 0s 2ms/step - loss: 21.7809 - mae: 21.7809\n",
            "Epoch 67/100\n",
            "2/2 [==============================] - 0s 3ms/step - loss: 10.7136 - mae: 10.7136\n",
            "Epoch 68/100\n",
            "2/2 [==============================] - 0s 6ms/step - loss: 10.6397 - mae: 10.6397\n",
            "Epoch 69/100\n",
            "2/2 [==============================] - 0s 5ms/step - loss: 22.6914 - mae: 22.6914\n",
            "Epoch 70/100\n",
            "2/2 [==============================] - 0s 4ms/step - loss: 9.3316 - mae: 9.3316\n",
            "Epoch 71/100\n",
            "2/2 [==============================] - 0s 3ms/step - loss: 15.4355 - mae: 15.4355\n",
            "Epoch 72/100\n",
            "2/2 [==============================] - 0s 4ms/step - loss: 6.7437 - mae: 6.7437\n",
            "Epoch 73/100\n",
            "2/2 [==============================] - 0s 8ms/step - loss: 11.6891 - mae: 11.6891\n",
            "Epoch 74/100\n",
            "2/2 [==============================] - 0s 3ms/step - loss: 24.0400 - mae: 24.0400\n",
            "Epoch 75/100\n",
            "2/2 [==============================] - 0s 4ms/step - loss: 9.5896 - mae: 9.5896\n",
            "Epoch 76/100\n",
            "2/2 [==============================] - 0s 3ms/step - loss: 12.4371 - mae: 12.4371\n",
            "Epoch 77/100\n",
            "2/2 [==============================] - 0s 5ms/step - loss: 16.6489 - mae: 16.6489\n",
            "Epoch 78/100\n",
            "2/2 [==============================] - 0s 7ms/step - loss: 9.0614 - mae: 9.0614\n",
            "Epoch 79/100\n",
            "2/2 [==============================] - 0s 7ms/step - loss: 23.9675 - mae: 23.9675\n",
            "Epoch 80/100\n",
            "2/2 [==============================] - 0s 6ms/step - loss: 26.7463 - mae: 26.7463\n",
            "Epoch 81/100\n",
            "2/2 [==============================] - 0s 9ms/step - loss: 11.6714 - mae: 11.6714\n",
            "Epoch 82/100\n",
            "2/2 [==============================] - 0s 7ms/step - loss: 12.0228 - mae: 12.0228\n",
            "Epoch 83/100\n",
            "2/2 [==============================] - 0s 4ms/step - loss: 17.4218 - mae: 17.4218\n",
            "Epoch 84/100\n",
            "2/2 [==============================] - 0s 4ms/step - loss: 7.2629 - mae: 7.2629\n",
            "Epoch 85/100\n",
            "2/2 [==============================] - 0s 6ms/step - loss: 14.9650 - mae: 14.9650\n",
            "Epoch 86/100\n",
            "2/2 [==============================] - 0s 4ms/step - loss: 15.2862 - mae: 15.2862\n",
            "Epoch 87/100\n",
            "2/2 [==============================] - 0s 8ms/step - loss: 19.1086 - mae: 19.1086\n",
            "Epoch 88/100\n",
            "2/2 [==============================] - 0s 4ms/step - loss: 29.8229 - mae: 29.8229\n",
            "Epoch 89/100\n",
            "2/2 [==============================] - 0s 3ms/step - loss: 10.1742 - mae: 10.1742\n",
            "Epoch 90/100\n",
            "2/2 [==============================] - 0s 5ms/step - loss: 21.5240 - mae: 21.5240\n",
            "Epoch 91/100\n",
            "2/2 [==============================] - 0s 4ms/step - loss: 10.5716 - mae: 10.5716\n",
            "Epoch 92/100\n",
            "2/2 [==============================] - 0s 5ms/step - loss: 18.3977 - mae: 18.3977\n",
            "Epoch 93/100\n",
            "2/2 [==============================] - 0s 7ms/step - loss: 7.4138 - mae: 7.4138\n",
            "Epoch 94/100\n",
            "2/2 [==============================] - 0s 13ms/step - loss: 17.7380 - mae: 17.7380\n",
            "Epoch 95/100\n",
            "2/2 [==============================] - 0s 6ms/step - loss: 11.1144 - mae: 11.1144\n",
            "Epoch 96/100\n",
            "2/2 [==============================] - 0s 4ms/step - loss: 19.4346 - mae: 19.4346\n",
            "Epoch 97/100\n",
            "2/2 [==============================] - 0s 9ms/step - loss: 12.1593 - mae: 12.1593\n",
            "Epoch 98/100\n",
            "2/2 [==============================] - 0s 31ms/step - loss: 11.5653 - mae: 11.5653\n",
            "Epoch 99/100\n",
            "2/2 [==============================] - 0s 7ms/step - loss: 13.8827 - mae: 13.8827\n",
            "Epoch 100/100\n",
            "2/2 [==============================] - 0s 6ms/step - loss: 20.2277 - mae: 20.2277\n"
          ],
          "name": "stdout"
        },
        {
          "output_type": "execute_result",
          "data": {
            "text/plain": [
              "<tensorflow.python.keras.callbacks.History at 0x7fe30b61af50>"
            ]
          },
          "metadata": {
            "tags": []
          },
          "execution_count": 125
        }
      ]
    },
    {
      "cell_type": "code",
      "metadata": {
        "colab": {
          "base_uri": "https://localhost:8080/",
          "height": 312
        },
        "id": "bTCiNgYC1Uhs",
        "outputId": "ffa21884-7c3d-4fe1-dd35-09dc3cee9b21"
      },
      "source": [
        "from tensorflow.keras.utils import plot_model\n",
        "plot_model(model=model,show_shapes=True)"
      ],
      "execution_count": 126,
      "outputs": [
        {
          "output_type": "execute_result",
          "data": {
            "image/png": "[encoded data removed]",
            "text/plain": [
              "<IPython.core.display.Image object>"
            ]
          },
          "metadata": {
            "tags": []
          },
          "execution_count": 126
        }
      ]
    },
    {
      "cell_type": "markdown",
      "metadata": {
        "id": "6cNYqL3h6Sgt"
      },
      "source": [
        "# Visualizing our model's prediction"
      ]
    },
    {
      "cell_type": "code",
      "metadata": {
        "colab": {
          "base_uri": "https://localhost:8080/"
        },
        "id": "9cCKqVdND6zQ",
        "outputId": "0f3623eb-be9d-4eb3-dd51-a14763cc8fe7"
      },
      "source": [
        "# Make some predictions\n",
        "y_pred = model.predict(X_test)\n",
        "y_pred\n"
      ],
      "execution_count": 127,
      "outputs": [
        {
          "output_type": "execute_result",
          "data": {
            "text/plain": [
              "array([[ 70.55218 ],\n",
              "       [ 75.13991 ],\n",
              "       [ 79.72763 ],\n",
              "       [ 84.31535 ],\n",
              "       [ 88.903076],\n",
              "       [ 93.49081 ],\n",
              "       [ 98.07853 ],\n",
              "       [102.66625 ],\n",
              "       [107.253975],\n",
              "       [111.8417  ]], dtype=float32)"
            ]
          },
          "metadata": {
            "tags": []
          },
          "execution_count": 127
        }
      ]
    },
    {
      "cell_type": "code",
      "metadata": {
        "colab": {
          "base_uri": "https://localhost:8080/"
        },
        "id": "2ziuau8cE25o",
        "outputId": "392fa1bc-d74b-4f8e-c804-3e44cc28f3fd"
      },
      "source": [
        "y_test"
      ],
      "execution_count": 128,
      "outputs": [
        {
          "output_type": "execute_result",
          "data": {
            "text/plain": [
              "<tf.Tensor: shape=(10,), dtype=int32, numpy=array([ 70,  74,  78,  82,  86,  90,  94,  98, 102, 106], dtype=int32)>"
            ]
          },
          "metadata": {
            "tags": []
          },
          "execution_count": 128
        }
      ]
    },
    {
      "cell_type": "code",
      "metadata": {
        "colab": {
          "base_uri": "https://localhost:8080/",
          "height": 282
        },
        "id": "Tb8fzAzTE6vZ",
        "outputId": "82898972-abe7-4558-e842-fcf7ecb9c06d"
      },
      "source": [
        "plt.scatter(y_pred,y_test)"
      ],
      "execution_count": 129,
      "outputs": [
        {
          "output_type": "execute_result",
          "data": {
            "text/plain": [
              "<matplotlib.collections.PathCollection at 0x7fe30ce19d50>"
            ]
          },
          "metadata": {
            "tags": []
          },
          "execution_count": 129
        },
        {
          "output_type": "display_data",
          "data": {
            "image/png": "[encoded data removed]",
            "text/plain": [
              "<Figure size 432x288 with 1 Axes>"
            ]
          },
          "metadata": {
            "tags": [],
            "needs_background": "light"
          }
        }
      ]
    },
    {
      "cell_type": "code",
      "metadata": {
        "id": "ie88zkRqFAz4"
      },
      "source": [
        "# Lets create a plotting function\n",
        "def plot_predictions(train_data=X_train,\n",
        "                     train_labels=y_train,\n",
        "                     test_data=X_test,\n",
        "                     test_labels=y_test,\n",
        "                     predictions=y_pred):\n",
        "    \"\"\"Plots training data, test data and compare predictions to ground truth label\"\"\"\n",
        "    plt.figsize=(10,7)\n",
        "    plt.scatter(train_data,train_labels,c=\"b\",label=\"Training Data\")\n",
        "    plt.scatter(test_data,test_labels,c='r',label=\"Testing Data\")\n",
        "    # plotting model predictions in green\n",
        "    plt.scatter(test_data,predictions,c=\"g\",label=\"Predictions\")\n",
        "    plt.legend();"
      ],
      "execution_count": 132,
      "outputs": []
    },
    {
      "cell_type": "code",
      "metadata": {
        "colab": {
          "base_uri": "https://localhost:8080/",
          "height": 265
        },
        "id": "5287sB_aG0pr",
        "outputId": "b942cb9d-fae7-44ed-fb14-9f1d6a0203b9"
      },
      "source": [
        "plot_predictions()"
      ],
      "execution_count": 133,
      "outputs": [
        {
          "output_type": "display_data",
          "data": {
            "image/png": "[encoded data removed]",
            "text/plain": [
              "<Figure size 432x288 with 1 Axes>"
            ]
          },
          "metadata": {
            "tags": [],
            "needs_background": "light"
          }
        }
      ]
    },
    {
      "cell_type": "markdown",
      "metadata": {
        "id": "RpmFDS32HIHT"
      },
      "source": [
        "# Evaluating our model's prediction with regression evaluation metrics\n",
        "# Regression evaluation metrics:MAE,MSE"
      ]
    },
    {
      "cell_type": "code",
      "metadata": {
        "id": "M2PmEzI5H2w0"
      },
      "source": [
        ""
      ],
      "execution_count": null,
      "outputs": []
    }
  ]
}