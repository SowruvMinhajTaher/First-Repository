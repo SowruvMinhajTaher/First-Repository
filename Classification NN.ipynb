{
  "nbformat": 4,
  "nbformat_minor": 0,
  "metadata": {
    "colab": {
      "name": "TF3.ipynb",
      "provenance": [],
      "collapsed_sections": [],
      "authorship_tag": "ABX9TyO6KqPehPamo+kJzLxp0EMZ",
      "include_colab_link": true
    },
    "kernelspec": {
      "name": "python3",
      "display_name": "Python 3"
    },
    "language_info": {
      "name": "python"
    }
  },
  "cells": [
    {
      "cell_type": "markdown",
      "metadata": {
        "id": "view-in-github",
        "colab_type": "text"
      },
      "source": [
        "<a href=\"https://colab.research.google.com/github/SowruvMinhajTaher/First-Repository/blob/main/Classification%20NN.ipynb\" target=\"_parent\"><img src=\"https://colab.research.google.com/assets/colab-badge.svg\" alt=\"Open In Colab\"/></a>"
      ]
    },
    {
      "cell_type": "code",
      "metadata": {
        "id": "l13yiPpyeATv"
      },
      "source": [
        "# Introduction to neural network classification with Tensorflow"
      ],
      "execution_count": 1,
      "outputs": []
    },
    {
      "cell_type": "code",
      "metadata": {
        "id": "ShZb3vHG5S2Z"
      },
      "source": [
        "# creating data to view and fit\n",
        "from sklearn.datasets import make_circles\n",
        "#make 1000 examples\n",
        "n_samples = 1000\n",
        "X,y = make_circles(n_samples,\n",
        "                   noise=0.03,\n",
        "                   random_state=42)"
      ],
      "execution_count": 2,
      "outputs": []
    },
    {
      "cell_type": "code",
      "metadata": {
        "colab": {
          "base_uri": "https://localhost:8080/"
        },
        "id": "4ZuIDZj96K9H",
        "outputId": "d3086ae2-3bd5-4cc1-9df1-efbea665bbf0"
      },
      "source": [
        "X"
      ],
      "execution_count": 3,
      "outputs": [
        {
          "output_type": "execute_result",
          "data": {
            "text/plain": [
              "array([[ 0.75424625,  0.23148074],\n",
              "       [-0.75615888,  0.15325888],\n",
              "       [-0.81539193,  0.17328203],\n",
              "       ...,\n",
              "       [-0.13690036, -0.81001183],\n",
              "       [ 0.67036156, -0.76750154],\n",
              "       [ 0.28105665,  0.96382443]])"
            ]
          },
          "metadata": {
            "tags": []
          },
          "execution_count": 3
        }
      ]
    },
    {
      "cell_type": "code",
      "metadata": {
        "colab": {
          "base_uri": "https://localhost:8080/"
        },
        "id": "OKEIOm1W6NDs",
        "outputId": "13f71a4c-7290-4af2-a5b6-bb4c9894913d"
      },
      "source": [
        "y[:10]"
      ],
      "execution_count": 4,
      "outputs": [
        {
          "output_type": "execute_result",
          "data": {
            "text/plain": [
              "array([1, 1, 1, 1, 0, 1, 1, 1, 1, 0])"
            ]
          },
          "metadata": {
            "tags": []
          },
          "execution_count": 4
        }
      ]
    },
    {
      "cell_type": "code",
      "metadata": {
        "colab": {
          "base_uri": "https://localhost:8080/",
          "height": 419
        },
        "id": "i-9-H-246Nvd",
        "outputId": "cda20516-31d8-4a1a-c1ee-f614747b8e19"
      },
      "source": [
        "# our data is a little hard to understand right now...Lets visualize it\n",
        "import pandas as pd\n",
        "circles = pd.DataFrame({'X0':X[:,0], \"X1\":X[:,1],\"Label\":y})\n",
        "circles"
      ],
      "execution_count": 5,
      "outputs": [
        {
          "output_type": "execute_result",
          "data": {
            "text/html": [
              "<div>\n",
              "<style scoped>\n",
              "    .dataframe tbody tr th:only-of-type {\n",
              "        vertical-align: middle;\n",
              "    }\n",
              "\n",
              "    .dataframe tbody tr th {\n",
              "        vertical-align: top;\n",
              "    }\n",
              "\n",
              "    .dataframe thead th {\n",
              "        text-align: right;\n",
              "    }\n",
              "</style>\n",
              "<table border=\"1\" class=\"dataframe\">\n",
              "  <thead>\n",
              "    <tr style=\"text-align: right;\">\n",
              "      <th></th>\n",
              "      <th>X0</th>\n",
              "      <th>X1</th>\n",
              "      <th>Label</th>\n",
              "    </tr>\n",
              "  </thead>\n",
              "  <tbody>\n",
              "    <tr>\n",
              "      <th>0</th>\n",
              "      <td>0.754246</td>\n",
              "      <td>0.231481</td>\n",
              "      <td>1</td>\n",
              "    </tr>\n",
              "    <tr>\n",
              "      <th>1</th>\n",
              "      <td>-0.756159</td>\n",
              "      <td>0.153259</td>\n",
              "      <td>1</td>\n",
              "    </tr>\n",
              "    <tr>\n",
              "      <th>2</th>\n",
              "      <td>-0.815392</td>\n",
              "      <td>0.173282</td>\n",
              "      <td>1</td>\n",
              "    </tr>\n",
              "    <tr>\n",
              "      <th>3</th>\n",
              "      <td>-0.393731</td>\n",
              "      <td>0.692883</td>\n",
              "      <td>1</td>\n",
              "    </tr>\n",
              "    <tr>\n",
              "      <th>4</th>\n",
              "      <td>0.442208</td>\n",
              "      <td>-0.896723</td>\n",
              "      <td>0</td>\n",
              "    </tr>\n",
              "    <tr>\n",
              "      <th>...</th>\n",
              "      <td>...</td>\n",
              "      <td>...</td>\n",
              "      <td>...</td>\n",
              "    </tr>\n",
              "    <tr>\n",
              "      <th>995</th>\n",
              "      <td>0.244054</td>\n",
              "      <td>0.944125</td>\n",
              "      <td>0</td>\n",
              "    </tr>\n",
              "    <tr>\n",
              "      <th>996</th>\n",
              "      <td>-0.978655</td>\n",
              "      <td>-0.272373</td>\n",
              "      <td>0</td>\n",
              "    </tr>\n",
              "    <tr>\n",
              "      <th>997</th>\n",
              "      <td>-0.136900</td>\n",
              "      <td>-0.810012</td>\n",
              "      <td>1</td>\n",
              "    </tr>\n",
              "    <tr>\n",
              "      <th>998</th>\n",
              "      <td>0.670362</td>\n",
              "      <td>-0.767502</td>\n",
              "      <td>0</td>\n",
              "    </tr>\n",
              "    <tr>\n",
              "      <th>999</th>\n",
              "      <td>0.281057</td>\n",
              "      <td>0.963824</td>\n",
              "      <td>0</td>\n",
              "    </tr>\n",
              "  </tbody>\n",
              "</table>\n",
              "<p>1000 rows × 3 columns</p>\n",
              "</div>"
            ],
            "text/plain": [
              "           X0        X1  Label\n",
              "0    0.754246  0.231481      1\n",
              "1   -0.756159  0.153259      1\n",
              "2   -0.815392  0.173282      1\n",
              "3   -0.393731  0.692883      1\n",
              "4    0.442208 -0.896723      0\n",
              "..        ...       ...    ...\n",
              "995  0.244054  0.944125      0\n",
              "996 -0.978655 -0.272373      0\n",
              "997 -0.136900 -0.810012      1\n",
              "998  0.670362 -0.767502      0\n",
              "999  0.281057  0.963824      0\n",
              "\n",
              "[1000 rows x 3 columns]"
            ]
          },
          "metadata": {
            "tags": []
          },
          "execution_count": 5
        }
      ]
    },
    {
      "cell_type": "code",
      "metadata": {
        "colab": {
          "base_uri": "https://localhost:8080/",
          "height": 282
        },
        "id": "QjeZOHPN8E9C",
        "outputId": "912adc49-51ef-407b-cf93-4484158bfdf5"
      },
      "source": [
        "# Visualize with a plot\n",
        "import matplotlib.pyplot as plt\n",
        "plt.scatter(X[:,0],X[:,1],c=y,cmap=plt.cm.RdYlBu)"
      ],
      "execution_count": 6,
      "outputs": [
        {
          "output_type": "execute_result",
          "data": {
            "text/plain": [
              "<matplotlib.collections.PathCollection at 0x7fae30b67890>"
            ]
          },
          "metadata": {
            "tags": []
          },
          "execution_count": 6
        },
        {
          "output_type": "display_data",
          "data": {
            "image/png": "[encoded data removed]",
            "text/plain": [
              "<Figure size 432x288 with 1 Axes>"
            ]
          },
          "metadata": {
            "tags": [],
            "needs_background": "light"
          }
        }
      ]
    },
    {
      "cell_type": "markdown",
      "metadata": {
        "id": "89qPeWOl9EE9"
      },
      "source": [
        "#input and output shapes"
      ]
    },
    {
      "cell_type": "code",
      "metadata": {
        "colab": {
          "base_uri": "https://localhost:8080/"
        },
        "id": "cDPHpqH4GAKk",
        "outputId": "f9e46a79-1f2c-4dff-c0ff-86f1edfe09cf"
      },
      "source": [
        "X.shape,y.shape"
      ],
      "execution_count": 7,
      "outputs": [
        {
          "output_type": "execute_result",
          "data": {
            "text/plain": [
              "((1000, 2), (1000,))"
            ]
          },
          "metadata": {
            "tags": []
          },
          "execution_count": 7
        }
      ]
    },
    {
      "cell_type": "code",
      "metadata": {
        "colab": {
          "base_uri": "https://localhost:8080/"
        },
        "id": "gu7Tcn4rGCYU",
        "outputId": "1330592c-a223-49af-af9e-86f23ffb1630"
      },
      "source": [
        "len(X),len(y)"
      ],
      "execution_count": 8,
      "outputs": [
        {
          "output_type": "execute_result",
          "data": {
            "text/plain": [
              "(1000, 1000)"
            ]
          },
          "metadata": {
            "tags": []
          },
          "execution_count": 8
        }
      ]
    },
    {
      "cell_type": "code",
      "metadata": {
        "colab": {
          "base_uri": "https://localhost:8080/"
        },
        "id": "4ZdYRtv7GLgn",
        "outputId": "79acb652-a549-4935-bb6a-51a696cf2311"
      },
      "source": [
        "X[4],y[4]"
      ],
      "execution_count": 9,
      "outputs": [
        {
          "output_type": "execute_result",
          "data": {
            "text/plain": [
              "(array([ 0.44220765, -0.89672343]), 0)"
            ]
          },
          "metadata": {
            "tags": []
          },
          "execution_count": 9
        }
      ]
    },
    {
      "cell_type": "markdown",
      "metadata": {
        "id": "sFDEVNbfGOU0"
      },
      "source": [
        "## Steps in modelling"
      ]
    },
    {
      "cell_type": "code",
      "metadata": {
        "colab": {
          "base_uri": "https://localhost:8080/"
        },
        "id": "BpwUhN2VGlqC",
        "outputId": "84b3632f-504c-443c-f94d-bb700ece1c14"
      },
      "source": [
        "import tensorflow as tf\n",
        "tf.random.set_seed(42)\n",
        "# create the model using sequential API\n",
        "model_1 = tf.keras.Sequential([\n",
        "                               tf.keras.layers.Dense(1)\n",
        "])\n",
        "model_1.compile(loss=tf.keras.losses.BinaryCrossentropy(),\n",
        "                optimizer=tf.keras.optimizers.SGD(),\n",
        "                metrics=['accuracy'])\n",
        "model_1.fit(X,y,epochs=5)"
      ],
      "execution_count": 10,
      "outputs": [
        {
          "output_type": "stream",
          "text": [
            "Epoch 1/5\n",
            "32/32 [==============================] - 1s 831us/step - loss: 2.8544 - accuracy: 0.4600\n",
            "Epoch 2/5\n",
            "32/32 [==============================] - 0s 1ms/step - loss: 0.7131 - accuracy: 0.5430\n",
            "Epoch 3/5\n",
            "32/32 [==============================] - 0s 811us/step - loss: 0.6973 - accuracy: 0.5090\n",
            "Epoch 4/5\n",
            "32/32 [==============================] - 0s 907us/step - loss: 0.6950 - accuracy: 0.5010\n",
            "Epoch 5/5\n",
            "32/32 [==============================] - 0s 780us/step - loss: 0.6942 - accuracy: 0.4830\n"
          ],
          "name": "stdout"
        },
        {
          "output_type": "execute_result",
          "data": {
            "text/plain": [
              "<tensorflow.python.keras.callbacks.History at 0x7fadf1914c50>"
            ]
          },
          "metadata": {
            "tags": []
          },
          "execution_count": 10
        }
      ]
    },
    {
      "cell_type": "code",
      "metadata": {
        "colab": {
          "base_uri": "https://localhost:8080/"
        },
        "id": "Shv8A_aBIHXO",
        "outputId": "d190b6be-ccb5-45ca-edbc-2d5d1e30f47a"
      },
      "source": [
        "# Lets try and improve our model\n",
        "model_1.fit(X,y,epochs=200,verbose=0)\n",
        "model_1.evaluate(X,y)\n",
        "# here we fit and evaluate on the same data ,ideally shouldn't do "
      ],
      "execution_count": 11,
      "outputs": [
        {
          "output_type": "stream",
          "text": [
            "32/32 [==============================] - 0s 687us/step - loss: 0.6935 - accuracy: 0.5000\n"
          ],
          "name": "stdout"
        },
        {
          "output_type": "execute_result",
          "data": {
            "text/plain": [
              "[0.6934829950332642, 0.5]"
            ]
          },
          "metadata": {
            "tags": []
          },
          "execution_count": 11
        }
      ]
    },
    {
      "cell_type": "code",
      "metadata": {
        "colab": {
          "base_uri": "https://localhost:8080/"
        },
        "id": "x0b1pDM4I9rz",
        "outputId": "3138f919-b4e4-4d08-d14f-681ace067d74"
      },
      "source": [
        "tf.random.set_seed(42)\n",
        "model_2= tf.keras.Sequential([\n",
        "                              tf.keras.layers.Dense(1),\n",
        "                              tf.keras.layers.Dense(1)\n",
        "])\n",
        "model_2.compile(loss=tf.keras.losses.BinaryCrossentropy(),\n",
        "                optimizer=tf.keras.optimizers.SGD(),\n",
        "                metrics=['accuracy'])\n",
        "model_2.fit(X,y,epochs=100,verbose=0)\n"
      ],
      "execution_count": 12,
      "outputs": [
        {
          "output_type": "execute_result",
          "data": {
            "text/plain": [
              "<tensorflow.python.keras.callbacks.History at 0x7fadf0715ad0>"
            ]
          },
          "metadata": {
            "tags": []
          },
          "execution_count": 12
        }
      ]
    },
    {
      "cell_type": "code",
      "metadata": {
        "colab": {
          "base_uri": "https://localhost:8080/"
        },
        "id": "1oKQxnFTKheF",
        "outputId": "39215fe7-ce71-44e4-c51d-58718f5df075"
      },
      "source": [
        "# Evaluate the model\n",
        "model_2.evaluate(X,y)"
      ],
      "execution_count": 13,
      "outputs": [
        {
          "output_type": "stream",
          "text": [
            "32/32 [==============================] - 0s 730us/step - loss: 0.6933 - accuracy: 0.5000\n"
          ],
          "name": "stdout"
        },
        {
          "output_type": "execute_result",
          "data": {
            "text/plain": [
              "[0.6933314800262451, 0.5]"
            ]
          },
          "metadata": {
            "tags": []
          },
          "execution_count": 13
        }
      ]
    },
    {
      "cell_type": "code",
      "metadata": {
        "colab": {
          "base_uri": "https://localhost:8080/"
        },
        "id": "Iagsk_YLK89c",
        "outputId": "f2d3674e-2ee1-4f34-80f8-aa5caaee0710"
      },
      "source": [
        "# improving our model\n",
        "tf.random.set_seed(42)\n",
        "model_3= tf.keras.Sequential([\n",
        "                              tf.keras.layers.Dense(100),\n",
        "                              tf.keras.layers.Dense(10),\n",
        "                              tf.keras.layers.Dense(1)\n",
        "])\n",
        "model_3.compile(loss=tf.keras.losses.BinaryCrossentropy(),\n",
        "                optimizer=tf.keras.optimizers.Adam(),\n",
        "                metrics=['accuracy'])\n",
        "model_3.fit(X,y,epochs=100,verbose=0)"
      ],
      "execution_count": 14,
      "outputs": [
        {
          "output_type": "execute_result",
          "data": {
            "text/plain": [
              "<tensorflow.python.keras.callbacks.History at 0x7fadf06bf690>"
            ]
          },
          "metadata": {
            "tags": []
          },
          "execution_count": 14
        }
      ]
    },
    {
      "cell_type": "code",
      "metadata": {
        "colab": {
          "base_uri": "https://localhost:8080/"
        },
        "id": "aFi3AhcuRQQL",
        "outputId": "e1cbc014-2a11-4847-b8f9-45a3e7281bcf"
      },
      "source": [
        "model_3.evaluate(X,y)"
      ],
      "execution_count": 15,
      "outputs": [
        {
          "output_type": "stream",
          "text": [
            "32/32 [==============================] - 0s 823us/step - loss: 0.6980 - accuracy: 0.5080\n"
          ],
          "name": "stdout"
        },
        {
          "output_type": "execute_result",
          "data": {
            "text/plain": [
              "[0.6980254054069519, 0.5080000162124634]"
            ]
          },
          "metadata": {
            "tags": []
          },
          "execution_count": 15
        }
      ]
    },
    {
      "cell_type": "markdown",
      "metadata": {
        "id": "zmtjJ6l6RYGO"
      },
      "source": [
        "To visualize our model's prediction lets create a function 'plot_decision_boundary()` this fuction will:\n",
        "* Take in a trained model, features (X) and labels(y)\n",
        "* create a meshgrid of the different X values\n",
        "* make predictions across the meshgrid\n",
        "* plot the predictions as well as a line between zones(where each unique class falls)"
      ]
    },
    {
      "cell_type": "code",
      "metadata": {
        "id": "Z3WH-LWPUBq5"
      },
      "source": [
        "import numpy as np\n",
        "def plot_decision_boundary(model,X,y):\n",
        "    '''plots the decision boundary created by a model prediction on X\n",
        "    '''\n",
        "    # Define the axis boundaries of the plot and create a meshgrid\n",
        "    x_min,x_max = X[:,0].min() - 0.1,X[:,0].max()+0.1\n",
        "    y_min,y_max = X[:,1].min() - 0.1,X[:,1].max()+0.1\n",
        "    xx,yy = np.meshgrid(np.linspace(x_min,x_max,100),\n",
        "                        np.linspace(y_min,y_max,100))\n",
        "    # create X values(we are going to make predictions on this)\n",
        "    x_in = np.c_[xx.ravel(),yy.ravel()] #stack 2D arrays together\n",
        "    # Make predictions\n",
        "    y_pred = model.predict(x_in)\n",
        "    # check for multiclass\n",
        "    if len(y_pred[0]) > 1:\n",
        "        print(\"doing multiclass classification\")\n",
        "        # we have to reshape our prediction to get them ready for plotting\n",
        "        y_pred = np.argmax(y_pred,axis=1).reshape(xx.shape)\n",
        "    else: \n",
        "        print('doing binary classification')\n",
        "        y_pred = np.round(y_pred).reshape(xx.shape)\n",
        "    \n",
        "    # plot the decision boundary\n",
        "    plt.contourf(xx,yy,y_pred,cmap=plt.cm.RdYlBu,alpha=0.7)\n",
        "    plt.scatter(X[:,0],X[:,1],c=y,s=40,cmap=plt.cm.RdYlBu)\n",
        "    plt.xlim(xx.min(),xx.max())\n",
        "    plt.ylim(yy.min(),yy.max())"
      ],
      "execution_count": 16,
      "outputs": []
    },
    {
      "cell_type": "code",
      "metadata": {
        "colab": {
          "base_uri": "https://localhost:8080/",
          "height": 282
        },
        "id": "W4QE0rgwby50",
        "outputId": "295e2f2a-7266-4d82-854c-34bfba262bab"
      },
      "source": [
        "# checkout the predictions our model is making\n",
        "plot_decision_boundary(model=model_3,\n",
        "                       X=X,\n",
        "                       y=y)"
      ],
      "execution_count": 17,
      "outputs": [
        {
          "output_type": "stream",
          "text": [
            "doing binary classification\n"
          ],
          "name": "stdout"
        },
        {
          "output_type": "display_data",
          "data": {
            "image/png": "[encoded data removed]",
            "text/plain": [
              "<Figure size 432x288 with 1 Axes>"
            ]
          },
          "metadata": {
            "tags": [],
            "needs_background": "light"
          }
        }
      ]
    },
    {
      "cell_type": "code",
      "metadata": {
        "colab": {
          "base_uri": "https://localhost:8080/"
        },
        "id": "l7fmcd1kVX5x",
        "outputId": "462837e5-6509-4189-947f-a4ebb3339391"
      },
      "source": [
        "x_min,x_max = X[:,0].min() - 0.1,X[:,0].max()+0.1\n",
        "y_min,y_max = X[:,1].min() - 0.1,X[:,1].max()+0.1\n",
        "x_min,x_max,y_min,y_max"
      ],
      "execution_count": 18,
      "outputs": [
        {
          "output_type": "execute_result",
          "data": {
            "text/plain": [
              "(-1.1595024599098636,\n",
              " 1.1337117525463374,\n",
              " -1.1677683182718437,\n",
              " 1.1360036756154805)"
            ]
          },
          "metadata": {
            "tags": []
          },
          "execution_count": 18
        }
      ]
    },
    {
      "cell_type": "markdown",
      "metadata": {
        "id": "I3W-eUDGVkI8"
      },
      "source": [
        "## The missing piece NON-LInearity"
      ]
    },
    {
      "cell_type": "code",
      "metadata": {
        "id": "a0r0XDEFYmMC",
        "colab": {
          "base_uri": "https://localhost:8080/"
        },
        "outputId": "742c7d28-1552-4c76-bcdd-2da43672cf13"
      },
      "source": [
        "tf.random.set_seed(42)\n",
        "model_4 = tf.keras.Sequential([\n",
        "                               tf.keras.layers.Dense(1,activation='linear')\n",
        "])\n",
        "model_4.compile(loss='binary_crossentropy',\n",
        "                optimizer=tf.keras.optimizers.Adam(lr=0.001),\n",
        "                metrics=['accuracy'])\n",
        "history = model_4.fit(X,y,epochs=100)"
      ],
      "execution_count": 19,
      "outputs": [
        {
          "output_type": "stream",
          "text": [
            "/usr/local/lib/python3.7/dist-packages/tensorflow/python/keras/optimizer_v2/optimizer_v2.py:375: UserWarning: The `lr` argument is deprecated, use `learning_rate` instead.\n",
            "  \"The `lr` argument is deprecated, use `learning_rate` instead.\")\n"
          ],
          "name": "stderr"
        },
        {
          "output_type": "stream",
          "text": [
            "Epoch 1/100\n",
            "32/32 [==============================] - 0s 860us/step - loss: 4.2979 - accuracy: 0.4670\n",
            "Epoch 2/100\n",
            "32/32 [==============================] - 0s 820us/step - loss: 4.2317 - accuracy: 0.4400\n",
            "Epoch 3/100\n",
            "32/32 [==============================] - 0s 731us/step - loss: 4.1610 - accuracy: 0.4310\n",
            "Epoch 4/100\n",
            "32/32 [==============================] - 0s 727us/step - loss: 4.1183 - accuracy: 0.4270\n",
            "Epoch 5/100\n",
            "32/32 [==============================] - 0s 852us/step - loss: 4.0784 - accuracy: 0.4240\n",
            "Epoch 6/100\n",
            "32/32 [==============================] - 0s 789us/step - loss: 3.9604 - accuracy: 0.4170\n",
            "Epoch 7/100\n",
            "32/32 [==============================] - 0s 744us/step - loss: 3.8936 - accuracy: 0.4110\n",
            "Epoch 8/100\n",
            "32/32 [==============================] - 0s 764us/step - loss: 3.7818 - accuracy: 0.4140\n",
            "Epoch 9/100\n",
            "32/32 [==============================] - 0s 910us/step - loss: 3.7564 - accuracy: 0.4140\n",
            "Epoch 10/100\n",
            "32/32 [==============================] - 0s 867us/step - loss: 3.7547 - accuracy: 0.4150\n",
            "Epoch 11/100\n",
            "32/32 [==============================] - 0s 802us/step - loss: 3.7537 - accuracy: 0.4140\n",
            "Epoch 12/100\n",
            "32/32 [==============================] - 0s 852us/step - loss: 3.7526 - accuracy: 0.4140\n",
            "Epoch 13/100\n",
            "32/32 [==============================] - 0s 833us/step - loss: 3.7518 - accuracy: 0.4140\n",
            "Epoch 14/100\n",
            "32/32 [==============================] - 0s 925us/step - loss: 3.7510 - accuracy: 0.4140\n",
            "Epoch 15/100\n",
            "32/32 [==============================] - 0s 962us/step - loss: 3.7503 - accuracy: 0.4130\n",
            "Epoch 16/100\n",
            "32/32 [==============================] - 0s 888us/step - loss: 3.7497 - accuracy: 0.4130\n",
            "Epoch 17/100\n",
            "32/32 [==============================] - 0s 749us/step - loss: 3.7490 - accuracy: 0.4130\n",
            "Epoch 18/100\n",
            "32/32 [==============================] - 0s 752us/step - loss: 3.7484 - accuracy: 0.4130\n",
            "Epoch 19/100\n",
            "32/32 [==============================] - 0s 864us/step - loss: 3.7478 - accuracy: 0.4120\n",
            "Epoch 20/100\n",
            "32/32 [==============================] - 0s 782us/step - loss: 3.7472 - accuracy: 0.4120\n",
            "Epoch 21/100\n",
            "32/32 [==============================] - 0s 817us/step - loss: 3.7466 - accuracy: 0.4110\n",
            "Epoch 22/100\n",
            "32/32 [==============================] - 0s 900us/step - loss: 3.7461 - accuracy: 0.4110\n",
            "Epoch 23/100\n",
            "32/32 [==============================] - 0s 967us/step - loss: 3.7455 - accuracy: 0.4110\n",
            "Epoch 24/100\n",
            "32/32 [==============================] - 0s 821us/step - loss: 3.7450 - accuracy: 0.4110\n",
            "Epoch 25/100\n",
            "32/32 [==============================] - 0s 760us/step - loss: 3.7366 - accuracy: 0.4120\n",
            "Epoch 26/100\n",
            "32/32 [==============================] - 0s 829us/step - loss: 3.7256 - accuracy: 0.4120\n",
            "Epoch 27/100\n",
            "32/32 [==============================] - 0s 881us/step - loss: 3.7230 - accuracy: 0.4140\n",
            "Epoch 28/100\n",
            "32/32 [==============================] - 0s 883us/step - loss: 3.7215 - accuracy: 0.4140\n",
            "Epoch 29/100\n",
            "32/32 [==============================] - 0s 820us/step - loss: 3.7204 - accuracy: 0.4150\n",
            "Epoch 30/100\n",
            "32/32 [==============================] - 0s 883us/step - loss: 3.7196 - accuracy: 0.4160\n",
            "Epoch 31/100\n",
            "32/32 [==============================] - 0s 913us/step - loss: 3.7188 - accuracy: 0.4170\n",
            "Epoch 32/100\n",
            "32/32 [==============================] - 0s 1ms/step - loss: 3.7181 - accuracy: 0.4170\n",
            "Epoch 33/100\n",
            "32/32 [==============================] - 0s 889us/step - loss: 3.7174 - accuracy: 0.4170\n",
            "Epoch 34/100\n",
            "32/32 [==============================] - 0s 975us/step - loss: 3.7167 - accuracy: 0.4170\n",
            "Epoch 35/100\n",
            "32/32 [==============================] - 0s 955us/step - loss: 3.7161 - accuracy: 0.4160\n",
            "Epoch 36/100\n",
            "32/32 [==============================] - 0s 999us/step - loss: 3.7153 - accuracy: 0.4150\n",
            "Epoch 37/100\n",
            "32/32 [==============================] - 0s 817us/step - loss: 3.7147 - accuracy: 0.4150\n",
            "Epoch 38/100\n",
            "32/32 [==============================] - 0s 750us/step - loss: 3.7141 - accuracy: 0.4150\n",
            "Epoch 39/100\n",
            "32/32 [==============================] - 0s 881us/step - loss: 3.7135 - accuracy: 0.4150\n",
            "Epoch 40/100\n",
            "32/32 [==============================] - 0s 942us/step - loss: 3.7129 - accuracy: 0.4150\n",
            "Epoch 41/100\n",
            "32/32 [==============================] - 0s 823us/step - loss: 3.7123 - accuracy: 0.4150\n",
            "Epoch 42/100\n",
            "32/32 [==============================] - 0s 994us/step - loss: 3.7118 - accuracy: 0.4160\n",
            "Epoch 43/100\n",
            "32/32 [==============================] - 0s 909us/step - loss: 3.7112 - accuracy: 0.4160\n",
            "Epoch 44/100\n",
            "32/32 [==============================] - 0s 969us/step - loss: 3.7107 - accuracy: 0.4160\n",
            "Epoch 45/100\n",
            "32/32 [==============================] - 0s 886us/step - loss: 3.7101 - accuracy: 0.4150\n",
            "Epoch 46/100\n",
            "32/32 [==============================] - 0s 814us/step - loss: 3.7096 - accuracy: 0.4170\n",
            "Epoch 47/100\n",
            "32/32 [==============================] - 0s 863us/step - loss: 3.7091 - accuracy: 0.4170\n",
            "Epoch 48/100\n",
            "32/32 [==============================] - 0s 834us/step - loss: 3.7014 - accuracy: 0.4170\n",
            "Epoch 49/100\n",
            "32/32 [==============================] - 0s 1ms/step - loss: 3.6892 - accuracy: 0.4190\n",
            "Epoch 50/100\n",
            "32/32 [==============================] - 0s 829us/step - loss: 3.6856 - accuracy: 0.4190\n",
            "Epoch 51/100\n",
            "32/32 [==============================] - 0s 807us/step - loss: 3.6846 - accuracy: 0.4190\n",
            "Epoch 52/100\n",
            "32/32 [==============================] - 0s 802us/step - loss: 3.6837 - accuracy: 0.4190\n",
            "Epoch 53/100\n",
            "32/32 [==============================] - 0s 778us/step - loss: 3.6829 - accuracy: 0.4190\n",
            "Epoch 54/100\n",
            "32/32 [==============================] - 0s 934us/step - loss: 3.6821 - accuracy: 0.4190\n",
            "Epoch 55/100\n",
            "32/32 [==============================] - 0s 822us/step - loss: 3.6814 - accuracy: 0.4190\n",
            "Epoch 56/100\n",
            "32/32 [==============================] - 0s 787us/step - loss: 3.6807 - accuracy: 0.4200\n",
            "Epoch 57/100\n",
            "32/32 [==============================] - 0s 1ms/step - loss: 3.6727 - accuracy: 0.4210\n",
            "Epoch 58/100\n",
            "32/32 [==============================] - 0s 885us/step - loss: 3.6690 - accuracy: 0.4190\n",
            "Epoch 59/100\n",
            "32/32 [==============================] - 0s 1ms/step - loss: 3.6677 - accuracy: 0.4190\n",
            "Epoch 60/100\n",
            "32/32 [==============================] - 0s 1ms/step - loss: 3.6585 - accuracy: 0.4190\n",
            "Epoch 61/100\n",
            "32/32 [==============================] - 0s 1ms/step - loss: 3.6489 - accuracy: 0.4200\n",
            "Epoch 62/100\n",
            "32/32 [==============================] - 0s 877us/step - loss: 3.6330 - accuracy: 0.4190\n",
            "Epoch 63/100\n",
            "32/32 [==============================] - 0s 859us/step - loss: 3.6282 - accuracy: 0.4200\n",
            "Epoch 64/100\n",
            "32/32 [==============================] - 0s 917us/step - loss: 3.6162 - accuracy: 0.4220\n",
            "Epoch 65/100\n",
            "32/32 [==============================] - 0s 1ms/step - loss: 3.6062 - accuracy: 0.4240\n",
            "Epoch 66/100\n",
            "32/32 [==============================] - 0s 804us/step - loss: 3.6031 - accuracy: 0.4260\n",
            "Epoch 67/100\n",
            "32/32 [==============================] - 0s 819us/step - loss: 3.6012 - accuracy: 0.4280\n",
            "Epoch 68/100\n",
            "32/32 [==============================] - 0s 833us/step - loss: 3.5999 - accuracy: 0.4280\n",
            "Epoch 69/100\n",
            "32/32 [==============================] - 0s 819us/step - loss: 3.5904 - accuracy: 0.4290\n",
            "Epoch 70/100\n",
            "32/32 [==============================] - 0s 830us/step - loss: 3.5858 - accuracy: 0.4300\n",
            "Epoch 71/100\n",
            "32/32 [==============================] - 0s 753us/step - loss: 3.5846 - accuracy: 0.4300\n",
            "Epoch 72/100\n",
            "32/32 [==============================] - 0s 810us/step - loss: 3.5836 - accuracy: 0.4300\n",
            "Epoch 73/100\n",
            "32/32 [==============================] - 0s 1ms/step - loss: 3.5826 - accuracy: 0.4310\n",
            "Epoch 74/100\n",
            "32/32 [==============================] - 0s 839us/step - loss: 3.5817 - accuracy: 0.4330\n",
            "Epoch 75/100\n",
            "32/32 [==============================] - 0s 989us/step - loss: 3.5656 - accuracy: 0.4360\n",
            "Epoch 76/100\n",
            "32/32 [==============================] - 0s 896us/step - loss: 3.5355 - accuracy: 0.4410\n",
            "Epoch 77/100\n",
            "32/32 [==============================] - 0s 905us/step - loss: 3.5335 - accuracy: 0.4410\n",
            "Epoch 78/100\n",
            "32/32 [==============================] - 0s 1ms/step - loss: 3.5319 - accuracy: 0.4420\n",
            "Epoch 79/100\n",
            "32/32 [==============================] - 0s 869us/step - loss: 3.5306 - accuracy: 0.4420\n",
            "Epoch 80/100\n",
            "32/32 [==============================] - 0s 843us/step - loss: 3.5208 - accuracy: 0.4420\n",
            "Epoch 81/100\n",
            "32/32 [==============================] - 0s 985us/step - loss: 3.5172 - accuracy: 0.4420\n",
            "Epoch 82/100\n",
            "32/32 [==============================] - 0s 802us/step - loss: 3.5157 - accuracy: 0.4430\n",
            "Epoch 83/100\n",
            "32/32 [==============================] - 0s 957us/step - loss: 3.5144 - accuracy: 0.4450\n",
            "Epoch 84/100\n",
            "32/32 [==============================] - 0s 823us/step - loss: 3.5132 - accuracy: 0.4450\n",
            "Epoch 85/100\n",
            "32/32 [==============================] - 0s 1ms/step - loss: 3.5043 - accuracy: 0.4460\n",
            "Epoch 86/100\n",
            "32/32 [==============================] - 0s 1ms/step - loss: 3.5002 - accuracy: 0.4470\n",
            "Epoch 87/100\n",
            "32/32 [==============================] - 0s 984us/step - loss: 3.4905 - accuracy: 0.4470\n",
            "Epoch 88/100\n",
            "32/32 [==============================] - 0s 1ms/step - loss: 3.4788 - accuracy: 0.4470\n",
            "Epoch 89/100\n",
            "32/32 [==============================] - 0s 1ms/step - loss: 3.4661 - accuracy: 0.4470\n",
            "Epoch 90/100\n",
            "32/32 [==============================] - 0s 883us/step - loss: 3.4452 - accuracy: 0.4490\n",
            "Epoch 91/100\n",
            "32/32 [==============================] - 0s 921us/step - loss: 3.4198 - accuracy: 0.4560\n",
            "Epoch 92/100\n",
            "32/32 [==============================] - 0s 792us/step - loss: 3.4176 - accuracy: 0.4550\n",
            "Epoch 93/100\n",
            "32/32 [==============================] - 0s 871us/step - loss: 3.4072 - accuracy: 0.4580\n",
            "Epoch 94/100\n",
            "32/32 [==============================] - 0s 811us/step - loss: 3.4036 - accuracy: 0.4580\n",
            "Epoch 95/100\n",
            "32/32 [==============================] - 0s 825us/step - loss: 3.3944 - accuracy: 0.4590\n",
            "Epoch 96/100\n",
            "32/32 [==============================] - 0s 1ms/step - loss: 3.3290 - accuracy: 0.4590\n",
            "Epoch 97/100\n",
            "32/32 [==============================] - 0s 942us/step - loss: 3.2727 - accuracy: 0.4600\n",
            "Epoch 98/100\n",
            "32/32 [==============================] - 0s 948us/step - loss: 3.2636 - accuracy: 0.4580\n",
            "Epoch 99/100\n",
            "32/32 [==============================] - 0s 974us/step - loss: 3.2509 - accuracy: 0.4570\n",
            "Epoch 100/100\n",
            "32/32 [==============================] - 0s 1ms/step - loss: 3.2459 - accuracy: 0.4570\n"
          ],
          "name": "stdout"
        }
      ]
    },
    {
      "cell_type": "code",
      "metadata": {
        "colab": {
          "base_uri": "https://localhost:8080/",
          "height": 282
        },
        "id": "_v2PERTyhrHO",
        "outputId": "32d0aef5-7487-4cff-8e72-af3bb43e2d37"
      },
      "source": [
        "# checking out our data\n",
        "plt.scatter(X[:,0],X[:,1],c=y,cmap=plt.cm.RdYlBu)"
      ],
      "execution_count": 20,
      "outputs": [
        {
          "output_type": "execute_result",
          "data": {
            "text/plain": [
              "<matplotlib.collections.PathCollection at 0x7fadefdd8b90>"
            ]
          },
          "metadata": {
            "tags": []
          },
          "execution_count": 20
        },
        {
          "output_type": "display_data",
          "data": {
            "image/png": "[encoded data removed]",
            "text/plain": [
              "<Figure size 432x288 with 1 Axes>"
            ]
          },
          "metadata": {
            "tags": [],
            "needs_background": "light"
          }
        }
      ]
    },
    {
      "cell_type": "code",
      "metadata": {
        "colab": {
          "base_uri": "https://localhost:8080/",
          "height": 282
        },
        "id": "c6P3kxkiiTjs",
        "outputId": "043db5fb-637b-4217-b89b-c3b4ca8c0162"
      },
      "source": [
        "# check the decision boundary on our latest model\n",
        "plot_decision_boundary(model=model_4,\n",
        "                       X=X,\n",
        "                       y=y)"
      ],
      "execution_count": 21,
      "outputs": [
        {
          "output_type": "stream",
          "text": [
            "doing binary classification\n"
          ],
          "name": "stdout"
        },
        {
          "output_type": "display_data",
          "data": {
            "image/png": "[encoded data removed]",
            "text/plain": [
              "<Figure size 432x288 with 1 Axes>"
            ]
          },
          "metadata": {
            "tags": [],
            "needs_background": "light"
          }
        }
      ]
    },
    {
      "cell_type": "code",
      "metadata": {
        "id": "2gj_2CMHi2Y-",
        "colab": {
          "base_uri": "https://localhost:8080/"
        },
        "outputId": "0ede37dd-3f3d-44bc-99ae-250ac41efdb6"
      },
      "source": [
        "tf.random.set_seed(42)\n",
        "model_5= tf.keras.Sequential([\n",
        "                               tf.keras.layers.Dense(1,activation='relu')\n",
        "])\n",
        "model_5.compile(loss='binary_crossentropy',\n",
        "                optimizer=tf.keras.optimizers.Adam(lr=0.001),\n",
        "                metrics=['accuracy'])\n",
        "history = model_5.fit(X,y,epochs=100)"
      ],
      "execution_count": 22,
      "outputs": [
        {
          "output_type": "stream",
          "text": [
            "/usr/local/lib/python3.7/dist-packages/tensorflow/python/keras/optimizer_v2/optimizer_v2.py:375: UserWarning: The `lr` argument is deprecated, use `learning_rate` instead.\n",
            "  \"The `lr` argument is deprecated, use `learning_rate` instead.\")\n"
          ],
          "name": "stderr"
        },
        {
          "output_type": "stream",
          "text": [
            "Epoch 1/100\n",
            "32/32 [==============================] - 0s 801us/step - loss: 4.2979 - accuracy: 0.4670\n",
            "Epoch 2/100\n",
            "32/32 [==============================] - 0s 882us/step - loss: 4.2317 - accuracy: 0.4400\n",
            "Epoch 3/100\n",
            "32/32 [==============================] - 0s 839us/step - loss: 4.1610 - accuracy: 0.4310\n",
            "Epoch 4/100\n",
            "32/32 [==============================] - 0s 841us/step - loss: 4.1183 - accuracy: 0.4270\n",
            "Epoch 5/100\n",
            "32/32 [==============================] - 0s 899us/step - loss: 4.0784 - accuracy: 0.4240\n",
            "Epoch 6/100\n",
            "32/32 [==============================] - 0s 828us/step - loss: 3.9604 - accuracy: 0.4170\n",
            "Epoch 7/100\n",
            "32/32 [==============================] - 0s 933us/step - loss: 3.8936 - accuracy: 0.4110\n",
            "Epoch 8/100\n",
            "32/32 [==============================] - 0s 840us/step - loss: 3.7818 - accuracy: 0.4140\n",
            "Epoch 9/100\n",
            "32/32 [==============================] - 0s 795us/step - loss: 3.7564 - accuracy: 0.4140\n",
            "Epoch 10/100\n",
            "32/32 [==============================] - 0s 816us/step - loss: 3.7547 - accuracy: 0.4150\n",
            "Epoch 11/100\n",
            "32/32 [==============================] - 0s 804us/step - loss: 3.7537 - accuracy: 0.4140\n",
            "Epoch 12/100\n",
            "32/32 [==============================] - 0s 771us/step - loss: 3.7526 - accuracy: 0.4140\n",
            "Epoch 13/100\n",
            "32/32 [==============================] - 0s 772us/step - loss: 3.7518 - accuracy: 0.4140\n",
            "Epoch 14/100\n",
            "32/32 [==============================] - 0s 856us/step - loss: 3.7510 - accuracy: 0.4140\n",
            "Epoch 15/100\n",
            "32/32 [==============================] - 0s 813us/step - loss: 3.7503 - accuracy: 0.4130\n",
            "Epoch 16/100\n",
            "32/32 [==============================] - 0s 857us/step - loss: 3.7497 - accuracy: 0.4130\n",
            "Epoch 17/100\n",
            "32/32 [==============================] - 0s 922us/step - loss: 3.7490 - accuracy: 0.4130\n",
            "Epoch 18/100\n",
            "32/32 [==============================] - 0s 1ms/step - loss: 3.7484 - accuracy: 0.4130\n",
            "Epoch 19/100\n",
            "32/32 [==============================] - 0s 860us/step - loss: 3.7478 - accuracy: 0.4120\n",
            "Epoch 20/100\n",
            "32/32 [==============================] - 0s 798us/step - loss: 3.7472 - accuracy: 0.4120\n",
            "Epoch 21/100\n",
            "32/32 [==============================] - 0s 771us/step - loss: 3.7466 - accuracy: 0.4110\n",
            "Epoch 22/100\n",
            "32/32 [==============================] - 0s 857us/step - loss: 3.7461 - accuracy: 0.4110\n",
            "Epoch 23/100\n",
            "32/32 [==============================] - 0s 796us/step - loss: 3.7455 - accuracy: 0.4110\n",
            "Epoch 24/100\n",
            "32/32 [==============================] - 0s 803us/step - loss: 3.7450 - accuracy: 0.4110\n",
            "Epoch 25/100\n",
            "32/32 [==============================] - 0s 799us/step - loss: 3.7366 - accuracy: 0.4120\n",
            "Epoch 26/100\n",
            "32/32 [==============================] - 0s 815us/step - loss: 3.7256 - accuracy: 0.4120\n",
            "Epoch 27/100\n",
            "32/32 [==============================] - 0s 905us/step - loss: 3.7230 - accuracy: 0.4140\n",
            "Epoch 28/100\n",
            "32/32 [==============================] - 0s 800us/step - loss: 3.7215 - accuracy: 0.4140\n",
            "Epoch 29/100\n",
            "32/32 [==============================] - 0s 813us/step - loss: 3.7204 - accuracy: 0.4150\n",
            "Epoch 30/100\n",
            "32/32 [==============================] - 0s 951us/step - loss: 3.7196 - accuracy: 0.4160\n",
            "Epoch 31/100\n",
            "32/32 [==============================] - 0s 1ms/step - loss: 3.7188 - accuracy: 0.4170\n",
            "Epoch 32/100\n",
            "32/32 [==============================] - 0s 1ms/step - loss: 3.7181 - accuracy: 0.4170\n",
            "Epoch 33/100\n",
            "32/32 [==============================] - 0s 1ms/step - loss: 3.7174 - accuracy: 0.4170\n",
            "Epoch 34/100\n",
            "32/32 [==============================] - 0s 997us/step - loss: 3.7167 - accuracy: 0.4170\n",
            "Epoch 35/100\n",
            "32/32 [==============================] - 0s 1ms/step - loss: 3.7161 - accuracy: 0.4160\n",
            "Epoch 36/100\n",
            "32/32 [==============================] - 0s 991us/step - loss: 3.7153 - accuracy: 0.4150\n",
            "Epoch 37/100\n",
            "32/32 [==============================] - 0s 922us/step - loss: 3.7147 - accuracy: 0.4150\n",
            "Epoch 38/100\n",
            "32/32 [==============================] - 0s 878us/step - loss: 3.7141 - accuracy: 0.4150\n",
            "Epoch 39/100\n",
            "32/32 [==============================] - 0s 923us/step - loss: 3.7135 - accuracy: 0.4150\n",
            "Epoch 40/100\n",
            "32/32 [==============================] - 0s 828us/step - loss: 3.7129 - accuracy: 0.4150\n",
            "Epoch 41/100\n",
            "32/32 [==============================] - 0s 822us/step - loss: 3.7123 - accuracy: 0.4150\n",
            "Epoch 42/100\n",
            "32/32 [==============================] - 0s 958us/step - loss: 3.7118 - accuracy: 0.4160\n",
            "Epoch 43/100\n",
            "32/32 [==============================] - 0s 840us/step - loss: 3.7112 - accuracy: 0.4160\n",
            "Epoch 44/100\n",
            "32/32 [==============================] - 0s 847us/step - loss: 3.7107 - accuracy: 0.4160\n",
            "Epoch 45/100\n",
            "32/32 [==============================] - 0s 1ms/step - loss: 3.7101 - accuracy: 0.4150\n",
            "Epoch 46/100\n",
            "32/32 [==============================] - 0s 896us/step - loss: 3.7096 - accuracy: 0.4170\n",
            "Epoch 47/100\n",
            "32/32 [==============================] - 0s 869us/step - loss: 3.7091 - accuracy: 0.4170\n",
            "Epoch 48/100\n",
            "32/32 [==============================] - 0s 931us/step - loss: 3.7014 - accuracy: 0.4170\n",
            "Epoch 49/100\n",
            "32/32 [==============================] - 0s 859us/step - loss: 3.6892 - accuracy: 0.4190\n",
            "Epoch 50/100\n",
            "32/32 [==============================] - 0s 800us/step - loss: 3.6856 - accuracy: 0.4190\n",
            "Epoch 51/100\n",
            "32/32 [==============================] - 0s 903us/step - loss: 3.6846 - accuracy: 0.4190\n",
            "Epoch 52/100\n",
            "32/32 [==============================] - 0s 979us/step - loss: 3.6837 - accuracy: 0.4190\n",
            "Epoch 53/100\n",
            "32/32 [==============================] - 0s 871us/step - loss: 3.6829 - accuracy: 0.4190\n",
            "Epoch 54/100\n",
            "32/32 [==============================] - 0s 846us/step - loss: 3.6821 - accuracy: 0.4190\n",
            "Epoch 55/100\n",
            "32/32 [==============================] - 0s 849us/step - loss: 3.6814 - accuracy: 0.4190\n",
            "Epoch 56/100\n",
            "32/32 [==============================] - 0s 813us/step - loss: 3.6807 - accuracy: 0.4200\n",
            "Epoch 57/100\n",
            "32/32 [==============================] - 0s 990us/step - loss: 3.6727 - accuracy: 0.4210\n",
            "Epoch 58/100\n",
            "32/32 [==============================] - 0s 812us/step - loss: 3.6690 - accuracy: 0.4190\n",
            "Epoch 59/100\n",
            "32/32 [==============================] - 0s 744us/step - loss: 3.6677 - accuracy: 0.4190\n",
            "Epoch 60/100\n",
            "32/32 [==============================] - 0s 859us/step - loss: 3.6585 - accuracy: 0.4190\n",
            "Epoch 61/100\n",
            "32/32 [==============================] - 0s 1ms/step - loss: 3.6489 - accuracy: 0.4200\n",
            "Epoch 62/100\n",
            "32/32 [==============================] - 0s 1ms/step - loss: 3.6330 - accuracy: 0.4190\n",
            "Epoch 63/100\n",
            "32/32 [==============================] - 0s 811us/step - loss: 3.6282 - accuracy: 0.4200\n",
            "Epoch 64/100\n",
            "32/32 [==============================] - 0s 897us/step - loss: 3.6162 - accuracy: 0.4220\n",
            "Epoch 65/100\n",
            "32/32 [==============================] - 0s 871us/step - loss: 3.6062 - accuracy: 0.4240\n",
            "Epoch 66/100\n",
            "32/32 [==============================] - 0s 839us/step - loss: 3.6031 - accuracy: 0.4260\n",
            "Epoch 67/100\n",
            "32/32 [==============================] - 0s 818us/step - loss: 3.6012 - accuracy: 0.4280\n",
            "Epoch 68/100\n",
            "32/32 [==============================] - 0s 882us/step - loss: 3.5999 - accuracy: 0.4280\n",
            "Epoch 69/100\n",
            "32/32 [==============================] - 0s 1ms/step - loss: 3.5904 - accuracy: 0.4290\n",
            "Epoch 70/100\n",
            "32/32 [==============================] - 0s 914us/step - loss: 3.5858 - accuracy: 0.4300\n",
            "Epoch 71/100\n",
            "32/32 [==============================] - 0s 912us/step - loss: 3.5846 - accuracy: 0.4300\n",
            "Epoch 72/100\n",
            "32/32 [==============================] - 0s 1ms/step - loss: 3.5836 - accuracy: 0.4300\n",
            "Epoch 73/100\n",
            "32/32 [==============================] - 0s 866us/step - loss: 3.5826 - accuracy: 0.4310\n",
            "Epoch 74/100\n",
            "32/32 [==============================] - 0s 798us/step - loss: 3.5817 - accuracy: 0.4330\n",
            "Epoch 75/100\n",
            "32/32 [==============================] - 0s 889us/step - loss: 3.5656 - accuracy: 0.4360\n",
            "Epoch 76/100\n",
            "32/32 [==============================] - 0s 932us/step - loss: 3.5355 - accuracy: 0.4410\n",
            "Epoch 77/100\n",
            "32/32 [==============================] - 0s 980us/step - loss: 3.5335 - accuracy: 0.4410\n",
            "Epoch 78/100\n",
            "32/32 [==============================] - 0s 1ms/step - loss: 3.5319 - accuracy: 0.4420\n",
            "Epoch 79/100\n",
            "32/32 [==============================] - 0s 876us/step - loss: 3.5306 - accuracy: 0.4420\n",
            "Epoch 80/100\n",
            "32/32 [==============================] - 0s 869us/step - loss: 3.5208 - accuracy: 0.4420\n",
            "Epoch 81/100\n",
            "32/32 [==============================] - 0s 1ms/step - loss: 3.5172 - accuracy: 0.4420\n",
            "Epoch 82/100\n",
            "32/32 [==============================] - 0s 1ms/step - loss: 3.5157 - accuracy: 0.4430\n",
            "Epoch 83/100\n",
            "32/32 [==============================] - 0s 966us/step - loss: 3.5144 - accuracy: 0.4450\n",
            "Epoch 84/100\n",
            "32/32 [==============================] - 0s 930us/step - loss: 3.5132 - accuracy: 0.4450\n",
            "Epoch 85/100\n",
            "32/32 [==============================] - 0s 1ms/step - loss: 3.5043 - accuracy: 0.4460\n",
            "Epoch 86/100\n",
            "32/32 [==============================] - 0s 860us/step - loss: 3.5002 - accuracy: 0.4470\n",
            "Epoch 87/100\n",
            "32/32 [==============================] - 0s 971us/step - loss: 3.4905 - accuracy: 0.4470\n",
            "Epoch 88/100\n",
            "32/32 [==============================] - 0s 841us/step - loss: 3.4788 - accuracy: 0.4470\n",
            "Epoch 89/100\n",
            "32/32 [==============================] - 0s 1ms/step - loss: 3.4661 - accuracy: 0.4470\n",
            "Epoch 90/100\n",
            "32/32 [==============================] - 0s 925us/step - loss: 3.4452 - accuracy: 0.4490\n",
            "Epoch 91/100\n",
            "32/32 [==============================] - 0s 859us/step - loss: 3.4198 - accuracy: 0.4560\n",
            "Epoch 92/100\n",
            "32/32 [==============================] - 0s 797us/step - loss: 3.4176 - accuracy: 0.4550\n",
            "Epoch 93/100\n",
            "32/32 [==============================] - 0s 944us/step - loss: 3.4072 - accuracy: 0.4580\n",
            "Epoch 94/100\n",
            "32/32 [==============================] - 0s 1ms/step - loss: 3.4036 - accuracy: 0.4580\n",
            "Epoch 95/100\n",
            "32/32 [==============================] - 0s 918us/step - loss: 3.3944 - accuracy: 0.4590\n",
            "Epoch 96/100\n",
            "32/32 [==============================] - 0s 942us/step - loss: 3.3290 - accuracy: 0.4590\n",
            "Epoch 97/100\n",
            "32/32 [==============================] - 0s 861us/step - loss: 3.2727 - accuracy: 0.4600\n",
            "Epoch 98/100\n",
            "32/32 [==============================] - 0s 1ms/step - loss: 3.2636 - accuracy: 0.4580\n",
            "Epoch 99/100\n",
            "32/32 [==============================] - 0s 871us/step - loss: 3.2509 - accuracy: 0.4570\n",
            "Epoch 100/100\n",
            "32/32 [==============================] - 0s 796us/step - loss: 3.2459 - accuracy: 0.4570\n"
          ],
          "name": "stdout"
        }
      ]
    },
    {
      "cell_type": "code",
      "metadata": {
        "colab": {
          "base_uri": "https://localhost:8080/"
        },
        "id": "muszZnQSeW4u",
        "outputId": "bb600eea-f41e-4588-f441-ce43f7fe9e50"
      },
      "source": [
        "tf.random.set_seed(42)\n",
        "model_6 = tf.keras.Sequential([\n",
        "                               tf.keras.layers.Dense(4,activation=\"relu\"),\n",
        "                               tf.keras.layers.Dense(4,activation=\"relu\"),\n",
        "                               tf.keras.layers.Dense(1,activation='sigmoid')\n",
        "])\n",
        "model_6.compile(loss='binary_crossentropy',\n",
        "                optimizer=tf.keras.optimizers.Adam(lr=0.001),\n",
        "                metrics=['accuracy'])\n",
        "history = model_6.fit(X,y,epochs=200)"
      ],
      "execution_count": 23,
      "outputs": [
        {
          "output_type": "stream",
          "text": [
            "Epoch 1/200\n"
          ],
          "name": "stdout"
        },
        {
          "output_type": "stream",
          "text": [
            "/usr/local/lib/python3.7/dist-packages/tensorflow/python/keras/optimizer_v2/optimizer_v2.py:375: UserWarning: The `lr` argument is deprecated, use `learning_rate` instead.\n",
            "  \"The `lr` argument is deprecated, use `learning_rate` instead.\")\n"
          ],
          "name": "stderr"
        },
        {
          "output_type": "stream",
          "text": [
            "32/32 [==============================] - 0s 956us/step - loss: 0.6891 - accuracy: 0.5020\n",
            "Epoch 2/200\n",
            "32/32 [==============================] - 0s 1ms/step - loss: 0.6848 - accuracy: 0.5170\n",
            "Epoch 3/200\n",
            "32/32 [==============================] - 0s 903us/step - loss: 0.6824 - accuracy: 0.5160\n",
            "Epoch 4/200\n",
            "32/32 [==============================] - 0s 922us/step - loss: 0.6813 - accuracy: 0.5300\n",
            "Epoch 5/200\n",
            "32/32 [==============================] - 0s 914us/step - loss: 0.6802 - accuracy: 0.5390\n",
            "Epoch 6/200\n",
            "32/32 [==============================] - 0s 1ms/step - loss: 0.6794 - accuracy: 0.5380\n",
            "Epoch 7/200\n",
            "32/32 [==============================] - 0s 995us/step - loss: 0.6785 - accuracy: 0.5500\n",
            "Epoch 8/200\n",
            "32/32 [==============================] - 0s 944us/step - loss: 0.6778 - accuracy: 0.5480\n",
            "Epoch 9/200\n",
            "32/32 [==============================] - 0s 952us/step - loss: 0.6772 - accuracy: 0.5530\n",
            "Epoch 10/200\n",
            "32/32 [==============================] - 0s 927us/step - loss: 0.6766 - accuracy: 0.5510\n",
            "Epoch 11/200\n",
            "32/32 [==============================] - 0s 889us/step - loss: 0.6760 - accuracy: 0.5500\n",
            "Epoch 12/200\n",
            "32/32 [==============================] - 0s 936us/step - loss: 0.6754 - accuracy: 0.5550\n",
            "Epoch 13/200\n",
            "32/32 [==============================] - 0s 938us/step - loss: 0.6747 - accuracy: 0.5560\n",
            "Epoch 14/200\n",
            "32/32 [==============================] - 0s 915us/step - loss: 0.6741 - accuracy: 0.5540\n",
            "Epoch 15/200\n",
            "32/32 [==============================] - 0s 1ms/step - loss: 0.6734 - accuracy: 0.5580\n",
            "Epoch 16/200\n",
            "32/32 [==============================] - 0s 983us/step - loss: 0.6727 - accuracy: 0.5550\n",
            "Epoch 17/200\n",
            "32/32 [==============================] - 0s 1ms/step - loss: 0.6722 - accuracy: 0.5550\n",
            "Epoch 18/200\n",
            "32/32 [==============================] - 0s 1ms/step - loss: 0.6716 - accuracy: 0.5550\n",
            "Epoch 19/200\n",
            "32/32 [==============================] - 0s 1ms/step - loss: 0.6710 - accuracy: 0.5590\n",
            "Epoch 20/200\n",
            "32/32 [==============================] - 0s 893us/step - loss: 0.6702 - accuracy: 0.5600\n",
            "Epoch 21/200\n",
            "32/32 [==============================] - 0s 867us/step - loss: 0.6696 - accuracy: 0.5640\n",
            "Epoch 22/200\n",
            "32/32 [==============================] - 0s 892us/step - loss: 0.6688 - accuracy: 0.5600\n",
            "Epoch 23/200\n",
            "32/32 [==============================] - 0s 858us/step - loss: 0.6682 - accuracy: 0.5700\n",
            "Epoch 24/200\n",
            "32/32 [==============================] - 0s 851us/step - loss: 0.6679 - accuracy: 0.5570\n",
            "Epoch 25/200\n",
            "32/32 [==============================] - 0s 855us/step - loss: 0.6671 - accuracy: 0.5670\n",
            "Epoch 26/200\n",
            "32/32 [==============================] - 0s 814us/step - loss: 0.6662 - accuracy: 0.5750\n",
            "Epoch 27/200\n",
            "32/32 [==============================] - 0s 871us/step - loss: 0.6657 - accuracy: 0.5810\n",
            "Epoch 28/200\n",
            "32/32 [==============================] - 0s 866us/step - loss: 0.6645 - accuracy: 0.5700\n",
            "Epoch 29/200\n",
            "32/32 [==============================] - 0s 831us/step - loss: 0.6642 - accuracy: 0.5700\n",
            "Epoch 30/200\n",
            "32/32 [==============================] - 0s 1ms/step - loss: 0.6634 - accuracy: 0.5790\n",
            "Epoch 31/200\n",
            "32/32 [==============================] - 0s 973us/step - loss: 0.6627 - accuracy: 0.5760\n",
            "Epoch 32/200\n",
            "32/32 [==============================] - 0s 871us/step - loss: 0.6619 - accuracy: 0.5760\n",
            "Epoch 33/200\n",
            "32/32 [==============================] - 0s 1ms/step - loss: 0.6610 - accuracy: 0.5760\n",
            "Epoch 34/200\n",
            "32/32 [==============================] - 0s 934us/step - loss: 0.6606 - accuracy: 0.5760\n",
            "Epoch 35/200\n",
            "32/32 [==============================] - 0s 928us/step - loss: 0.6597 - accuracy: 0.5790\n",
            "Epoch 36/200\n",
            "32/32 [==============================] - 0s 1ms/step - loss: 0.6586 - accuracy: 0.5780\n",
            "Epoch 37/200\n",
            "32/32 [==============================] - 0s 942us/step - loss: 0.6580 - accuracy: 0.5780\n",
            "Epoch 38/200\n",
            "32/32 [==============================] - 0s 897us/step - loss: 0.6573 - accuracy: 0.5790\n",
            "Epoch 39/200\n",
            "32/32 [==============================] - 0s 906us/step - loss: 0.6564 - accuracy: 0.5790\n",
            "Epoch 40/200\n",
            "32/32 [==============================] - 0s 980us/step - loss: 0.6556 - accuracy: 0.5760\n",
            "Epoch 41/200\n",
            "32/32 [==============================] - 0s 953us/step - loss: 0.6548 - accuracy: 0.5780\n",
            "Epoch 42/200\n",
            "32/32 [==============================] - 0s 1ms/step - loss: 0.6540 - accuracy: 0.5750\n",
            "Epoch 43/200\n",
            "32/32 [==============================] - 0s 1ms/step - loss: 0.6530 - accuracy: 0.5780\n",
            "Epoch 44/200\n",
            "32/32 [==============================] - 0s 1ms/step - loss: 0.6521 - accuracy: 0.5810\n",
            "Epoch 45/200\n",
            "32/32 [==============================] - 0s 976us/step - loss: 0.6496 - accuracy: 0.5810\n",
            "Epoch 46/200\n",
            "32/32 [==============================] - 0s 1ms/step - loss: 0.6481 - accuracy: 0.5830\n",
            "Epoch 47/200\n",
            "32/32 [==============================] - 0s 960us/step - loss: 0.6472 - accuracy: 0.5850\n",
            "Epoch 48/200\n",
            "32/32 [==============================] - 0s 974us/step - loss: 0.6451 - accuracy: 0.5880\n",
            "Epoch 49/200\n",
            "32/32 [==============================] - 0s 926us/step - loss: 0.6426 - accuracy: 0.5880\n",
            "Epoch 50/200\n",
            "32/32 [==============================] - 0s 912us/step - loss: 0.6404 - accuracy: 0.5940\n",
            "Epoch 51/200\n",
            "32/32 [==============================] - 0s 960us/step - loss: 0.6384 - accuracy: 0.6010\n",
            "Epoch 52/200\n",
            "32/32 [==============================] - 0s 1ms/step - loss: 0.6364 - accuracy: 0.6130\n",
            "Epoch 53/200\n",
            "32/32 [==============================] - 0s 1ms/step - loss: 0.6344 - accuracy: 0.6110\n",
            "Epoch 54/200\n",
            "32/32 [==============================] - 0s 915us/step - loss: 0.6312 - accuracy: 0.6280\n",
            "Epoch 55/200\n",
            "32/32 [==============================] - 0s 931us/step - loss: 0.6287 - accuracy: 0.6380\n",
            "Epoch 56/200\n",
            "32/32 [==============================] - 0s 1ms/step - loss: 0.6259 - accuracy: 0.6840\n",
            "Epoch 57/200\n",
            "32/32 [==============================] - 0s 1ms/step - loss: 0.6227 - accuracy: 0.6950\n",
            "Epoch 58/200\n",
            "32/32 [==============================] - 0s 916us/step - loss: 0.6200 - accuracy: 0.6990\n",
            "Epoch 59/200\n",
            "32/32 [==============================] - 0s 901us/step - loss: 0.6168 - accuracy: 0.6950\n",
            "Epoch 60/200\n",
            "32/32 [==============================] - 0s 1ms/step - loss: 0.6133 - accuracy: 0.7240\n",
            "Epoch 61/200\n",
            "32/32 [==============================] - 0s 947us/step - loss: 0.6101 - accuracy: 0.7200\n",
            "Epoch 62/200\n",
            "32/32 [==============================] - 0s 1ms/step - loss: 0.6059 - accuracy: 0.7330\n",
            "Epoch 63/200\n",
            "32/32 [==============================] - 0s 904us/step - loss: 0.6014 - accuracy: 0.7400\n",
            "Epoch 64/200\n",
            "32/32 [==============================] - 0s 1ms/step - loss: 0.5966 - accuracy: 0.7460\n",
            "Epoch 65/200\n",
            "32/32 [==============================] - 0s 1ms/step - loss: 0.5905 - accuracy: 0.7440\n",
            "Epoch 66/200\n",
            "32/32 [==============================] - 0s 985us/step - loss: 0.5830 - accuracy: 0.7450\n",
            "Epoch 67/200\n",
            "32/32 [==============================] - 0s 1ms/step - loss: 0.5757 - accuracy: 0.7460\n",
            "Epoch 68/200\n",
            "32/32 [==============================] - 0s 1ms/step - loss: 0.5683 - accuracy: 0.7800\n",
            "Epoch 69/200\n",
            "32/32 [==============================] - 0s 906us/step - loss: 0.5614 - accuracy: 0.8010\n",
            "Epoch 70/200\n",
            "32/32 [==============================] - 0s 991us/step - loss: 0.5548 - accuracy: 0.8010\n",
            "Epoch 71/200\n",
            "32/32 [==============================] - 0s 1ms/step - loss: 0.5474 - accuracy: 0.8240\n",
            "Epoch 72/200\n",
            "32/32 [==============================] - 0s 1ms/step - loss: 0.5406 - accuracy: 0.8460\n",
            "Epoch 73/200\n",
            "32/32 [==============================] - 0s 930us/step - loss: 0.5327 - accuracy: 0.8470\n",
            "Epoch 74/200\n",
            "32/32 [==============================] - 0s 1ms/step - loss: 0.5243 - accuracy: 0.8620\n",
            "Epoch 75/200\n",
            "32/32 [==============================] - 0s 1ms/step - loss: 0.5148 - accuracy: 0.8870\n",
            "Epoch 76/200\n",
            "32/32 [==============================] - 0s 946us/step - loss: 0.5042 - accuracy: 0.8820\n",
            "Epoch 77/200\n",
            "32/32 [==============================] - 0s 971us/step - loss: 0.4927 - accuracy: 0.9300\n",
            "Epoch 78/200\n",
            "32/32 [==============================] - 0s 1ms/step - loss: 0.4824 - accuracy: 0.9090\n",
            "Epoch 79/200\n",
            "32/32 [==============================] - 0s 867us/step - loss: 0.4733 - accuracy: 0.9460\n",
            "Epoch 80/200\n",
            "32/32 [==============================] - 0s 863us/step - loss: 0.4632 - accuracy: 0.9600\n",
            "Epoch 81/200\n",
            "32/32 [==============================] - 0s 950us/step - loss: 0.4546 - accuracy: 0.9600\n",
            "Epoch 82/200\n",
            "32/32 [==============================] - 0s 984us/step - loss: 0.4456 - accuracy: 0.9580\n",
            "Epoch 83/200\n",
            "32/32 [==============================] - 0s 1ms/step - loss: 0.4360 - accuracy: 0.9630\n",
            "Epoch 84/200\n",
            "32/32 [==============================] - 0s 973us/step - loss: 0.4260 - accuracy: 0.9690\n",
            "Epoch 85/200\n",
            "32/32 [==============================] - 0s 1ms/step - loss: 0.4145 - accuracy: 0.9700\n",
            "Epoch 86/200\n",
            "32/32 [==============================] - 0s 1ms/step - loss: 0.4059 - accuracy: 0.9740\n",
            "Epoch 87/200\n",
            "32/32 [==============================] - 0s 1ms/step - loss: 0.3962 - accuracy: 0.9750\n",
            "Epoch 88/200\n",
            "32/32 [==============================] - 0s 972us/step - loss: 0.3873 - accuracy: 0.9720\n",
            "Epoch 89/200\n",
            "32/32 [==============================] - 0s 953us/step - loss: 0.3795 - accuracy: 0.9750\n",
            "Epoch 90/200\n",
            "32/32 [==============================] - 0s 979us/step - loss: 0.3716 - accuracy: 0.9750\n",
            "Epoch 91/200\n",
            "32/32 [==============================] - 0s 899us/step - loss: 0.3635 - accuracy: 0.9840\n",
            "Epoch 92/200\n",
            "32/32 [==============================] - 0s 915us/step - loss: 0.3554 - accuracy: 0.9830\n",
            "Epoch 93/200\n",
            "32/32 [==============================] - 0s 933us/step - loss: 0.3482 - accuracy: 0.9800\n",
            "Epoch 94/200\n",
            "32/32 [==============================] - 0s 999us/step - loss: 0.3404 - accuracy: 0.9820\n",
            "Epoch 95/200\n",
            "32/32 [==============================] - 0s 890us/step - loss: 0.3329 - accuracy: 0.9880\n",
            "Epoch 96/200\n",
            "32/32 [==============================] - 0s 1ms/step - loss: 0.3268 - accuracy: 0.9870\n",
            "Epoch 97/200\n",
            "32/32 [==============================] - 0s 949us/step - loss: 0.3190 - accuracy: 0.9870\n",
            "Epoch 98/200\n",
            "32/32 [==============================] - 0s 990us/step - loss: 0.3122 - accuracy: 0.9890\n",
            "Epoch 99/200\n",
            "32/32 [==============================] - 0s 958us/step - loss: 0.3059 - accuracy: 0.9880\n",
            "Epoch 100/200\n",
            "32/32 [==============================] - 0s 901us/step - loss: 0.2993 - accuracy: 0.9890\n",
            "Epoch 101/200\n",
            "32/32 [==============================] - 0s 960us/step - loss: 0.2931 - accuracy: 0.9900\n",
            "Epoch 102/200\n",
            "32/32 [==============================] - 0s 1ms/step - loss: 0.2871 - accuracy: 0.9900\n",
            "Epoch 103/200\n",
            "32/32 [==============================] - 0s 939us/step - loss: 0.2805 - accuracy: 0.9900\n",
            "Epoch 104/200\n",
            "32/32 [==============================] - 0s 948us/step - loss: 0.2749 - accuracy: 0.9920\n",
            "Epoch 105/200\n",
            "32/32 [==============================] - 0s 924us/step - loss: 0.2698 - accuracy: 0.9910\n",
            "Epoch 106/200\n",
            "32/32 [==============================] - 0s 1ms/step - loss: 0.2639 - accuracy: 0.9910\n",
            "Epoch 107/200\n",
            "32/32 [==============================] - 0s 888us/step - loss: 0.2589 - accuracy: 0.9900\n",
            "Epoch 108/200\n",
            "32/32 [==============================] - 0s 973us/step - loss: 0.2539 - accuracy: 0.9890\n",
            "Epoch 109/200\n",
            "32/32 [==============================] - 0s 897us/step - loss: 0.2483 - accuracy: 0.9920\n",
            "Epoch 110/200\n",
            "32/32 [==============================] - 0s 886us/step - loss: 0.2433 - accuracy: 0.9920\n",
            "Epoch 111/200\n",
            "32/32 [==============================] - 0s 986us/step - loss: 0.2390 - accuracy: 0.9900\n",
            "Epoch 112/200\n",
            "32/32 [==============================] - 0s 998us/step - loss: 0.2354 - accuracy: 0.9900\n",
            "Epoch 113/200\n",
            "32/32 [==============================] - 0s 1ms/step - loss: 0.2293 - accuracy: 0.9910\n",
            "Epoch 114/200\n",
            "32/32 [==============================] - 0s 961us/step - loss: 0.2251 - accuracy: 0.9910\n",
            "Epoch 115/200\n",
            "32/32 [==============================] - 0s 918us/step - loss: 0.2209 - accuracy: 0.9920\n",
            "Epoch 116/200\n",
            "32/32 [==============================] - 0s 958us/step - loss: 0.2164 - accuracy: 0.9920\n",
            "Epoch 117/200\n",
            "32/32 [==============================] - 0s 967us/step - loss: 0.2130 - accuracy: 0.9900\n",
            "Epoch 118/200\n",
            "32/32 [==============================] - 0s 1ms/step - loss: 0.2092 - accuracy: 0.9910\n",
            "Epoch 119/200\n",
            "32/32 [==============================] - 0s 1ms/step - loss: 0.2050 - accuracy: 0.9910\n",
            "Epoch 120/200\n",
            "32/32 [==============================] - 0s 1ms/step - loss: 0.2016 - accuracy: 0.9890\n",
            "Epoch 121/200\n",
            "32/32 [==============================] - 0s 946us/step - loss: 0.1979 - accuracy: 0.9920\n",
            "Epoch 122/200\n",
            "32/32 [==============================] - 0s 1ms/step - loss: 0.1938 - accuracy: 0.9910\n",
            "Epoch 123/200\n",
            "32/32 [==============================] - 0s 1ms/step - loss: 0.1906 - accuracy: 0.9920\n",
            "Epoch 124/200\n",
            "32/32 [==============================] - 0s 950us/step - loss: 0.1872 - accuracy: 0.9910\n",
            "Epoch 125/200\n",
            "32/32 [==============================] - 0s 1ms/step - loss: 0.1839 - accuracy: 0.9900\n",
            "Epoch 126/200\n",
            "32/32 [==============================] - 0s 979us/step - loss: 0.1809 - accuracy: 0.9920\n",
            "Epoch 127/200\n",
            "32/32 [==============================] - 0s 980us/step - loss: 0.1771 - accuracy: 0.9910\n",
            "Epoch 128/200\n",
            "32/32 [==============================] - 0s 959us/step - loss: 0.1747 - accuracy: 0.9920\n",
            "Epoch 129/200\n",
            "32/32 [==============================] - 0s 933us/step - loss: 0.1712 - accuracy: 0.9930\n",
            "Epoch 130/200\n",
            "32/32 [==============================] - 0s 954us/step - loss: 0.1682 - accuracy: 0.9930\n",
            "Epoch 131/200\n",
            "32/32 [==============================] - 0s 923us/step - loss: 0.1662 - accuracy: 0.9910\n",
            "Epoch 132/200\n",
            "32/32 [==============================] - 0s 1ms/step - loss: 0.1630 - accuracy: 0.9930\n",
            "Epoch 133/200\n",
            "32/32 [==============================] - 0s 993us/step - loss: 0.1603 - accuracy: 0.9910\n",
            "Epoch 134/200\n",
            "32/32 [==============================] - 0s 904us/step - loss: 0.1578 - accuracy: 0.9910\n",
            "Epoch 135/200\n",
            "32/32 [==============================] - 0s 892us/step - loss: 0.1552 - accuracy: 0.9940\n",
            "Epoch 136/200\n",
            "32/32 [==============================] - 0s 830us/step - loss: 0.1530 - accuracy: 0.9920\n",
            "Epoch 137/200\n",
            "32/32 [==============================] - 0s 864us/step - loss: 0.1510 - accuracy: 0.9920\n",
            "Epoch 138/200\n",
            "32/32 [==============================] - 0s 1ms/step - loss: 0.1480 - accuracy: 0.9930\n",
            "Epoch 139/200\n",
            "32/32 [==============================] - 0s 973us/step - loss: 0.1459 - accuracy: 0.9920\n",
            "Epoch 140/200\n",
            "32/32 [==============================] - 0s 1ms/step - loss: 0.1439 - accuracy: 0.9910\n",
            "Epoch 141/200\n",
            "32/32 [==============================] - 0s 1ms/step - loss: 0.1420 - accuracy: 0.9930\n",
            "Epoch 142/200\n",
            "32/32 [==============================] - 0s 2ms/step - loss: 0.1392 - accuracy: 0.9940\n",
            "Epoch 143/200\n",
            "32/32 [==============================] - 0s 1ms/step - loss: 0.1376 - accuracy: 0.9920\n",
            "Epoch 144/200\n",
            "32/32 [==============================] - 0s 1ms/step - loss: 0.1356 - accuracy: 0.9930\n",
            "Epoch 145/200\n",
            "32/32 [==============================] - 0s 986us/step - loss: 0.1332 - accuracy: 0.9920\n",
            "Epoch 146/200\n",
            "32/32 [==============================] - 0s 1ms/step - loss: 0.1314 - accuracy: 0.9910\n",
            "Epoch 147/200\n",
            "32/32 [==============================] - 0s 1ms/step - loss: 0.1295 - accuracy: 0.9900\n",
            "Epoch 148/200\n",
            "32/32 [==============================] - 0s 1ms/step - loss: 0.1276 - accuracy: 0.9930\n",
            "Epoch 149/200\n",
            "32/32 [==============================] - 0s 997us/step - loss: 0.1257 - accuracy: 0.9930\n",
            "Epoch 150/200\n",
            "32/32 [==============================] - 0s 1ms/step - loss: 0.1242 - accuracy: 0.9920\n",
            "Epoch 151/200\n",
            "32/32 [==============================] - 0s 1000us/step - loss: 0.1229 - accuracy: 0.9910\n",
            "Epoch 152/200\n",
            "32/32 [==============================] - 0s 1ms/step - loss: 0.1208 - accuracy: 0.9920\n",
            "Epoch 153/200\n",
            "32/32 [==============================] - 0s 1ms/step - loss: 0.1190 - accuracy: 0.9930\n",
            "Epoch 154/200\n",
            "32/32 [==============================] - 0s 1ms/step - loss: 0.1174 - accuracy: 0.9920\n",
            "Epoch 155/200\n",
            "32/32 [==============================] - 0s 940us/step - loss: 0.1156 - accuracy: 0.9940\n",
            "Epoch 156/200\n",
            "32/32 [==============================] - 0s 1ms/step - loss: 0.1143 - accuracy: 0.9930\n",
            "Epoch 157/200\n",
            "32/32 [==============================] - 0s 946us/step - loss: 0.1128 - accuracy: 0.9920\n",
            "Epoch 158/200\n",
            "32/32 [==============================] - 0s 918us/step - loss: 0.1112 - accuracy: 0.9930\n",
            "Epoch 159/200\n",
            "32/32 [==============================] - 0s 1ms/step - loss: 0.1099 - accuracy: 0.9920\n",
            "Epoch 160/200\n",
            "32/32 [==============================] - 0s 1ms/step - loss: 0.1090 - accuracy: 0.9900\n",
            "Epoch 161/200\n",
            "32/32 [==============================] - 0s 965us/step - loss: 0.1079 - accuracy: 0.9930\n",
            "Epoch 162/200\n",
            "32/32 [==============================] - 0s 1ms/step - loss: 0.1058 - accuracy: 0.9930\n",
            "Epoch 163/200\n",
            "32/32 [==============================] - 0s 940us/step - loss: 0.1046 - accuracy: 0.9940\n",
            "Epoch 164/200\n",
            "32/32 [==============================] - 0s 920us/step - loss: 0.1031 - accuracy: 0.9930\n",
            "Epoch 165/200\n",
            "32/32 [==============================] - 0s 997us/step - loss: 0.1027 - accuracy: 0.9890\n",
            "Epoch 166/200\n",
            "32/32 [==============================] - 0s 883us/step - loss: 0.1010 - accuracy: 0.9930\n",
            "Epoch 167/200\n",
            "32/32 [==============================] - 0s 853us/step - loss: 0.0996 - accuracy: 0.9930\n",
            "Epoch 168/200\n",
            "32/32 [==============================] - 0s 894us/step - loss: 0.0986 - accuracy: 0.9920\n",
            "Epoch 169/200\n",
            "32/32 [==============================] - 0s 1ms/step - loss: 0.0970 - accuracy: 0.9930\n",
            "Epoch 170/200\n",
            "32/32 [==============================] - 0s 1ms/step - loss: 0.0959 - accuracy: 0.9920\n",
            "Epoch 171/200\n",
            "32/32 [==============================] - 0s 1ms/step - loss: 0.0949 - accuracy: 0.9920\n",
            "Epoch 172/200\n",
            "32/32 [==============================] - 0s 1ms/step - loss: 0.0937 - accuracy: 0.9920\n",
            "Epoch 173/200\n",
            "32/32 [==============================] - 0s 994us/step - loss: 0.0926 - accuracy: 0.9930\n",
            "Epoch 174/200\n",
            "32/32 [==============================] - 0s 1ms/step - loss: 0.0915 - accuracy: 0.9920\n",
            "Epoch 175/200\n",
            "32/32 [==============================] - 0s 1ms/step - loss: 0.0913 - accuracy: 0.9910\n",
            "Epoch 176/200\n",
            "32/32 [==============================] - 0s 914us/step - loss: 0.0900 - accuracy: 0.9930\n",
            "Epoch 177/200\n",
            "32/32 [==============================] - 0s 1ms/step - loss: 0.0885 - accuracy: 0.9940\n",
            "Epoch 178/200\n",
            "32/32 [==============================] - 0s 891us/step - loss: 0.0882 - accuracy: 0.9900\n",
            "Epoch 179/200\n",
            "32/32 [==============================] - 0s 1ms/step - loss: 0.0869 - accuracy: 0.9920\n",
            "Epoch 180/200\n",
            "32/32 [==============================] - 0s 997us/step - loss: 0.0859 - accuracy: 0.9930\n",
            "Epoch 181/200\n",
            "32/32 [==============================] - 0s 1ms/step - loss: 0.0851 - accuracy: 0.9930\n",
            "Epoch 182/200\n",
            "32/32 [==============================] - 0s 917us/step - loss: 0.0840 - accuracy: 0.9920\n",
            "Epoch 183/200\n",
            "32/32 [==============================] - 0s 1ms/step - loss: 0.0831 - accuracy: 0.9920\n",
            "Epoch 184/200\n",
            "32/32 [==============================] - 0s 949us/step - loss: 0.0823 - accuracy: 0.9920\n",
            "Epoch 185/200\n",
            "32/32 [==============================] - 0s 983us/step - loss: 0.0816 - accuracy: 0.9940\n",
            "Epoch 186/200\n",
            "32/32 [==============================] - 0s 928us/step - loss: 0.0809 - accuracy: 0.9930\n",
            "Epoch 187/200\n",
            "32/32 [==============================] - 0s 991us/step - loss: 0.0801 - accuracy: 0.9940\n",
            "Epoch 188/200\n",
            "32/32 [==============================] - 0s 1ms/step - loss: 0.0786 - accuracy: 0.9920\n",
            "Epoch 189/200\n",
            "32/32 [==============================] - 0s 1ms/step - loss: 0.0780 - accuracy: 0.9930\n",
            "Epoch 190/200\n",
            "32/32 [==============================] - 0s 1ms/step - loss: 0.0773 - accuracy: 0.9930\n",
            "Epoch 191/200\n",
            "32/32 [==============================] - 0s 1ms/step - loss: 0.0767 - accuracy: 0.9920\n",
            "Epoch 192/200\n",
            "32/32 [==============================] - 0s 965us/step - loss: 0.0759 - accuracy: 0.9910\n",
            "Epoch 193/200\n",
            "32/32 [==============================] - 0s 1ms/step - loss: 0.0748 - accuracy: 0.9910\n",
            "Epoch 194/200\n",
            "32/32 [==============================] - 0s 1ms/step - loss: 0.0742 - accuracy: 0.9920\n",
            "Epoch 195/200\n",
            "32/32 [==============================] - 0s 942us/step - loss: 0.0735 - accuracy: 0.9930\n",
            "Epoch 196/200\n",
            "32/32 [==============================] - 0s 1ms/step - loss: 0.0728 - accuracy: 0.9920\n",
            "Epoch 197/200\n",
            "32/32 [==============================] - 0s 1ms/step - loss: 0.0719 - accuracy: 0.9920\n",
            "Epoch 198/200\n",
            "32/32 [==============================] - 0s 936us/step - loss: 0.0716 - accuracy: 0.9930\n",
            "Epoch 199/200\n",
            "32/32 [==============================] - 0s 1ms/step - loss: 0.0704 - accuracy: 0.9920\n",
            "Epoch 200/200\n",
            "32/32 [==============================] - 0s 1ms/step - loss: 0.0702 - accuracy: 0.9920\n"
          ],
          "name": "stdout"
        }
      ]
    },
    {
      "cell_type": "code",
      "metadata": {
        "colab": {
          "base_uri": "https://localhost:8080/"
        },
        "id": "V-2AQyC_gHkb",
        "outputId": "5d8ab069-6bf0-43fa-cadb-83c4c4bf9021"
      },
      "source": [
        "# evaluate our model\n",
        "model_6.evaluate(X,y)"
      ],
      "execution_count": 24,
      "outputs": [
        {
          "output_type": "stream",
          "text": [
            "32/32 [==============================] - 0s 801us/step - loss: 0.0690 - accuracy: 0.9930\n"
          ],
          "name": "stdout"
        },
        {
          "output_type": "execute_result",
          "data": {
            "text/plain": [
              "[0.06901050359010696, 0.9929999709129333]"
            ]
          },
          "metadata": {
            "tags": []
          },
          "execution_count": 24
        }
      ]
    },
    {
      "cell_type": "code",
      "metadata": {
        "colab": {
          "base_uri": "https://localhost:8080/",
          "height": 282
        },
        "id": "WzN33_kykfim",
        "outputId": "9fb9f1f7-d04f-429b-d88a-8575d4528dfa"
      },
      "source": [
        "plot_decision_boundary(model_6,X,y)"
      ],
      "execution_count": 25,
      "outputs": [
        {
          "output_type": "stream",
          "text": [
            "doing binary classification\n"
          ],
          "name": "stdout"
        },
        {
          "output_type": "display_data",
          "data": {
            "image/png": "[encoded data removed]",
            "text/plain": [
              "<Figure size 432x288 with 1 Axes>"
            ]
          },
          "metadata": {
            "tags": [],
            "needs_background": "light"
          }
        }
      ]
    },
    {
      "cell_type": "markdown",
      "metadata": {
        "id": "_ZFOhQgPkng2"
      },
      "source": [
        "#Finding the best learning rate\n",
        "To find the ideal learning rate (the learning rate where the loss decreases the most during training)we are going to use the following steps:\n",
        "* A learning rate **callback** you can think of a callback as an extra piece of functionality, you can add to your *while* its training .\n",
        "* Building models\n",
        "* A modified loss curve plot\n"
      ]
    },
    {
      "cell_type": "code",
      "metadata": {
        "colab": {
          "base_uri": "https://localhost:8080/"
        },
        "id": "TzCG8JaC4A6T",
        "outputId": "dc482177-b013-41aa-e883-2261667791c6"
      },
      "source": [
        "X,y"
      ],
      "execution_count": 26,
      "outputs": [
        {
          "output_type": "execute_result",
          "data": {
            "text/plain": [
              "(array([[ 0.75424625,  0.23148074],\n",
              "        [-0.75615888,  0.15325888],\n",
              "        [-0.81539193,  0.17328203],\n",
              "        ...,\n",
              "        [-0.13690036, -0.81001183],\n",
              "        [ 0.67036156, -0.76750154],\n",
              "        [ 0.28105665,  0.96382443]]),\n",
              " array([1, 1, 1, 1, 0, 1, 1, 1, 1, 0, 1, 0, 1, 1, 1, 1, 0, 1, 1, 0, 1, 0,\n",
              "        0, 1, 0, 0, 0, 1, 1, 1, 0, 0, 1, 0, 0, 0, 1, 1, 1, 0, 0, 0, 0, 1,\n",
              "        0, 0, 1, 1, 0, 1, 1, 1, 0, 1, 0, 0, 1, 0, 0, 1, 0, 0, 1, 0, 1, 1,\n",
              "        1, 1, 0, 1, 0, 0, 1, 1, 0, 0, 1, 0, 1, 0, 1, 0, 0, 0, 0, 1, 1, 1,\n",
              "        1, 0, 0, 0, 1, 0, 1, 0, 1, 0, 0, 1, 1, 0, 1, 0, 1, 1, 1, 1, 0, 1,\n",
              "        1, 1, 1, 1, 0, 0, 0, 1, 1, 0, 1, 0, 1, 0, 0, 1, 1, 0, 1, 1, 1, 1,\n",
              "        0, 1, 1, 0, 0, 0, 0, 0, 0, 0, 1, 0, 1, 1, 1, 0, 1, 0, 1, 0, 1, 0,\n",
              "        1, 0, 0, 1, 0, 1, 1, 1, 1, 1, 1, 1, 0, 1, 0, 0, 0, 0, 0, 1, 0, 0,\n",
              "        0, 0, 1, 1, 0, 1, 0, 1, 1, 0, 0, 0, 1, 1, 1, 1, 1, 0, 0, 0, 0, 0,\n",
              "        1, 0, 0, 1, 1, 1, 1, 1, 0, 1, 0, 1, 0, 0, 1, 1, 1, 0, 1, 0, 1, 1,\n",
              "        0, 1, 1, 0, 1, 0, 1, 0, 1, 1, 0, 1, 0, 1, 0, 0, 0, 1, 0, 0, 0, 0,\n",
              "        1, 1, 0, 0, 0, 0, 0, 0, 0, 1, 1, 1, 0, 0, 1, 1, 1, 0, 1, 0, 0, 0,\n",
              "        0, 1, 1, 0, 1, 0, 0, 0, 1, 0, 1, 0, 0, 1, 0, 1, 1, 1, 0, 0, 0, 1,\n",
              "        0, 0, 0, 1, 1, 1, 1, 0, 0, 0, 1, 0, 0, 0, 1, 0, 0, 0, 1, 1, 0, 1,\n",
              "        1, 1, 1, 1, 1, 1, 0, 0, 0, 0, 1, 0, 0, 0, 0, 1, 1, 1, 0, 0, 1, 0,\n",
              "        1, 0, 1, 1, 0, 0, 1, 1, 1, 1, 0, 0, 0, 0, 0, 0, 1, 1, 0, 1, 0, 0,\n",
              "        1, 0, 0, 0, 0, 0, 0, 0, 0, 1, 0, 0, 0, 0, 1, 0, 0, 1, 0, 1, 0, 0,\n",
              "        0, 1, 0, 0, 1, 1, 0, 0, 1, 0, 0, 1, 1, 0, 1, 1, 0, 0, 1, 0, 1, 0,\n",
              "        0, 0, 1, 1, 0, 0, 1, 1, 1, 1, 1, 0, 0, 1, 1, 1, 1, 0, 1, 1, 1, 1,\n",
              "        1, 0, 0, 1, 0, 1, 0, 0, 0, 0, 1, 0, 0, 0, 0, 0, 0, 0, 0, 0, 1, 1,\n",
              "        0, 1, 1, 1, 1, 1, 1, 0, 1, 1, 1, 1, 0, 0, 0, 1, 1, 1, 0, 0, 0, 0,\n",
              "        1, 1, 0, 0, 0, 0, 1, 0, 0, 0, 1, 0, 0, 1, 1, 1, 1, 1, 1, 0, 0, 0,\n",
              "        1, 0, 0, 0, 0, 0, 1, 1, 1, 0, 0, 0, 0, 0, 1, 1, 1, 0, 0, 1, 1, 1,\n",
              "        1, 0, 1, 1, 0, 1, 0, 0, 0, 1, 0, 0, 1, 0, 0, 1, 1, 0, 0, 1, 1, 0,\n",
              "        1, 0, 1, 0, 1, 0, 1, 0, 0, 0, 1, 0, 0, 0, 0, 0, 0, 1, 1, 1, 1, 0,\n",
              "        0, 0, 1, 0, 1, 1, 0, 0, 0, 0, 0, 1, 1, 1, 0, 0, 1, 0, 0, 1, 0, 0,\n",
              "        1, 0, 0, 1, 0, 0, 0, 1, 0, 0, 1, 1, 1, 0, 1, 1, 0, 0, 0, 1, 1, 1,\n",
              "        1, 0, 0, 1, 1, 1, 0, 0, 0, 0, 1, 1, 0, 0, 1, 1, 0, 0, 1, 1, 1, 1,\n",
              "        1, 1, 1, 0, 1, 0, 1, 0, 0, 1, 0, 1, 1, 1, 1, 0, 0, 1, 1, 0, 0, 1,\n",
              "        0, 1, 0, 0, 0, 1, 0, 0, 1, 1, 1, 1, 0, 1, 1, 1, 1, 1, 1, 1, 0, 1,\n",
              "        0, 1, 1, 1, 0, 0, 1, 0, 0, 0, 1, 1, 1, 1, 0, 0, 0, 0, 1, 0, 1, 1,\n",
              "        1, 0, 1, 0, 0, 1, 0, 0, 1, 1, 1, 1, 1, 0, 1, 0, 0, 0, 1, 1, 1, 1,\n",
              "        1, 0, 0, 0, 1, 1, 1, 1, 0, 0, 0, 0, 0, 1, 1, 0, 1, 0, 1, 0, 0, 0,\n",
              "        0, 0, 0, 0, 0, 0, 1, 1, 1, 1, 1, 0, 1, 0, 1, 1, 1, 1, 0, 1, 1, 1,\n",
              "        1, 1, 1, 1, 1, 0, 1, 1, 0, 1, 0, 0, 0, 1, 0, 1, 1, 1, 0, 1, 1, 0,\n",
              "        1, 1, 0, 1, 0, 1, 1, 0, 0, 1, 1, 1, 0, 0, 0, 0, 1, 1, 0, 0, 1, 1,\n",
              "        1, 1, 1, 1, 1, 1, 1, 1, 1, 1, 1, 1, 0, 0, 1, 0, 1, 0, 1, 0, 1, 1,\n",
              "        1, 1, 1, 1, 0, 1, 0, 1, 1, 1, 0, 1, 1, 0, 0, 1, 0, 1, 1, 0, 0, 1,\n",
              "        1, 1, 1, 1, 1, 1, 1, 0, 1, 1, 1, 0, 1, 0, 0, 1, 1, 0, 0, 0, 1, 0,\n",
              "        0, 1, 0, 0, 0, 1, 0, 1, 0, 0, 0, 0, 1, 0, 1, 1, 1, 1, 0, 1, 0, 0,\n",
              "        0, 0, 0, 0, 1, 0, 1, 0, 1, 0, 1, 1, 1, 0, 1, 0, 1, 0, 0, 1, 1, 1,\n",
              "        0, 0, 0, 1, 1, 0, 1, 0, 1, 1, 0, 1, 0, 0, 1, 1, 1, 0, 0, 0, 1, 1,\n",
              "        0, 0, 0, 0, 0, 1, 1, 0, 1, 0, 0, 0, 1, 0, 0, 0, 1, 1, 1, 1, 0, 1,\n",
              "        1, 1, 0, 1, 1, 1, 1, 0, 1, 1, 0, 1, 1, 0, 0, 1, 1, 1, 0, 0, 0, 0,\n",
              "        0, 0, 1, 0, 0, 1, 0, 0, 0, 1, 0, 1, 0, 1, 1, 0, 0, 0, 0, 0, 0, 0,\n",
              "        0, 1, 0, 1, 0, 0, 0, 1, 0, 0]))"
            ]
          },
          "metadata": {
            "tags": []
          },
          "execution_count": 26
        }
      ]
    },
    {
      "cell_type": "code",
      "metadata": {
        "id": "SzOJru3H4HVY"
      },
      "source": [
        "# creating test and training set\n",
        "X_train=X[:800]\n",
        "y_train=y[:800]\n",
        "X_test=X[800:]\n",
        "y_test=y[800:]"
      ],
      "execution_count": 27,
      "outputs": []
    },
    {
      "cell_type": "code",
      "metadata": {
        "colab": {
          "base_uri": "https://localhost:8080/"
        },
        "id": "gv8w-7ov4HEy",
        "outputId": "1de24dd0-4288-4445-aa5e-16378e56d91a"
      },
      "source": [
        "len(X_train),len(y_train),len(X_test),len(y_test)"
      ],
      "execution_count": 28,
      "outputs": [
        {
          "output_type": "execute_result",
          "data": {
            "text/plain": [
              "(800, 800, 200, 200)"
            ]
          },
          "metadata": {
            "tags": []
          },
          "execution_count": 28
        }
      ]
    },
    {
      "cell_type": "code",
      "metadata": {
        "colab": {
          "base_uri": "https://localhost:8080/"
        },
        "id": "QJxdnGSay3EI",
        "outputId": "1367e214-2a89-43dd-f65d-45c87e5e7ddb"
      },
      "source": [
        "tf.random.set_seed(42)\n",
        "model_9 = tf.keras.Sequential([\n",
        "                               tf.keras.layers.Dense(4,activation='relu'),\n",
        "                               tf.keras.layers.Dense(4,activation='relu'),\n",
        "                               tf.keras.layers.Dense(1,activation='sigmoid')\n",
        "])\n",
        "model_9.compile(loss='binary_crossentropy',\n",
        "                optimizer='Adam',\n",
        "                metrics=['accuracy'])\n",
        "#create a learning rate callbacks as callback works during training so we should implement it before training\n",
        "lr_scheduler = tf.keras.callbacks.LearningRateScheduler(lambda epoch: 1e-4 * 10**(epoch/20))\n",
        "# Fit the model (passing lr_scheduler callback)\n",
        "history_9 = model_9.fit(X_train,\n",
        "                        y_train,\n",
        "                        epochs=100,\n",
        "                        callbacks=[lr_scheduler])"
      ],
      "execution_count": 29,
      "outputs": [
        {
          "output_type": "stream",
          "text": [
            "Epoch 1/100\n",
            "25/25 [==============================] - 0s 953us/step - loss: 0.6945 - accuracy: 0.4988\n",
            "Epoch 2/100\n",
            "25/25 [==============================] - 0s 828us/step - loss: 0.6938 - accuracy: 0.4975\n",
            "Epoch 3/100\n",
            "25/25 [==============================] - 0s 827us/step - loss: 0.6930 - accuracy: 0.4963\n",
            "Epoch 4/100\n",
            "25/25 [==============================] - 0s 1ms/step - loss: 0.6922 - accuracy: 0.4975\n",
            "Epoch 5/100\n",
            "25/25 [==============================] - 0s 844us/step - loss: 0.6914 - accuracy: 0.5063\n",
            "Epoch 6/100\n",
            "25/25 [==============================] - 0s 871us/step - loss: 0.6906 - accuracy: 0.5013\n",
            "Epoch 7/100\n",
            "25/25 [==============================] - 0s 962us/step - loss: 0.6898 - accuracy: 0.4950\n",
            "Epoch 8/100\n",
            "25/25 [==============================] - 0s 937us/step - loss: 0.6889 - accuracy: 0.5038\n",
            "Epoch 9/100\n",
            "25/25 [==============================] - 0s 1ms/step - loss: 0.6880 - accuracy: 0.5013\n",
            "Epoch 10/100\n",
            "25/25 [==============================] - 0s 918us/step - loss: 0.6871 - accuracy: 0.5050\n",
            "Epoch 11/100\n",
            "25/25 [==============================] - 0s 957us/step - loss: 0.6863 - accuracy: 0.5200\n",
            "Epoch 12/100\n",
            "25/25 [==============================] - 0s 990us/step - loss: 0.6856 - accuracy: 0.5163\n",
            "Epoch 13/100\n",
            "25/25 [==============================] - 0s 1ms/step - loss: 0.6847 - accuracy: 0.5175\n",
            "Epoch 14/100\n",
            "25/25 [==============================] - 0s 945us/step - loss: 0.6842 - accuracy: 0.5200\n",
            "Epoch 15/100\n",
            "25/25 [==============================] - 0s 1ms/step - loss: 0.6835 - accuracy: 0.5213\n",
            "Epoch 16/100\n",
            "25/25 [==============================] - 0s 849us/step - loss: 0.6829 - accuracy: 0.5213\n",
            "Epoch 17/100\n",
            "25/25 [==============================] - 0s 907us/step - loss: 0.6826 - accuracy: 0.5225\n",
            "Epoch 18/100\n",
            "25/25 [==============================] - 0s 869us/step - loss: 0.6819 - accuracy: 0.5300\n",
            "Epoch 19/100\n",
            "25/25 [==============================] - 0s 864us/step - loss: 0.6816 - accuracy: 0.5312\n",
            "Epoch 20/100\n",
            "25/25 [==============================] - 0s 1ms/step - loss: 0.6811 - accuracy: 0.5387\n",
            "Epoch 21/100\n",
            "25/25 [==============================] - 0s 1ms/step - loss: 0.6806 - accuracy: 0.5400\n",
            "Epoch 22/100\n",
            "25/25 [==============================] - 0s 921us/step - loss: 0.6801 - accuracy: 0.5412\n",
            "Epoch 23/100\n",
            "25/25 [==============================] - 0s 892us/step - loss: 0.6796 - accuracy: 0.5400\n",
            "Epoch 24/100\n",
            "25/25 [==============================] - 0s 888us/step - loss: 0.6790 - accuracy: 0.5425\n",
            "Epoch 25/100\n",
            "25/25 [==============================] - 0s 858us/step - loss: 0.6784 - accuracy: 0.5450\n",
            "Epoch 26/100\n",
            "25/25 [==============================] - 0s 895us/step - loss: 0.6778 - accuracy: 0.5387\n",
            "Epoch 27/100\n",
            "25/25 [==============================] - 0s 871us/step - loss: 0.6770 - accuracy: 0.5425\n",
            "Epoch 28/100\n",
            "25/25 [==============================] - 0s 876us/step - loss: 0.6760 - accuracy: 0.5537\n",
            "Epoch 29/100\n",
            "25/25 [==============================] - 0s 877us/step - loss: 0.6754 - accuracy: 0.5512\n",
            "Epoch 30/100\n",
            "25/25 [==============================] - 0s 891us/step - loss: 0.6739 - accuracy: 0.5575\n",
            "Epoch 31/100\n",
            "25/25 [==============================] - 0s 880us/step - loss: 0.6726 - accuracy: 0.5500\n",
            "Epoch 32/100\n",
            "25/25 [==============================] - 0s 990us/step - loss: 0.6711 - accuracy: 0.5512\n",
            "Epoch 33/100\n",
            "25/25 [==============================] - 0s 1ms/step - loss: 0.6688 - accuracy: 0.5562\n",
            "Epoch 34/100\n",
            "25/25 [==============================] - 0s 1ms/step - loss: 0.6672 - accuracy: 0.5612\n",
            "Epoch 35/100\n",
            "25/25 [==============================] - 0s 899us/step - loss: 0.6660 - accuracy: 0.5888\n",
            "Epoch 36/100\n",
            "25/25 [==============================] - 0s 980us/step - loss: 0.6625 - accuracy: 0.5625\n",
            "Epoch 37/100\n",
            "25/25 [==============================] - 0s 923us/step - loss: 0.6560 - accuracy: 0.5813\n",
            "Epoch 38/100\n",
            "25/25 [==============================] - 0s 878us/step - loss: 0.6521 - accuracy: 0.6025\n",
            "Epoch 39/100\n",
            "25/25 [==============================] - 0s 1ms/step - loss: 0.6415 - accuracy: 0.7088\n",
            "Epoch 40/100\n",
            "25/25 [==============================] - 0s 1ms/step - loss: 0.6210 - accuracy: 0.7113\n",
            "Epoch 41/100\n",
            "25/25 [==============================] - 0s 1ms/step - loss: 0.5904 - accuracy: 0.7487\n",
            "Epoch 42/100\n",
            "25/25 [==============================] - 0s 1ms/step - loss: 0.5688 - accuracy: 0.7312\n",
            "Epoch 43/100\n",
            "25/25 [==============================] - 0s 1ms/step - loss: 0.5346 - accuracy: 0.7563\n",
            "Epoch 44/100\n",
            "25/25 [==============================] - 0s 928us/step - loss: 0.4533 - accuracy: 0.8150\n",
            "Epoch 45/100\n",
            "25/25 [==============================] - 0s 824us/step - loss: 0.3455 - accuracy: 0.9112\n",
            "Epoch 46/100\n",
            "25/25 [==============================] - 0s 1ms/step - loss: 0.2570 - accuracy: 0.9463\n",
            "Epoch 47/100\n",
            "25/25 [==============================] - 0s 1ms/step - loss: 0.1968 - accuracy: 0.9575\n",
            "Epoch 48/100\n",
            "25/25 [==============================] - 0s 887us/step - loss: 0.1336 - accuracy: 0.9700\n",
            "Epoch 49/100\n",
            "25/25 [==============================] - 0s 1ms/step - loss: 0.1310 - accuracy: 0.9613\n",
            "Epoch 50/100\n",
            "25/25 [==============================] - 0s 964us/step - loss: 0.1002 - accuracy: 0.9700\n",
            "Epoch 51/100\n",
            "25/25 [==============================] - 0s 914us/step - loss: 0.1166 - accuracy: 0.9638\n",
            "Epoch 52/100\n",
            "25/25 [==============================] - 0s 901us/step - loss: 0.1368 - accuracy: 0.9513\n",
            "Epoch 53/100\n",
            "25/25 [==============================] - 0s 1ms/step - loss: 0.0879 - accuracy: 0.9787\n",
            "Epoch 54/100\n",
            "25/25 [==============================] - 0s 989us/step - loss: 0.1187 - accuracy: 0.9588\n",
            "Epoch 55/100\n",
            "25/25 [==============================] - 0s 1ms/step - loss: 0.0733 - accuracy: 0.9712\n",
            "Epoch 56/100\n",
            "25/25 [==============================] - 0s 887us/step - loss: 0.1132 - accuracy: 0.9550\n",
            "Epoch 57/100\n",
            "25/25 [==============================] - 0s 1ms/step - loss: 0.1057 - accuracy: 0.9613\n",
            "Epoch 58/100\n",
            "25/25 [==============================] - 0s 1ms/step - loss: 0.0665 - accuracy: 0.9750\n",
            "Epoch 59/100\n",
            "25/25 [==============================] - 0s 1ms/step - loss: 0.1916 - accuracy: 0.9275\n",
            "Epoch 60/100\n",
            "25/25 [==============================] - 0s 1ms/step - loss: 0.1877 - accuracy: 0.9312\n",
            "Epoch 61/100\n",
            "25/25 [==============================] - 0s 1ms/step - loss: 0.4017 - accuracy: 0.8612\n",
            "Epoch 62/100\n",
            "25/25 [==============================] - 0s 1ms/step - loss: 0.1675 - accuracy: 0.9725\n",
            "Epoch 63/100\n",
            "25/25 [==============================] - 0s 832us/step - loss: 0.0597 - accuracy: 0.9912\n",
            "Epoch 64/100\n",
            "25/25 [==============================] - 0s 1ms/step - loss: 0.0988 - accuracy: 0.9663\n",
            "Epoch 65/100\n",
            "25/25 [==============================] - 0s 933us/step - loss: 0.1005 - accuracy: 0.9588\n",
            "Epoch 66/100\n",
            "25/25 [==============================] - 0s 982us/step - loss: 0.2240 - accuracy: 0.9350\n",
            "Epoch 67/100\n",
            "25/25 [==============================] - 0s 881us/step - loss: 0.5240 - accuracy: 0.8250\n",
            "Epoch 68/100\n",
            "25/25 [==============================] - 0s 835us/step - loss: 0.1650 - accuracy: 0.9600\n",
            "Epoch 69/100\n",
            "25/25 [==============================] - 0s 820us/step - loss: 0.0569 - accuracy: 0.9850\n",
            "Epoch 70/100\n",
            "25/25 [==============================] - 0s 893us/step - loss: 0.1858 - accuracy: 0.9275\n",
            "Epoch 71/100\n",
            "25/25 [==============================] - 0s 871us/step - loss: 0.3237 - accuracy: 0.8700\n",
            "Epoch 72/100\n",
            "25/25 [==============================] - 0s 838us/step - loss: 0.1877 - accuracy: 0.9200\n",
            "Epoch 73/100\n",
            "25/25 [==============================] - 0s 928us/step - loss: 0.1600 - accuracy: 0.9362\n",
            "Epoch 74/100\n",
            "25/25 [==============================] - 0s 947us/step - loss: 0.1342 - accuracy: 0.9525\n",
            "Epoch 75/100\n",
            "25/25 [==============================] - 0s 1ms/step - loss: 0.3309 - accuracy: 0.8788\n",
            "Epoch 76/100\n",
            "25/25 [==============================] - 0s 927us/step - loss: 0.1408 - accuracy: 0.9450\n",
            "Epoch 77/100\n",
            "25/25 [==============================] - 0s 1ms/step - loss: 0.0416 - accuracy: 0.9900\n",
            "Epoch 78/100\n",
            "25/25 [==============================] - 0s 1ms/step - loss: 0.7439 - accuracy: 0.7475\n",
            "Epoch 79/100\n",
            "25/25 [==============================] - 0s 927us/step - loss: 0.6934 - accuracy: 0.6100\n",
            "Epoch 80/100\n",
            "25/25 [==============================] - 0s 850us/step - loss: 0.7342 - accuracy: 0.5713\n",
            "Epoch 81/100\n",
            "25/25 [==============================] - 0s 979us/step - loss: 0.7056 - accuracy: 0.4563\n",
            "Epoch 82/100\n",
            "25/25 [==============================] - 0s 1ms/step - loss: 0.7109 - accuracy: 0.5487\n",
            "Epoch 83/100\n",
            "25/25 [==============================] - 0s 929us/step - loss: 0.7250 - accuracy: 0.4762\n",
            "Epoch 84/100\n",
            "25/25 [==============================] - 0s 977us/step - loss: 0.7063 - accuracy: 0.5088\n",
            "Epoch 85/100\n",
            "25/25 [==============================] - 0s 992us/step - loss: 0.7282 - accuracy: 0.5038\n",
            "Epoch 86/100\n",
            "25/25 [==============================] - 0s 959us/step - loss: 0.7678 - accuracy: 0.5038\n",
            "Epoch 87/100\n",
            "25/25 [==============================] - 0s 1ms/step - loss: 0.7679 - accuracy: 0.5013\n",
            "Epoch 88/100\n",
            "25/25 [==============================] - 0s 1ms/step - loss: 0.7586 - accuracy: 0.5163\n",
            "Epoch 89/100\n",
            "25/25 [==============================] - 0s 934us/step - loss: 0.7636 - accuracy: 0.5263\n",
            "Epoch 90/100\n",
            "25/25 [==============================] - 0s 892us/step - loss: 0.7855 - accuracy: 0.4938\n",
            "Epoch 91/100\n",
            "25/25 [==============================] - 0s 1ms/step - loss: 0.8027 - accuracy: 0.5138\n",
            "Epoch 92/100\n",
            "25/25 [==============================] - 0s 1ms/step - loss: 0.7384 - accuracy: 0.4963\n",
            "Epoch 93/100\n",
            "25/25 [==============================] - 0s 1ms/step - loss: 0.7400 - accuracy: 0.4963\n",
            "Epoch 94/100\n",
            "25/25 [==============================] - 0s 1ms/step - loss: 0.7581 - accuracy: 0.4938\n",
            "Epoch 95/100\n",
            "25/25 [==============================] - 0s 1ms/step - loss: 0.8190 - accuracy: 0.4863\n",
            "Epoch 96/100\n",
            "25/25 [==============================] - 0s 1ms/step - loss: 0.7814 - accuracy: 0.4613\n",
            "Epoch 97/100\n",
            "25/25 [==============================] - 0s 1ms/step - loss: 0.8057 - accuracy: 0.5013\n",
            "Epoch 98/100\n",
            "25/25 [==============================] - 0s 1ms/step - loss: 0.9629 - accuracy: 0.4963\n",
            "Epoch 99/100\n",
            "25/25 [==============================] - 0s 941us/step - loss: 0.9575 - accuracy: 0.4913\n",
            "Epoch 100/100\n",
            "25/25 [==============================] - 0s 1ms/step - loss: 0.8582 - accuracy: 0.4613\n"
          ],
          "name": "stdout"
        }
      ]
    },
    {
      "cell_type": "code",
      "metadata": {
        "colab": {
          "base_uri": "https://localhost:8080/",
          "height": 459
        },
        "id": "t8Q8CDQ630FU",
        "outputId": "985e94b0-1c8d-42af-beed-03361458f9a6"
      },
      "source": [
        "# checkout the history\n",
        "pd.DataFrame(history_9.history).plot(figsize=(10,7), xlabel='epochs')\n"
      ],
      "execution_count": 30,
      "outputs": [
        {
          "output_type": "execute_result",
          "data": {
            "text/plain": [
              "<matplotlib.axes._subplots.AxesSubplot at 0x7fadefa10fd0>"
            ]
          },
          "metadata": {
            "tags": []
          },
          "execution_count": 30
        },
        {
          "output_type": "display_data",
          "data": {
            "image/png": "[encoded data removed]",
            "text/plain": [
              "<Figure size 720x504 with 1 Axes>"
            ]
          },
          "metadata": {
            "tags": [],
            "needs_background": "light"
          }
        }
      ]
    },
    {
      "cell_type": "code",
      "metadata": {
        "colab": {
          "base_uri": "https://localhost:8080/",
          "height": 479
        },
        "id": "oesZ-9cH6aOX",
        "outputId": "feaae037-2ea8-473a-8920-9599dab142aa"
      },
      "source": [
        "# lets plot the learning rate versus loss\n",
        "lrs=1e-4*(10**  (tf.range(100)/20))\n",
        "plt.figure(figsize=(10,7))\n",
        "plt.semilogx(lrs, history_9.history['loss'])\n",
        "plt.xlabel(\"Learning rate\")\n",
        "plt.ylabel(\"Loss\")\n",
        "plt.title(\"Learning rate vs Loss\")"
      ],
      "execution_count": 31,
      "outputs": [
        {
          "output_type": "execute_result",
          "data": {
            "text/plain": [
              "Text(0.5, 1.0, 'Learning rate vs Loss')"
            ]
          },
          "metadata": {
            "tags": []
          },
          "execution_count": 31
        },
        {
          "output_type": "display_data",
          "data": {
            "image/png": "[encoded data removed]",
            "text/plain": [
              "<Figure size 720x504 with 1 Axes>"
            ]
          },
          "metadata": {
            "tags": [],
            "needs_background": "light"
          }
        }
      ]
    },
    {
      "cell_type": "code",
      "metadata": {
        "colab": {
          "base_uri": "https://localhost:8080/"
        },
        "id": "0GUqheeh8TE5",
        "outputId": "23de1f12-e5da-4c70-feae-09cae3ba28a3"
      },
      "source": [
        "# Example of other typical learning rate values:\n",
        "10**0 ,10**-1,10**-2,1e-4"
      ],
      "execution_count": 32,
      "outputs": [
        {
          "output_type": "execute_result",
          "data": {
            "text/plain": [
              "(1, 0.1, 0.01, 0.0001)"
            ]
          },
          "metadata": {
            "tags": []
          },
          "execution_count": 32
        }
      ]
    },
    {
      "cell_type": "code",
      "metadata": {
        "colab": {
          "base_uri": "https://localhost:8080/"
        },
        "id": "lzSgGXfB-xwE",
        "outputId": "2c52faa2-6cf5-4764-99eb-77bc1e3c64f7"
      },
      "source": [
        "#lets try using a higher *ideal* learning rate with the same model\n",
        "tf.random.set_seed(42)\n",
        "model_10 = tf.keras.Sequential([\n",
        "                               tf.keras.layers.Dense(4,activation='relu'),\n",
        "                               tf.keras.layers.Dense(4,activation='relu'),\n",
        "                               tf.keras.layers.Dense(1,activation='sigmoid')\n",
        "])\n",
        "model_10.compile(loss='binary_crossentropy',\n",
        "                optimizer=tf.keras.optimizers.Adam(lr=0.02),\n",
        "                metrics=['accuracy'])\n",
        "\n",
        "# Fit the model with less epochs than before\n",
        "history_10 = model_10.fit(X_train,\n",
        "                        y_train,\n",
        "                        epochs=20)"
      ],
      "execution_count": 33,
      "outputs": [
        {
          "output_type": "stream",
          "text": [
            "/usr/local/lib/python3.7/dist-packages/tensorflow/python/keras/optimizer_v2/optimizer_v2.py:375: UserWarning: The `lr` argument is deprecated, use `learning_rate` instead.\n",
            "  \"The `lr` argument is deprecated, use `learning_rate` instead.\")\n"
          ],
          "name": "stderr"
        },
        {
          "output_type": "stream",
          "text": [
            "Epoch 1/20\n",
            "25/25 [==============================] - 0s 917us/step - loss: 0.6837 - accuracy: 0.5600\n",
            "Epoch 2/20\n",
            "25/25 [==============================] - 0s 1ms/step - loss: 0.6744 - accuracy: 0.5750\n",
            "Epoch 3/20\n",
            "25/25 [==============================] - 0s 818us/step - loss: 0.6626 - accuracy: 0.5875\n",
            "Epoch 4/20\n",
            "25/25 [==============================] - 0s 817us/step - loss: 0.6332 - accuracy: 0.6388\n",
            "Epoch 5/20\n",
            "25/25 [==============================] - 0s 797us/step - loss: 0.5830 - accuracy: 0.7563\n",
            "Epoch 6/20\n",
            "25/25 [==============================] - 0s 875us/step - loss: 0.4907 - accuracy: 0.8313\n",
            "Epoch 7/20\n",
            "25/25 [==============================] - 0s 873us/step - loss: 0.4251 - accuracy: 0.8450\n",
            "Epoch 8/20\n",
            "25/25 [==============================] - 0s 932us/step - loss: 0.3596 - accuracy: 0.8875\n",
            "Epoch 9/20\n",
            "25/25 [==============================] - 0s 940us/step - loss: 0.3152 - accuracy: 0.9100\n",
            "Epoch 10/20\n",
            "25/25 [==============================] - 0s 887us/step - loss: 0.2512 - accuracy: 0.9500\n",
            "Epoch 11/20\n",
            "25/25 [==============================] - 0s 932us/step - loss: 0.2152 - accuracy: 0.9500\n",
            "Epoch 12/20\n",
            "25/25 [==============================] - 0s 872us/step - loss: 0.1721 - accuracy: 0.9750\n",
            "Epoch 13/20\n",
            "25/25 [==============================] - 0s 1ms/step - loss: 0.1443 - accuracy: 0.9837\n",
            "Epoch 14/20\n",
            "25/25 [==============================] - 0s 1ms/step - loss: 0.1232 - accuracy: 0.9862\n",
            "Epoch 15/20\n",
            "25/25 [==============================] - 0s 871us/step - loss: 0.1085 - accuracy: 0.9850\n",
            "Epoch 16/20\n",
            "25/25 [==============================] - 0s 916us/step - loss: 0.0940 - accuracy: 0.9937\n",
            "Epoch 17/20\n",
            "25/25 [==============================] - 0s 897us/step - loss: 0.0827 - accuracy: 0.9962\n",
            "Epoch 18/20\n",
            "25/25 [==============================] - 0s 843us/step - loss: 0.0798 - accuracy: 0.9937\n",
            "Epoch 19/20\n",
            "25/25 [==============================] - 0s 923us/step - loss: 0.0845 - accuracy: 0.9875\n",
            "Epoch 20/20\n",
            "25/25 [==============================] - 0s 871us/step - loss: 0.0790 - accuracy: 0.9887\n"
          ],
          "name": "stdout"
        }
      ]
    },
    {
      "cell_type": "code",
      "metadata": {
        "colab": {
          "base_uri": "https://localhost:8080/"
        },
        "id": "-cqEApARDV6E",
        "outputId": "4f978ef4-db4c-466e-98a6-823abbe9da38"
      },
      "source": [
        "# evaluate model 10 on the test dataset\n",
        "model_10.evaluate(X_test,y_test)"
      ],
      "execution_count": 34,
      "outputs": [
        {
          "output_type": "stream",
          "text": [
            "7/7 [==============================] - 0s 1ms/step - loss: 0.0574 - accuracy: 0.9900\n"
          ],
          "name": "stdout"
        },
        {
          "output_type": "execute_result",
          "data": {
            "text/plain": [
              "[0.05740182101726532, 0.9900000095367432]"
            ]
          },
          "metadata": {
            "tags": []
          },
          "execution_count": 34
        }
      ]
    },
    {
      "cell_type": "code",
      "metadata": {
        "colab": {
          "base_uri": "https://localhost:8080/",
          "height": 424
        },
        "id": "yMEiIAqDD8Md",
        "outputId": "926b5095-48ec-43c4-8d8c-38bf9c79fdc5"
      },
      "source": [
        "# plot the decision boundaryies for the training and test sets\n",
        "plt.figure(figsize=(12,6))\n",
        "plt.subplot(1,2,1)\n",
        "plt.title(\"Train\")\n",
        "plot_decision_boundary(model_10, X=X_train, y=y_train)\n",
        "plt.subplot(1,2,2)\n",
        "plt.title(\"test\")\n",
        "plot_decision_boundary(model_10, X=X_test, y=y_test)\n",
        "plt.show()"
      ],
      "execution_count": 35,
      "outputs": [
        {
          "output_type": "stream",
          "text": [
            "doing binary classification\n",
            "doing binary classification\n"
          ],
          "name": "stdout"
        },
        {
          "output_type": "display_data",
          "data": {
            "image/png": "[encoded data removed]",
            "text/plain": [
              "<Figure size 864x432 with 2 Axes>"
            ]
          },
          "metadata": {
            "tags": [],
            "needs_background": "light"
          }
        }
      ]
    },
    {
      "cell_type": "code",
      "metadata": {
        "colab": {
          "base_uri": "https://localhost:8080/"
        },
        "id": "IFnQM2L2E7IZ",
        "outputId": "46acfb72-e524-4c13-ac78-2d63d6cbef3b"
      },
      "source": [
        "# check the accuracy of our model\n",
        "loss, accuracy = model_10.evaluate(X_test,y_test)\n",
        "print(f\"Model loss on the test set:{loss}\")\n",
        "print(f\"Model accuracy on the test set:{accuracy*100:.2f}%\")"
      ],
      "execution_count": 36,
      "outputs": [
        {
          "output_type": "stream",
          "text": [
            "7/7 [==============================] - 0s 2ms/step - loss: 0.0574 - accuracy: 0.9900\n",
            "Model loss on the test set:0.05740182101726532\n",
            "Model accuracy on the test set:99.00%\n"
          ],
          "name": "stdout"
        }
      ]
    },
    {
      "cell_type": "code",
      "metadata": {
        "colab": {
          "base_uri": "https://localhost:8080/"
        },
        "id": "07saKoGFLiui",
        "outputId": "17b93214-a0b0-4ddb-e9ae-d8933f85d56a"
      },
      "source": [
        "model_10.evaluate(X_test,y_test)"
      ],
      "execution_count": 37,
      "outputs": [
        {
          "output_type": "stream",
          "text": [
            "7/7 [==============================] - 0s 1ms/step - loss: 0.0574 - accuracy: 0.9900\n"
          ],
          "name": "stdout"
        },
        {
          "output_type": "execute_result",
          "data": {
            "text/plain": [
              "[0.05740182101726532, 0.9900000095367432]"
            ]
          },
          "metadata": {
            "tags": []
          },
          "execution_count": 37
        }
      ]
    },
    {
      "cell_type": "markdown",
      "metadata": {
        "id": "-oF-xeXFPPYk"
      },
      "source": [
        "# confusion matrix"
      ]
    },
    {
      "cell_type": "code",
      "metadata": {
        "colab": {
          "base_uri": "https://localhost:8080/",
          "height": 340
        },
        "id": "xLtG164PUvNb",
        "outputId": "39e8d601-1f70-46dc-afa0-ae8a89fe6336"
      },
      "source": [
        "from sklearn.metrics import confusion_matrix\n",
        "# make predictions\n",
        "y_preds=model_10.predict(X_test)\n",
        "# create confusion matrix\n",
        "confusion_matrix(y_test,y_preds)"
      ],
      "execution_count": 38,
      "outputs": [
        {
          "output_type": "error",
          "ename": "ValueError",
          "evalue": "ignored",
          "traceback": [
            "\u001b[0;31m---------------------------------------------------------------------------\u001b[0m",
            "\u001b[0;31mValueError\u001b[0m                                Traceback (most recent call last)",
            "\u001b[0;32m<ipython-input-38-a08b90b3d8d6>\u001b[0m in \u001b[0;36m<module>\u001b[0;34m()\u001b[0m\n\u001b[1;32m      3\u001b[0m \u001b[0my_preds\u001b[0m\u001b[0;34m=\u001b[0m\u001b[0mmodel_10\u001b[0m\u001b[0;34m.\u001b[0m\u001b[0mpredict\u001b[0m\u001b[0;34m(\u001b[0m\u001b[0mX_test\u001b[0m\u001b[0;34m)\u001b[0m\u001b[0;34m\u001b[0m\u001b[0;34m\u001b[0m\u001b[0m\n\u001b[1;32m      4\u001b[0m \u001b[0;31m# create confusion matrix\u001b[0m\u001b[0;34m\u001b[0m\u001b[0;34m\u001b[0m\u001b[0;34m\u001b[0m\u001b[0m\n\u001b[0;32m----> 5\u001b[0;31m \u001b[0mconfusion_matrix\u001b[0m\u001b[0;34m(\u001b[0m\u001b[0my_test\u001b[0m\u001b[0;34m,\u001b[0m\u001b[0my_preds\u001b[0m\u001b[0;34m)\u001b[0m\u001b[0;34m\u001b[0m\u001b[0;34m\u001b[0m\u001b[0m\n\u001b[0m",
            "\u001b[0;32m/usr/local/lib/python3.7/dist-packages/sklearn/metrics/_classification.py\u001b[0m in \u001b[0;36mconfusion_matrix\u001b[0;34m(y_true, y_pred, labels, sample_weight, normalize)\u001b[0m\n\u001b[1;32m    266\u001b[0m \u001b[0;34m\u001b[0m\u001b[0m\n\u001b[1;32m    267\u001b[0m     \"\"\"\n\u001b[0;32m--> 268\u001b[0;31m     \u001b[0my_type\u001b[0m\u001b[0;34m,\u001b[0m \u001b[0my_true\u001b[0m\u001b[0;34m,\u001b[0m \u001b[0my_pred\u001b[0m \u001b[0;34m=\u001b[0m \u001b[0m_check_targets\u001b[0m\u001b[0;34m(\u001b[0m\u001b[0my_true\u001b[0m\u001b[0;34m,\u001b[0m \u001b[0my_pred\u001b[0m\u001b[0;34m)\u001b[0m\u001b[0;34m\u001b[0m\u001b[0;34m\u001b[0m\u001b[0m\n\u001b[0m\u001b[1;32m    269\u001b[0m     \u001b[0;32mif\u001b[0m \u001b[0my_type\u001b[0m \u001b[0;32mnot\u001b[0m \u001b[0;32min\u001b[0m \u001b[0;34m(\u001b[0m\u001b[0;34m\"binary\"\u001b[0m\u001b[0;34m,\u001b[0m \u001b[0;34m\"multiclass\"\u001b[0m\u001b[0;34m)\u001b[0m\u001b[0;34m:\u001b[0m\u001b[0;34m\u001b[0m\u001b[0;34m\u001b[0m\u001b[0m\n\u001b[1;32m    270\u001b[0m         \u001b[0;32mraise\u001b[0m \u001b[0mValueError\u001b[0m\u001b[0;34m(\u001b[0m\u001b[0;34m\"%s is not supported\"\u001b[0m \u001b[0;34m%\u001b[0m \u001b[0my_type\u001b[0m\u001b[0;34m)\u001b[0m\u001b[0;34m\u001b[0m\u001b[0;34m\u001b[0m\u001b[0m\n",
            "\u001b[0;32m/usr/local/lib/python3.7/dist-packages/sklearn/metrics/_classification.py\u001b[0m in \u001b[0;36m_check_targets\u001b[0;34m(y_true, y_pred)\u001b[0m\n\u001b[1;32m     88\u001b[0m     \u001b[0;32mif\u001b[0m \u001b[0mlen\u001b[0m\u001b[0;34m(\u001b[0m\u001b[0my_type\u001b[0m\u001b[0;34m)\u001b[0m \u001b[0;34m>\u001b[0m \u001b[0;36m1\u001b[0m\u001b[0;34m:\u001b[0m\u001b[0;34m\u001b[0m\u001b[0;34m\u001b[0m\u001b[0m\n\u001b[1;32m     89\u001b[0m         raise ValueError(\"Classification metrics can't handle a mix of {0} \"\n\u001b[0;32m---> 90\u001b[0;31m                          \"and {1} targets\".format(type_true, type_pred))\n\u001b[0m\u001b[1;32m     91\u001b[0m \u001b[0;34m\u001b[0m\u001b[0m\n\u001b[1;32m     92\u001b[0m     \u001b[0;31m# We can't have more than one value on y_type => The set is no more needed\u001b[0m\u001b[0;34m\u001b[0m\u001b[0;34m\u001b[0m\u001b[0;34m\u001b[0m\u001b[0m\n",
            "\u001b[0;31mValueError\u001b[0m: Classification metrics can't handle a mix of binary and continuous targets"
          ]
        }
      ]
    },
    {
      "cell_type": "code",
      "metadata": {
        "id": "93O1SAySVKnL"
      },
      "source": [
        "y_test[:10]"
      ],
      "execution_count": null,
      "outputs": []
    },
    {
      "cell_type": "code",
      "metadata": {
        "id": "35kB8_nlVhTT"
      },
      "source": [
        "y_preds[:10]"
      ],
      "execution_count": null,
      "outputs": []
    },
    {
      "cell_type": "markdown",
      "metadata": {
        "id": "rtah--9tVibV"
      },
      "source": [
        "oops looks like our predictions array has come out in prediction_probability form.the standard output from the sigmoid(or softmax)activation functions"
      ]
    },
    {
      "cell_type": "code",
      "metadata": {
        "id": "vSXNIhonWCqo"
      },
      "source": [
        "#convert prediction probability into binary formats\n",
        "tf.round(y_preds)[:10]"
      ],
      "execution_count": null,
      "outputs": []
    },
    {
      "cell_type": "code",
      "metadata": {
        "id": "heNdY1I8WleM"
      },
      "source": [
        "# create confusion matrix\n",
        "confusion_matrix(y_test,tf.round(y_preds))"
      ],
      "execution_count": null,
      "outputs": []
    },
    {
      "cell_type": "markdown",
      "metadata": {
        "id": "PO6y5d5hW3pI"
      },
      "source": [
        "how about we prettify our confusion matrix"
      ]
    },
    {
      "cell_type": "code",
      "metadata": {
        "id": "IIChzdkWXccW"
      },
      "source": [
        "# the confusion matrix code we're about to write is a remix of scikit-learn's plot_confusion_matrix\n",
        "import itertools\n",
        "figsize=(10,10)\n",
        "# create the confusion matrix\n",
        "cm = confusion_matrix(y_test,tf.round(y_preds))\n",
        "cm_norm = cm.astype('float') / cm.sum(axis=1)[:,np.newaxis] # Normalize our confusion matrix\n",
        "n_classes = cm.shape[0]\n",
        "\n",
        "#lets prettify it\n",
        "fig,ax = plt.subplots(figsize=figsize)\n",
        "# create a matrix plot\n",
        "cax = ax.matshow(cm, cmap=plt.cm.Blues)\n",
        "fig.colorbar(cax)\n",
        "# create classes\n",
        "classes = False\n",
        "if classes:\n",
        "    labels = classes\n",
        "else:\n",
        "    labels = np.arange(cm.shape[0])\n",
        "# Label the axes \n",
        "ax.set(title ='confusion Matrix',\n",
        "       xlabel='Predicted label',\n",
        "       ylabel=\"True label\",\n",
        "       xticks=np.arange(n_classes),\n",
        "       yticks=np.arange(n_classes),\n",
        "       xticklabels=labels,\n",
        "       yticklabels=labels)\n",
        "\n",
        "# Set the threshold for different colors\n",
        "threshold = (cm.max() + cm.min()) / 2\n",
        "#plot the text on each cell\n",
        "for i, j in itertools.product(range(cm.shape[0]), range(cm.shape[1])):\n",
        "    plt.text(j, i, f\"{cm[i,j]} ({cm_norm[i, j]*100:.1f}%)\",\n",
        "    horizontalalignment='center',\n",
        "    color='white' if cm[i, j]> threshold else 'black',\n",
        "    size=15)\n",
        "    "
      ],
      "execution_count": null,
      "outputs": []
    },
    {
      "cell_type": "code",
      "metadata": {
        "id": "nZz3cnNQZFc7"
      },
      "source": [
        "cm_norm"
      ],
      "execution_count": null,
      "outputs": []
    },
    {
      "cell_type": "code",
      "metadata": {
        "id": "lnBzSPbkZHHz"
      },
      "source": [
        "cm"
      ],
      "execution_count": null,
      "outputs": []
    },
    {
      "cell_type": "code",
      "metadata": {
        "id": "zGDdxyjPZKjN"
      },
      "source": [
        "cm.sum(axis=1)[:,np.newaxis]"
      ],
      "execution_count": null,
      "outputs": []
    },
    {
      "cell_type": "code",
      "metadata": {
        "id": "aPQe2vZAZUk-"
      },
      "source": [
        "cm.sum(axis=1)"
      ],
      "execution_count": null,
      "outputs": []
    },
    {
      "cell_type": "code",
      "metadata": {
        "id": "qLUJRyrAZlag"
      },
      "source": [
        "cm.sum(axis=0)"
      ],
      "execution_count": null,
      "outputs": []
    },
    {
      "cell_type": "code",
      "metadata": {
        "id": "bOn8ddBvZ0uS"
      },
      "source": [
        "cm.sum(axis=1)[np.newaxis,:]"
      ],
      "execution_count": null,
      "outputs": []
    },
    {
      "cell_type": "code",
      "metadata": {
        "id": "_X7kg2X2Z-Z7"
      },
      "source": [
        ""
      ],
      "execution_count": null,
      "outputs": []
    }
  ]
}